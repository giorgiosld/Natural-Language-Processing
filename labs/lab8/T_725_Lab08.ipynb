{
  "nbformat": 4,
  "nbformat_minor": 0,
  "metadata": {
    "colab": {
      "provenance": [],
      "include_colab_link": true
    },
    "kernelspec": {
      "name": "python3",
      "display_name": "Python 3"
    }
  },
  "cells": [
    {
      "cell_type": "markdown",
      "metadata": {
        "id": "view-in-github",
        "colab_type": "text"
      },
      "source": [
        "<a href=\"https://colab.research.google.com/github/giorgiosld/Natural-Language-Processing/blob/main/labs/lab8/T_725_Lab08.ipynb\" target=\"_parent\"><img src=\"https://colab.research.google.com/assets/colab-badge.svg\" alt=\"Open In Colab\"/></a>"
      ]
    },
    {
      "cell_type": "markdown",
      "metadata": {
        "id": "otXzaijYhN9A"
      },
      "source": [
        "# T-725 Natural Language Processing: Lab 8\n",
        "In today's lab, we will be working with named entity recognition and information extraction.\n",
        "\n",
        "To begin with, do the following:\n",
        "* Select `\"File\" > \"Save a copy in Drive\"` to create a local copy of this notebook that you can edit.\n",
        "* Select `\"Runtime\" > \"Run all\"` to run the code in this notebook."
      ]
    },
    {
      "cell_type": "code",
      "metadata": {
        "id": "detFWJ_K3a2s",
        "outputId": "1e481e12-320a-437c-dbdf-9591db7b4c5f",
        "colab": {
          "base_uri": "https://localhost:8080/"
        }
      },
      "source": [
        "import nltk\n",
        "nltk.download('maxent_ne_chunker')\n",
        "nltk.download('words')\n",
        "nltk.download('punkt')\n",
        "nltk.download('averaged_perceptron_tagger')"
      ],
      "execution_count": 1,
      "outputs": [
        {
          "output_type": "stream",
          "name": "stderr",
          "text": [
            "[nltk_data] Downloading package maxent_ne_chunker to\n",
            "[nltk_data]     /root/nltk_data...\n",
            "[nltk_data]   Unzipping chunkers/maxent_ne_chunker.zip.\n",
            "[nltk_data] Downloading package words to /root/nltk_data...\n",
            "[nltk_data]   Unzipping corpora/words.zip.\n",
            "[nltk_data] Downloading package punkt to /root/nltk_data...\n",
            "[nltk_data]   Unzipping tokenizers/punkt.zip.\n",
            "[nltk_data] Downloading package averaged_perceptron_tagger to\n",
            "[nltk_data]     /root/nltk_data...\n",
            "[nltk_data]   Unzipping taggers/averaged_perceptron_tagger.zip.\n"
          ]
        },
        {
          "output_type": "execute_result",
          "data": {
            "text/plain": [
              "True"
            ]
          },
          "metadata": {},
          "execution_count": 1
        }
      ]
    },
    {
      "cell_type": "markdown",
      "metadata": {
        "id": "G-iYPlKHMZtT"
      },
      "source": [
        "## Named entity recognition\n",
        "NLTK includes a classifier for tagging named entities, which is described in [Chapter 7.5](https://www.nltk.org/book/ch07.html#sec-ner) of the NLTK book."
      ]
    },
    {
      "cell_type": "code",
      "metadata": {
        "id": "RrCifMSL627g",
        "outputId": "14b903a4-f622-4a96-d731-9c54cb0bb67d",
        "colab": {
          "base_uri": "https://localhost:8080/"
        }
      },
      "source": [
        "sent = \"\"\"The 2020 Nobel Prize in Physics is awarded to Roger Penrose, Reinhard\n",
        "Genzel and Andrea Ghez for their work on black holes.\"\"\"\n",
        "\n",
        "sent_tokens = nltk.word_tokenize(sent)\n",
        "sent_tagged = nltk.pos_tag(sent_tokens)\n",
        "sent_ner = nltk.ne_chunk(sent_tagged)\n",
        "\n",
        "print(sent_ner)"
      ],
      "execution_count": 2,
      "outputs": [
        {
          "output_type": "stream",
          "name": "stdout",
          "text": [
            "(S\n",
            "  The/DT\n",
            "  2020/CD\n",
            "  Nobel/NNP\n",
            "  Prize/NNP\n",
            "  in/IN\n",
            "  (GPE Physics/NNP)\n",
            "  is/VBZ\n",
            "  awarded/VBN\n",
            "  to/TO\n",
            "  (PERSON Roger/NNP Penrose/NNP)\n",
            "  ,/,\n",
            "  (PERSON Reinhard/NNP Genzel/NNP)\n",
            "  and/CC\n",
            "  (PERSON Andrea/NNP Ghez/NNP)\n",
            "  for/IN\n",
            "  their/PRP$\n",
            "  work/NN\n",
            "  on/IN\n",
            "  black/JJ\n",
            "  holes/NNS\n",
            "  ./.)\n"
          ]
        }
      ]
    },
    {
      "cell_type": "markdown",
      "metadata": {
        "id": "hsgZHcvZIa46"
      },
      "source": [
        "The NLTK book shows a list of commonly used named entity categories along with examples:\n",
        "\n",
        "NE Type | Examples\n",
        "--- | ---\n",
        "ORGANIZATION | Georgia-Pacific Corp., WHO\n",
        "PERSON | Eddy Bonte, President Obama\n",
        "LOCATION | Murray River, Mount Everest\n",
        "DATE | June, 2008-06-29\n",
        "TIME | two fifty a m, 1:30 p.m.\n",
        "MONEY | 175 million Canadian Dollars, GBP 10.40\n",
        "PERCENT | twenty pct, 18.75 %\n",
        "FACILITY | Washington Monument, Stonehenge\n",
        "GPE | South East Asia, Midlothian"
      ]
    },
    {
      "cell_type": "markdown",
      "metadata": {
        "id": "AUn6IJX0hOqA"
      },
      "source": [
        "# Assignment\n",
        "Answer the following questions and hand in your solution in Canvas before 23:59, October 18th. Remember to save your file before uploading it."
      ]
    },
    {
      "cell_type": "markdown",
      "metadata": {
        "id": "UeUG6lCihPrC"
      },
      "source": [
        "## Question 1\n",
        "Use `nltk.ne_chunk(tagged_sentence)` to identify the named entities in the sentences below. Note that you have to tokenize and tag the sentences first.\n",
        "\n",
        "(a) Print out and review the trees.\n",
        "\n",
        "(b) Find at least one error and leave a description of it as a comment or in a text cell below."
      ]
    },
    {
      "cell_type": "code",
      "metadata": {
        "id": "kimEISKwjmY2"
      },
      "source": [
        "# On this day, October 16th (from https://en.wikipedia.org/wiki/October_16):\n",
        "sentences = [\n",
        "    \"1813 – The Sixth Coalition attacks Napoleon in the three-day Battle of Leipzig.\",\n",
        "    \"1923 – The Walt Disney Company is founded.\",\n",
        "    \"1968 – Yasunari Kawabata becomes the first Japanese person to be awarded the Nobel Prize in Literature.\",\n",
        "    \"1975 – Three-year-old Rahima Banu, from Bangladesh, is the last known case of naturally occurring smallpox.\",\n",
        "    \"2002 – The Bibliotheca Alexandrina opens in Egypt, commemorating the ancient library of Alexandria.\"\n",
        "]\n"
      ],
      "execution_count": 3,
      "outputs": []
    },
    {
      "cell_type": "code",
      "source": [
        "# Your solution here\n",
        "\n",
        "sentence_token = [nltk.word_tokenize(sentence) for sentence in sentences]\n",
        "sentence_tagged = [nltk.pos_tag(tokenized_sentence) for tokenized_sentence in sentence_token]\n",
        "\n",
        "for sentence in sentence_tagged:\n",
        "    sentence_ner = nltk.ne_chunk(sentence)\n",
        "    print(sentence_ner)\n"
      ],
      "metadata": {
        "id": "w_Q17RSI6OkJ",
        "outputId": "1d0852e5-4ac1-4a26-92c7-d8f35be32c9d",
        "colab": {
          "base_uri": "https://localhost:8080/"
        }
      },
      "execution_count": 15,
      "outputs": [
        {
          "output_type": "stream",
          "name": "stdout",
          "text": [
            "(S\n",
            "  1813/CD\n",
            "  –/VBZ\n",
            "  The/DT\n",
            "  (ORGANIZATION Sixth/JJ Coalition/NNP)\n",
            "  attacks/NNS\n",
            "  Napoleon/NNP\n",
            "  in/IN\n",
            "  the/DT\n",
            "  three-day/JJ\n",
            "  Battle/NNP\n",
            "  of/IN\n",
            "  (GPE Leipzig/NNP)\n",
            "  ./.)\n",
            "(S\n",
            "  1923/CD\n",
            "  –/VBZ\n",
            "  The/DT\n",
            "  (ORGANIZATION Walt/NNP Disney/NNP Company/NNP)\n",
            "  is/VBZ\n",
            "  founded/VBN\n",
            "  ./.)\n",
            "(S\n",
            "  1968/CD\n",
            "  –/NNP\n",
            "  Yasunari/NNP\n",
            "  Kawabata/NNP\n",
            "  becomes/VBZ\n",
            "  the/DT\n",
            "  first/JJ\n",
            "  (GPE Japanese/JJ)\n",
            "  person/NN\n",
            "  to/TO\n",
            "  be/VB\n",
            "  awarded/VBN\n",
            "  the/DT\n",
            "  (ORGANIZATION Nobel/NNP Prize/NNP)\n",
            "  in/IN\n",
            "  (GPE Literature/NNP)\n",
            "  ./.)\n",
            "(S\n",
            "  1975/CD\n",
            "  –/JJ\n",
            "  Three-year-old/NNP\n",
            "  (PERSON Rahima/NNP Banu/NNP)\n",
            "  ,/,\n",
            "  from/IN\n",
            "  (GPE Bangladesh/NNP)\n",
            "  ,/,\n",
            "  is/VBZ\n",
            "  the/DT\n",
            "  last/JJ\n",
            "  known/JJ\n",
            "  case/NN\n",
            "  of/IN\n",
            "  naturally/RB\n",
            "  occurring/VBG\n",
            "  smallpox/NN\n",
            "  ./.)\n",
            "(S\n",
            "  2002/CD\n",
            "  –/VBZ\n",
            "  The/DT\n",
            "  (ORGANIZATION Bibliotheca/NNP Alexandrina/NNP)\n",
            "  opens/VBZ\n",
            "  in/IN\n",
            "  (GPE Egypt/NNP)\n",
            "  ,/,\n",
            "  commemorating/VBG\n",
            "  the/DT\n",
            "  ancient/JJ\n",
            "  library/NN\n",
            "  of/IN\n",
            "  (GPE Alexandria/NNP)\n",
            "  ./.)\n"
          ]
        }
      ]
    },
    {
      "cell_type": "markdown",
      "source": [
        "**Literature** in the third sentence is incorrectly tagged as a GPE. It should be left untagged or considered as a field of study."
      ],
      "metadata": {
        "id": "-28Uie5SdsL2"
      }
    },
    {
      "cell_type": "markdown",
      "metadata": {
        "id": "n-fhUl__hQGf"
      },
      "source": [
        "## Question 2\n",
        "[SpaCy](https://spacy.io/) is another NLP library for Python. Try out its named entity recognition system on the sentences in Question 1.\n",
        "\n",
        "Answer the following questions in a text cell below:\n",
        "\n",
        "(a) Does it repeat any of the mistakes that NLTK makes?\n",
        "\n",
        "(b) Does it make any errors that NLTK doesn't?"
      ]
    },
    {
      "cell_type": "code",
      "metadata": {
        "id": "usQVjoi675de",
        "outputId": "0127812a-c5a4-4631-d3d8-b9f4ac8f9018",
        "colab": {
          "base_uri": "https://localhost:8080/",
          "height": 87
        }
      },
      "source": [
        "import spacy\n",
        "from spacy import displacy\n",
        "import en_core_web_sm\n",
        "\n",
        "nlp = en_core_web_sm.load()\n",
        "\n",
        "# Example\n",
        "text = \"\"\"The 2020 Nobel Prize in Physics is awarded to Roger Penrose, Reinhard\n",
        "Genzel and Andrea Ghez for their work on black holes.\"\"\"\n",
        "\n",
        "doc = nlp(text)\n",
        "displacy.render(doc, style=\"ent\", jupyter=True)"
      ],
      "execution_count": 5,
      "outputs": [
        {
          "output_type": "display_data",
          "data": {
            "text/plain": [
              "<IPython.core.display.HTML object>"
            ],
            "text/html": [
              "<span class=\"tex2jax_ignore\"><div class=\"entities\" style=\"line-height: 2.5; direction: ltr\">The \n",
              "<mark class=\"entity\" style=\"background: #bfe1d9; padding: 0.45em 0.6em; margin: 0 0.25em; line-height: 1; border-radius: 0.35em;\">\n",
              "    2020\n",
              "    <span style=\"font-size: 0.8em; font-weight: bold; line-height: 1; border-radius: 0.35em; vertical-align: middle; margin-left: 0.5rem\">DATE</span>\n",
              "</mark>\n",
              " \n",
              "<mark class=\"entity\" style=\"background: #f0d0ff; padding: 0.45em 0.6em; margin: 0 0.25em; line-height: 1; border-radius: 0.35em;\">\n",
              "    Nobel Prize in Physics\n",
              "    <span style=\"font-size: 0.8em; font-weight: bold; line-height: 1; border-radius: 0.35em; vertical-align: middle; margin-left: 0.5rem\">WORK_OF_ART</span>\n",
              "</mark>\n",
              " is awarded to \n",
              "<mark class=\"entity\" style=\"background: #aa9cfc; padding: 0.45em 0.6em; margin: 0 0.25em; line-height: 1; border-radius: 0.35em;\">\n",
              "    Roger Penrose\n",
              "    <span style=\"font-size: 0.8em; font-weight: bold; line-height: 1; border-radius: 0.35em; vertical-align: middle; margin-left: 0.5rem\">PERSON</span>\n",
              "</mark>\n",
              ", \n",
              "<mark class=\"entity\" style=\"background: #7aecec; padding: 0.45em 0.6em; margin: 0 0.25em; line-height: 1; border-radius: 0.35em;\">\n",
              "    Reinhard\n",
              "Genzel\n",
              "    <span style=\"font-size: 0.8em; font-weight: bold; line-height: 1; border-radius: 0.35em; vertical-align: middle; margin-left: 0.5rem\">ORG</span>\n",
              "</mark>\n",
              " and \n",
              "<mark class=\"entity\" style=\"background: #aa9cfc; padding: 0.45em 0.6em; margin: 0 0.25em; line-height: 1; border-radius: 0.35em;\">\n",
              "    Andrea Ghez\n",
              "    <span style=\"font-size: 0.8em; font-weight: bold; line-height: 1; border-radius: 0.35em; vertical-align: middle; margin-left: 0.5rem\">PERSON</span>\n",
              "</mark>\n",
              " for their work on black holes.</div></span>"
            ]
          },
          "metadata": {}
        }
      ]
    },
    {
      "cell_type": "code",
      "metadata": {
        "id": "Q4MOp81wydWL",
        "outputId": "e616a6d8-66f9-4a01-c15f-8cae88b1dca3",
        "colab": {
          "base_uri": "https://localhost:8080/",
          "height": 262
        }
      },
      "source": [
        "# Your solution here\n",
        "docs = [nlp(text) for text in sentences]\n",
        "\n",
        "for doc in docs:\n",
        "    displacy.render(doc, style=\"ent\", jupyter=True)"
      ],
      "execution_count": 16,
      "outputs": [
        {
          "output_type": "display_data",
          "data": {
            "text/plain": [
              "<IPython.core.display.HTML object>"
            ],
            "text/html": [
              "<span class=\"tex2jax_ignore\"><div class=\"entities\" style=\"line-height: 2.5; direction: ltr\">\n",
              "<mark class=\"entity\" style=\"background: #bfe1d9; padding: 0.45em 0.6em; margin: 0 0.25em; line-height: 1; border-radius: 0.35em;\">\n",
              "    1813\n",
              "    <span style=\"font-size: 0.8em; font-weight: bold; line-height: 1; border-radius: 0.35em; vertical-align: middle; margin-left: 0.5rem\">DATE</span>\n",
              "</mark>\n",
              " – The \n",
              "<mark class=\"entity\" style=\"background: #e4e7d2; padding: 0.45em 0.6em; margin: 0 0.25em; line-height: 1; border-radius: 0.35em;\">\n",
              "    Sixth\n",
              "    <span style=\"font-size: 0.8em; font-weight: bold; line-height: 1; border-radius: 0.35em; vertical-align: middle; margin-left: 0.5rem\">ORDINAL</span>\n",
              "</mark>\n",
              " Coalition attacks \n",
              "<mark class=\"entity\" style=\"background: #7aecec; padding: 0.45em 0.6em; margin: 0 0.25em; line-height: 1; border-radius: 0.35em;\">\n",
              "    Napoleon\n",
              "    <span style=\"font-size: 0.8em; font-weight: bold; line-height: 1; border-radius: 0.35em; vertical-align: middle; margin-left: 0.5rem\">ORG</span>\n",
              "</mark>\n",
              " in the \n",
              "<mark class=\"entity\" style=\"background: #bfe1d9; padding: 0.45em 0.6em; margin: 0 0.25em; line-height: 1; border-radius: 0.35em;\">\n",
              "    three-day\n",
              "    <span style=\"font-size: 0.8em; font-weight: bold; line-height: 1; border-radius: 0.35em; vertical-align: middle; margin-left: 0.5rem\">DATE</span>\n",
              "</mark>\n",
              " \n",
              "<mark class=\"entity\" style=\"background: #feca74; padding: 0.45em 0.6em; margin: 0 0.25em; line-height: 1; border-radius: 0.35em;\">\n",
              "    Battle of Leipzig\n",
              "    <span style=\"font-size: 0.8em; font-weight: bold; line-height: 1; border-radius: 0.35em; vertical-align: middle; margin-left: 0.5rem\">GPE</span>\n",
              "</mark>\n",
              ".</div></span>"
            ]
          },
          "metadata": {}
        },
        {
          "output_type": "display_data",
          "data": {
            "text/plain": [
              "<IPython.core.display.HTML object>"
            ],
            "text/html": [
              "<span class=\"tex2jax_ignore\"><div class=\"entities\" style=\"line-height: 2.5; direction: ltr\">\n",
              "<mark class=\"entity\" style=\"background: #bfe1d9; padding: 0.45em 0.6em; margin: 0 0.25em; line-height: 1; border-radius: 0.35em;\">\n",
              "    1923\n",
              "    <span style=\"font-size: 0.8em; font-weight: bold; line-height: 1; border-radius: 0.35em; vertical-align: middle; margin-left: 0.5rem\">DATE</span>\n",
              "</mark>\n",
              " – \n",
              "<mark class=\"entity\" style=\"background: #7aecec; padding: 0.45em 0.6em; margin: 0 0.25em; line-height: 1; border-radius: 0.35em;\">\n",
              "    The Walt Disney Company\n",
              "    <span style=\"font-size: 0.8em; font-weight: bold; line-height: 1; border-radius: 0.35em; vertical-align: middle; margin-left: 0.5rem\">ORG</span>\n",
              "</mark>\n",
              " is founded.</div></span>"
            ]
          },
          "metadata": {}
        },
        {
          "output_type": "display_data",
          "data": {
            "text/plain": [
              "<IPython.core.display.HTML object>"
            ],
            "text/html": [
              "<span class=\"tex2jax_ignore\"><div class=\"entities\" style=\"line-height: 2.5; direction: ltr\">\n",
              "<mark class=\"entity\" style=\"background: #bfe1d9; padding: 0.45em 0.6em; margin: 0 0.25em; line-height: 1; border-radius: 0.35em;\">\n",
              "    1968\n",
              "    <span style=\"font-size: 0.8em; font-weight: bold; line-height: 1; border-radius: 0.35em; vertical-align: middle; margin-left: 0.5rem\">DATE</span>\n",
              "</mark>\n",
              " – \n",
              "<mark class=\"entity\" style=\"background: #aa9cfc; padding: 0.45em 0.6em; margin: 0 0.25em; line-height: 1; border-radius: 0.35em;\">\n",
              "    Yasunari Kawabata\n",
              "    <span style=\"font-size: 0.8em; font-weight: bold; line-height: 1; border-radius: 0.35em; vertical-align: middle; margin-left: 0.5rem\">PERSON</span>\n",
              "</mark>\n",
              " becomes the \n",
              "<mark class=\"entity\" style=\"background: #e4e7d2; padding: 0.45em 0.6em; margin: 0 0.25em; line-height: 1; border-radius: 0.35em;\">\n",
              "    first\n",
              "    <span style=\"font-size: 0.8em; font-weight: bold; line-height: 1; border-radius: 0.35em; vertical-align: middle; margin-left: 0.5rem\">ORDINAL</span>\n",
              "</mark>\n",
              " \n",
              "<mark class=\"entity\" style=\"background: #c887fb; padding: 0.45em 0.6em; margin: 0 0.25em; line-height: 1; border-radius: 0.35em;\">\n",
              "    Japanese\n",
              "    <span style=\"font-size: 0.8em; font-weight: bold; line-height: 1; border-radius: 0.35em; vertical-align: middle; margin-left: 0.5rem\">NORP</span>\n",
              "</mark>\n",
              " person to be awarded \n",
              "<mark class=\"entity\" style=\"background: #f0d0ff; padding: 0.45em 0.6em; margin: 0 0.25em; line-height: 1; border-radius: 0.35em;\">\n",
              "    the Nobel Prize in Literature\n",
              "    <span style=\"font-size: 0.8em; font-weight: bold; line-height: 1; border-radius: 0.35em; vertical-align: middle; margin-left: 0.5rem\">WORK_OF_ART</span>\n",
              "</mark>\n",
              ".</div></span>"
            ]
          },
          "metadata": {}
        },
        {
          "output_type": "display_data",
          "data": {
            "text/plain": [
              "<IPython.core.display.HTML object>"
            ],
            "text/html": [
              "<span class=\"tex2jax_ignore\"><div class=\"entities\" style=\"line-height: 2.5; direction: ltr\">\n",
              "<mark class=\"entity\" style=\"background: #bfe1d9; padding: 0.45em 0.6em; margin: 0 0.25em; line-height: 1; border-radius: 0.35em;\">\n",
              "    1975\n",
              "    <span style=\"font-size: 0.8em; font-weight: bold; line-height: 1; border-radius: 0.35em; vertical-align: middle; margin-left: 0.5rem\">DATE</span>\n",
              "</mark>\n",
              " – \n",
              "<mark class=\"entity\" style=\"background: #bfe1d9; padding: 0.45em 0.6em; margin: 0 0.25em; line-height: 1; border-radius: 0.35em;\">\n",
              "    Three-year-old\n",
              "    <span style=\"font-size: 0.8em; font-weight: bold; line-height: 1; border-radius: 0.35em; vertical-align: middle; margin-left: 0.5rem\">DATE</span>\n",
              "</mark>\n",
              " \n",
              "<mark class=\"entity\" style=\"background: #7aecec; padding: 0.45em 0.6em; margin: 0 0.25em; line-height: 1; border-radius: 0.35em;\">\n",
              "    Rahima Banu\n",
              "    <span style=\"font-size: 0.8em; font-weight: bold; line-height: 1; border-radius: 0.35em; vertical-align: middle; margin-left: 0.5rem\">ORG</span>\n",
              "</mark>\n",
              ", from \n",
              "<mark class=\"entity\" style=\"background: #feca74; padding: 0.45em 0.6em; margin: 0 0.25em; line-height: 1; border-radius: 0.35em;\">\n",
              "    Bangladesh\n",
              "    <span style=\"font-size: 0.8em; font-weight: bold; line-height: 1; border-radius: 0.35em; vertical-align: middle; margin-left: 0.5rem\">GPE</span>\n",
              "</mark>\n",
              ", is the last known case of naturally occurring smallpox.</div></span>"
            ]
          },
          "metadata": {}
        },
        {
          "output_type": "display_data",
          "data": {
            "text/plain": [
              "<IPython.core.display.HTML object>"
            ],
            "text/html": [
              "<span class=\"tex2jax_ignore\"><div class=\"entities\" style=\"line-height: 2.5; direction: ltr\">\n",
              "<mark class=\"entity\" style=\"background: #bfe1d9; padding: 0.45em 0.6em; margin: 0 0.25em; line-height: 1; border-radius: 0.35em;\">\n",
              "    2002\n",
              "    <span style=\"font-size: 0.8em; font-weight: bold; line-height: 1; border-radius: 0.35em; vertical-align: middle; margin-left: 0.5rem\">DATE</span>\n",
              "</mark>\n",
              " – The Bibliotheca Alexandrina opens in \n",
              "<mark class=\"entity\" style=\"background: #feca74; padding: 0.45em 0.6em; margin: 0 0.25em; line-height: 1; border-radius: 0.35em;\">\n",
              "    Egypt\n",
              "    <span style=\"font-size: 0.8em; font-weight: bold; line-height: 1; border-radius: 0.35em; vertical-align: middle; margin-left: 0.5rem\">GPE</span>\n",
              "</mark>\n",
              ", commemorating the ancient library of \n",
              "<mark class=\"entity\" style=\"background: #feca74; padding: 0.45em 0.6em; margin: 0 0.25em; line-height: 1; border-radius: 0.35em;\">\n",
              "    Alexandria\n",
              "    <span style=\"font-size: 0.8em; font-weight: bold; line-height: 1; border-radius: 0.35em; vertical-align: middle; margin-left: 0.5rem\">GPE</span>\n",
              "</mark>\n",
              ".</div></span>"
            ]
          },
          "metadata": {}
        }
      ]
    },
    {
      "cell_type": "markdown",
      "source": [
        "a)\n",
        "Yes, spaCy repeats some of the mistakes that NLTK makes:\n",
        "\n",
        "\n",
        "*   In the third sentence \"the Nobel Prize in Literature\" nltk classify It as Organization and GPE, instead spaCy tag It as \"Work of Art\" misclassifing It since a Nobel Prize is an award;\n",
        "\n",
        "b)\n",
        "Yes, spaCy makes some errors that NLTK doesn't:\n",
        "\n",
        "\n",
        "*   In the first senctence spaCy tags \"Battle of Leipzig\" as GPE, instead only Leipzig should be tagged as GPE;\n",
        "\n"
      ],
      "metadata": {
        "id": "sD1iHDv8ez_U"
      }
    },
    {
      "cell_type": "markdown",
      "metadata": {
        "id": "LNnqJn93hQ4T"
      },
      "source": [
        "## Question 3\n",
        "Use regular expressions to try to find instances of the following relationships in the `reuters` corpus:\n",
        "1. Organizations or companies and their subsidiaries, divisions or parts, e.g.:\n",
        "  * *Moss Rosenberg Verft, a subsidiary of Kvaerner Industrier A/S*\n",
        "  * *Merrill Lynch Capital Partners, a unit of Merrill Lynch*\n",
        "2. Executives and the companies they work for, e.g.:\n",
        "  * *Isao Nakamura, president of Higashi Nippon*\n",
        "  *  *Henry Rosenberg, chairman of Crown Central Petroleum*\n",
        "\n",
        "Your results don't have to be perfect! Getting a few relevant matches is enough, but try to keep irrelevant results to a minimum."
      ]
    },
    {
      "cell_type": "code",
      "metadata": {
        "id": "iJcbqv1mhQjH",
        "outputId": "8dba3f48-c0f9-4343-d31b-6eda0c50aedb",
        "colab": {
          "base_uri": "https://localhost:8080/"
        }
      },
      "source": [
        "import re\n",
        "from nltk.corpus import reuters\n",
        "nltk.download('reuters')\n",
        "\n",
        "# Create a copy of the text where there's only a single space between each word\n",
        "text = \" \".join(reuters.raw().split())\n",
        "\n",
        "# Example\n",
        "for m in re.findall(r'(?: [A-Z][a-z]+)+ said it acquired (?:[A-Z][a-z]+ )+', text):\n",
        "  print(m)\n",
        "\n",
        "# Note how normal groups and non-capturing groups work with re.findall():\n",
        "# a_string = \"a a b\"\n",
        "# re.findall(r'(a )+b', a_string): ['a '] (normal group)\n",
        "# re.findall(r'(?:a )+b', a_string): ['a a b'] (non-capturing group)"
      ],
      "execution_count": 7,
      "outputs": [
        {
          "output_type": "stream",
          "name": "stderr",
          "text": [
            "[nltk_data] Downloading package reuters to /root/nltk_data...\n"
          ]
        },
        {
          "output_type": "stream",
          "name": "stdout",
          "text": [
            " Douglas Corp said it acquired Frampton Computer Services \n",
            " Corp said it acquired Private Formulations Inc \n",
            " Forstmann Little said it acquired Sybron \n",
            " Southmark Corp said it acquired Berg Ventures \n",
            " Sico said it acquired Sterling \n",
            " First Financial Management Corp said it acquired Confidata \n",
            " Philadelphia Suburban Corp said it acquired Mentor Systems \n",
            " Medar Inc said it acquired Automatic Inspection Devices \n",
            " Stryker Corp said it acquired Hexcel Medical \n",
            " Inspeech Inc said it acquired Norma Bork Associates Inc \n",
            " Olin Hunt Specialty Products Inc said it acquired Image Technology Corp \n",
            " Enro Holding Corp said it acquired Enro Shirt Co \n",
            " Seal Inc said it acquired Ademco \n"
          ]
        }
      ]
    },
    {
      "cell_type": "code",
      "metadata": {
        "id": "JLg0V1ZTE_Hi",
        "outputId": "9ea58eb4-df57-43ad-cea2-3660d5a0ef66",
        "colab": {
          "base_uri": "https://localhost:8080/"
        }
      },
      "source": [
        "print(\"\\n1. Subsidiaries\")\n",
        "for m in re.findall(r'([A-Z][a-z]+(?: [A-Z][a-z]+)*), (a (?:subsidiary|unit) of [A-Z][a-z]+(?: [A-Z][a-z]+)*)', text):\n",
        "    print(f\"{m[0]}, {m[1]}.\")\n",
        "\n",
        "print(\"\\n2. Executives\")\n",
        "for m in re.findall(r'([A-Z][a-z]+(?: [A-Z][a-z]+)*), (president|chairman) of ([A-Z][a-z]+(?: [A-Z][a-z]+)*)', text):\n",
        "    print(f\"{m[0]}, {m[1]} of {m[2]}.\")\n"
      ],
      "execution_count": 35,
      "outputs": [
        {
          "output_type": "stream",
          "name": "stdout",
          "text": [
            "\n",
            "1. Subsidiaries\n",
            "Spie Batignolles, a subsidiary of Schneider.\n",
            "James Beam Distilling Co, a unit of American Brands Inc.\n",
            "Magma Copper Co, a subsidiary of Newmont Mining Corp.\n",
            "Scallop Petroleum Corp, a subsidiary of Royal Dutch.\n",
            "Texas Pacific Oil Co Inc, a unit of Canada.\n",
            "Allied Stores Corp, a subsidiary of Campeau Corp.\n",
            "Merrill Lynch Capital Partners, a unit of Merrill Lynch.\n",
            "Reliance Financial Serivces Corp, a subsidiary of Reliance Group Holdings Inc.\n",
            "Acquisition Corp, a subsidiary of Merrill Lynch Capital Partners Inc.\n",
            "Monsanto Chemical Company, a unit of Monsanto Co.\n",
            "Poulenc Chimie, a unit of Rhone.\n",
            "Gallaher Ltd, a subsidiary of American Brands Inc.\n",
            "Algonquin Gas Transmission Co, a unit of Texas Eastern Corp.\n",
            "Kennecott Corp, a unit of British Petroleum Co.\n",
            "Chase Home Mortgage Corp, a subsidiary of Chase Manhattan Corp.\n",
            "Permian Corp, a subsidiary of National Intergroup.\n",
            "Inspiration Consolidated Copper Co, a subsidiary of Inspiration Resources Corp.\n",
            "Belcher Oil Co, a unit of Coastal Corp.\n",
            "Alcan Aluminum Corp, a subsidiary of Alcan Aluminium Ltd.\n",
            "Young Co, a subsidiary of Service Resources Corp.\n",
            "Ltd, a subsidiary of London.\n",
            "The Chase Manhattan Bank, a unit of The Chase Manhattan Corp.\n",
            "Taco Bell Corp, a unit of Pepsico Inc.\n",
            "Citgo Petroleum Corp, a subsidiary of Southland Corp.\n",
            "Resorts, a subsidiary of Allegis Corp.\n",
            "Moss Rosenberg Verft, a subsidiary of Kvaerner Industrier.\n",
            "Aker Verdal, a unit of Aker Norcem.\n",
            "Kesson Envirosystems Co, a subsidiary of Mc.\n",
            "Ford Motor Credit Co, a unit of Ford Motor Co.\n",
            "Champlin Petroleum Co, a subsidiary of Union Pacific Corp.\n",
            "Citgo Petroleum Corp, a unit of Southland Corp.\n",
            "Scallop Petroleum Corp, a subsidiary of Royal Dutch.\n",
            "Young Co, a subsidiary of Service Resources Corp.\n",
            "Esso Malaysia Bhd, a unit of Exxon Corp.\n",
            "Kesson Envirosystems Co, a unit of Mc.\n",
            "Automatic Inspection Devices Inc, a subsidiary of Owens.\n",
            "Magma Copper Co, a subsidiary of Newmont Mining Corp.\n",
            "Inspiration Consolidated Copper Co, a subsidiary of Inspiration Resources Corp.\n",
            "Teleglobe Canada Inc, a unit of Memotec.\n",
            "Shell, a unit of Royal Dutch.\n",
            "Magma Copper Co, a subsidiary of Newmont Mining Corp.\n",
            "Sunter Acquisition Corp, a unit of First Boston Inc.\n",
            "Acquisitions Corp Inc, a unit of Emery Air Freight Corp.\n",
            "Magma Copper Co, a subsidiary of Newmont Mining Corp.\n",
            "Magma Copper Co, a subsidiary of Newmont Mining Corp.\n",
            "Consolidation Coal Co, a unit of Du Pont Co.\n",
            "Quarto Mining Co, a subsidiary of North American Coal.\n",
            "Distrigas, a subsidiary of Cabot Corp.\n",
            "El Paso Gas, a subsidiary of Burlington Northern.\n",
            "Magma Copper Co, a subsidiary of Newmont Mining Corp.\n",
            "Iowa Beef, a subsidiary of Occidental Petroleum Corp.\n",
            "Alpha Health Systems Corp, a unit of Pesch.\n",
            "Nevada Inc, a subsidiary of General Felt Industries.\n",
            "Shearson Lehman, a subsidiary of American Express Co.\n",
            "Stauffer Seeds, a unit of Stauffer Chemical Co.\n",
            "Canada, a subsidiary of Lloyds Bank.\n",
            "Lloyds Bank Canada, a subsidiary of Lloyds Bank.\n",
            "John Morrell, a subsidiary of United Brands Inc.\n",
            "Conoco Inc, a subsidiary of Du.\n",
            "Shell Oil Co, a unit of Royal Dutch.\n",
            "Beneficial Business Credit Corp, a subsidiary of Beneficial Corp.\n",
            "Chrysler First, a subsidiary of Chrysler Financial Corp.\n",
            "Winston Inc, a subsidiary of Harcourt Brace Jovanovich Inc.\n",
            "Acquisition Co, a unit of Pratt Hotel Corp.\n",
            "Associates Commercial Corp, a unit of Gulf.\n",
            "Iowa Beef, a subsidiary of Occidental Petroleum Corp.\n",
            "Shearson Lehman Brothers Holdings Inc, a unit of American Express Co.\n",
            "New York, a subsidiary of Coastal Corp.\n",
            "Chrysler Credit Canada Ltd, a subsidiary of Chrysler Corp.\n",
            "Systems Inc, a subsidiary of Communications Satellite Corp.\n",
            "Amselco Minerals Inc, a unit of British Petroleum Co.\n",
            "Nerco, a unit of Nerco Inc.\n",
            "Citicorp Capital Investors Ltd, a unit of Citicorp.\n",
            "Hartford Insurance Group, a unit of New York.\n",
            "Amselco Minerals Inc, a unit of British Petroleum.\n",
            "National Heritage Inc, a unit of Southmark Corp.\n",
            "Agip Carbone, a subsidiary of Italy.\n",
            "Gulton Industries Inc, a unit of Mark.\n",
            "Ltd, a subsidiary of British.\n",
            "Thermo Process Services Inc, a subsidiary of Thermo Electron Corp.\n",
            "\n",
            "2. Executives\n",
            "Edward Brennan, chairman of Sears Roebuck.\n",
            "Lichtblau, president of Petroleum Industry Research Associates.\n",
            "James Burke, president of Merrill Lynch Capital Partners.\n",
            "Robert Campeau, chairman of Allied.\n",
            "Richard Ferris, chairman of Allegis.\n",
            "John Lichtblau, president of Petroleum Industry Ressearch Foundation.\n",
            "Rainer Gut, chairman of Credit Suisse.\n",
            "Henry Hirschberg, president of Simon.\n",
            "Ronald Langley, president of Industrial Equity.\n",
            "Clifford Evans, president of Demico Futures.\n",
            "Nance, president of Tenneco Oil Exploration.\n",
            "Andrew Shoup, chairman of Dallas.\n",
            "Roelof Nelissen, chairman of Amsterdam.\n",
            "Brandman, chairman of Domino.\n",
            "Henry Rosenberg, chairman of Crown Central Petroleum Corp.\n",
            "Lindner, chairman of American Financial Corp.\n",
            "Raul Nicho, president of Money Market Services Inc.\n",
            "Daryl Elser, president of Steel Technologies.\n",
            "Robert Fox, president of Fox Properties Inc.\n",
            "Henry Rosenberg, chairman of Crown Central Petroleum.\n",
            "Arnold Safer, president of The Energy Futures Group Inc.\n",
            "Yao Liu, president of Chi Shun Hwa Steel Co.\n",
            "Ronald Perelman, chairman of Revlon Group.\n",
            "Gilberto Arango, president of Colombia.\n",
            "Henry Rosenberg, chairman of Crown Central Petroleum.\n",
            "George Unzelman, president of Hy.\n",
            "Carroll Brunthaver, president of Sparks Commodities.\n",
            "Shing, chairman of Hutchison.\n",
            "Armand Guilbaud, president of Total.\n",
            "Sumner Redstone, president of National Amusements.\n",
            "Lorenzo, chairman of Texas Air.\n",
            "Gerald Lach, president of Eagles.\n",
            "Charles Bundrant, president of Trident.\n",
            "Edward Niedermeyer, president of Niedermeyer.\n",
            "Cotton, president of Finalco Group Inc.\n",
            "Isao Nakamura, president of Higashi Nippon.\n",
            "Lichtenberger, president of Chemicals.\n",
            "Attilio Petrocelli, president of Metropolitan.\n",
            "Carl Lindner, chairman of American Financial Corp.\n",
            "Paul Hylbert, president of Sequoia.\n",
            "Gilberto Arango, president of Colombia.\n",
            "Marc Vernes, president of French.\n",
            "Krapels, president of Energy Security Analysis.\n",
            "Kenneth Whipple, chairman of Ford Europe.\n",
            "Ronald Perelman, chairman of Revlon Group Inc.\n",
            "Mass, president of Dealers.\n",
            "Don Gevirtz, chairman of The Foothill Group Inc.\n"
          ]
        }
      ]
    },
    {
      "cell_type": "markdown",
      "metadata": {
        "id": "dZlHx_4FhRoZ"
      },
      "source": [
        "## Question 4\n",
        "It's much easier to extract relationships from text that is tagged with named entities. This can be accomplished using the `nltk.sem.extract_rels()` function, as described in [Chapter 7.6](https://www.nltk.org/book/ch07.html#relation-extraction) of the NLTK book. The function takes two named entity categories and a regular expression as arguments and returns all instances where the pattern occurs between the two categories (allowing for up to 10 tokens between them, by default).\n",
        "\n",
        "The `ieer` (Information Extraction and Entity Recognition) corpus contains named entity annotations, such as `PER`, `ORG` and `LOC`. Find some instances of the following relationships using `nltk.sem.extract_rels()`:\n",
        "1. Professors and the organizations they work for, e.g.:\n",
        "  * *Roger Goldman, a law professor at St. Louis University*\n",
        "2. Family members e.g.,:\n",
        "  * *Louis XIV and his brother, Philippe*\n",
        "  * *Mildred Rosenbaum and her husband Stanley*\n",
        "3. People and where are from, e.g.:\n",
        "  * *Anna Rechnio of Poland*"
      ]
    },
    {
      "cell_type": "code",
      "metadata": {
        "id": "kHmcBIvhhRLs",
        "outputId": "ad45ac39-48f5-4714-b914-87170280512b",
        "colab": {
          "base_uri": "https://localhost:8080/"
        }
      },
      "source": [
        "from nltk.corpus import ieer\n",
        "nltk.download('ieer')\n",
        "\n",
        "# Example\n",
        "pattern = re.compile(r'.*\\bacquired?\\b')\n",
        "\n",
        "for doc in nltk.corpus.ieer.parsed_docs():\n",
        "  for rel in nltk.sem.extract_rels('ORG', 'ORG', doc, 'ieer', pattern):\n",
        "    print(nltk.sem.rtuple(rel))"
      ],
      "execution_count": 9,
      "outputs": [
        {
          "output_type": "stream",
          "name": "stderr",
          "text": [
            "[nltk_data] Downloading package ieer to /root/nltk_data...\n",
            "[nltk_data]   Unzipping corpora/ieer.zip.\n"
          ]
        },
        {
          "output_type": "stream",
          "name": "stdout",
          "text": [
            "[ORG: 'Omnicom'] 'moved to acquire' [ORG: 'GGT']\n",
            "[ORG: 'BDDP'] 'was acquired last year by' [ORG: 'GGT']\n",
            "[ORG: 'Safeway Stores'] 'acquired' [ORG: 'Mutual']\n"
          ]
        }
      ]
    },
    {
      "cell_type": "code",
      "metadata": {
        "id": "a_9-ByVN2bX_",
        "outputId": "42549f4a-9112-48c0-a648-c42b7b6cfc60",
        "colab": {
          "base_uri": "https://localhost:8080/"
        }
      },
      "source": [
        "# Your solution here\n",
        "\n",
        "print(\"\\nProfessors and the organizations they work for\")\n",
        "prof_pattern = re.compile(r'.*\\bprofessor\\b.*')\n",
        "\n",
        "for doc in ieer.parsed_docs():\n",
        "    for rel in nltk.sem.extract_rels('PER', 'ORG', doc, 'ieer', prof_pattern):\n",
        "        print(nltk.sem.rtuple(rel))\n",
        "\n",
        "print(\"\\nFamily members\")\n",
        "family_pattern = re.compile(r'.*\\b(husband|wife|brother|sister)\\b.*')\n",
        "\n",
        "for doc in ieer.parsed_docs():\n",
        "    for rel in nltk.sem.extract_rels('PER', 'PER', doc, 'ieer', family_pattern):\n",
        "        print(nltk.sem.rtuple(rel))\n",
        "\n",
        "print(\"\\nPeople and where are from\")\n",
        "people_pattern = re.compile(r'.*\\b(from|born|of)\\b.*')\n",
        "\n",
        "for doc in ieer.parsed_docs():\n",
        "    for rel in nltk.sem.extract_rels('PER', 'LOC', doc, 'ieer', people_pattern):\n",
        "        print(nltk.sem.rtuple(rel))\n"
      ],
      "execution_count": 39,
      "outputs": [
        {
          "output_type": "stream",
          "name": "stdout",
          "text": [
            "\n",
            "Professors and the organizations they work for\n",
            "[PER: 'Raymond Rosen'] ', a sex researcher and professor of psychiatry at the' [ORG: 'Robert Wood Johnson Medical School']\n",
            "[PER: 'Leonore Tiefer'] ', a sex researcher and clinical professor of psychiatry at' [ORG: 'New York Medical Center']\n",
            "[PER: 'Pepper Schwartz'] ', a sociology professor at the' [ORG: 'University of Washington']\n",
            "[PER: 'Irwin Goldstein'] ', a professor of urology at the' [ORG: 'Boston University School of Medicine']\n",
            "[PER: 'Roger Goldman'] ', a law professor at' [ORG: 'St. Louis University']\n",
            "[PER: 'Joseph Jacobson'] ', an assistant professor at' [ORG: 'MIT']\n",
            "\n",
            "Family members\n",
            "[PER: 'Jack N. Berkman'] ', an alumnus, and his wife,' [PER: 'Lillian R. Berkman']\n",
            "[PER: 'Louis XIV'] 'and his brother,' [PER: 'Philippe']\n",
            "[PER: 'McCarthy'] \"'s wife,\" [PER: 'Margaret Grundy McCarthy']\n",
            "[PER: 'Clinton'] 'and his wife,' [PER: 'Hillary Rodham Clinton']\n",
            "[PER: 'Mildred Rosenbaum'] 'and her husband' [PER: 'Stanley']\n",
            "\n",
            "People and where are from\n",
            "[PER: 'Thomas Alsgaard'] 'of' [LOC: 'Norway']\n",
            "[PER: 'Anita Moen-Guidon'] 'of' [LOC: 'Norway']\n",
            "[PER: 'Bente Martinsen'] 'of' [LOC: 'Norway']\n",
            "[PER: 'Thomas Alsgaard'] 'of' [LOC: 'Norway']\n",
            "[PER: 'Anita Moen-Guidon'] 'of' [LOC: 'Norway']\n",
            "[PER: 'Bente Martinsen'] 'of' [LOC: 'Norway']\n",
            "[PER: 'Firoz Ali'] 'of' [LOC: 'India']\n",
            "[PER: 'Jan Siemerink'] 'of the' [LOC: 'Netherlands']\n",
            "[PER: 'Magnus Gustafsson'] 'of' [LOC: 'Sweden']\n",
            "[PER: 'Kenneth Carlsen'] 'of' [LOC: 'Denmark']\n",
            "[PER: 'Thomas Johansson'] 'of' [LOC: 'Sweden']\n",
            "[PER: 'Ids Postma'] 'of the' [LOC: 'Netherlands']\n",
            "[PER: 'Boskovic'] ', referring respectively to the leader of the former communist' [LOC: 'Yugoslavia']\n",
            "[PER: 'Mesut Yilmaz'] 'of' [LOC: 'Turkey']\n",
            "[PER: 'Eli Bin'] ', deputy head of the' [LOC: 'Afula']\n",
            "[PER: 'Ali Mahdi Mohamed'] ', a Somali leader from north' [LOC: 'Mogadishu']\n",
            "[PER: 'Kiriyenko'] 'made the most of them. He became a founder of' [LOC: 'Nizhny Novgorod']\n",
            "[PER: 'Peter Chin Fah Kui'] 'said of this number,' [LOC: 'Pahang']\n",
            "[PER: 'Michael Leavitt'] 'of' [LOC: 'Utah']\n",
            "[PER: 'Roy Romer'] 'of' [LOC: 'Colorado']\n",
            "[PER: 'Jerry Yang'] ', co-founder of the company, which is based in' [LOC: 'Santa Clara']\n",
            "[PER: 'Frank'] \"'s account of growing up in Depression\" [LOC: 'Ireland']\n",
            "[PER: 'Goldstein'] 'whose survey of' [LOC: 'Massachusetts']\n",
            "[PER: 'McCarthy'] 'was born in' [LOC: 'Belle Plaine']\n",
            "[PER: 'Patrick M. McCarthy'] 'of' [LOC: 'Indian Wells']\n",
            "[PER: 'France Davis'] ', pastor of' [LOC: 'Salt Lake City']\n",
            "[PER: 'Anna Rechnio'] 'of' [LOC: 'Poland']\n",
            "[PER: 'Laetitia Hubert'] 'of' [LOC: 'France']\n",
            "[PER: 'Lewinsky'] \"'s book-buying was the subject of a hearing in\" [LOC: 'Washington']\n",
            "[PER: 'Matt Wolf'] ', who traveled from' [LOC: 'North Carolina']\n",
            "[PER: 'Alvin Rosenbaum'] 'discussed the future of the house with representatives of the' [LOC: 'Florence']\n",
            "[PER: 'Orlando Hernandez'] ', the right-hander who defected from' [LOC: 'Cuba']\n",
            "[PER: 'Yevgeny Volk'] ', the director of the' [LOC: 'Moscow']\n",
            "[PER: 'Eppie Lederer'] '. She was speaking of' [LOC: 'Chicago']\n",
            "[PER: 'Olowe'] 'of' [LOC: 'Ise']\n",
            "[PER: 'Ambrose'] 'and the King of' [LOC: 'Ise']\n",
            "[PER: 'Alisa LaGamma'] ', assistant curator for the department of the arts of' [LOC: 'Africa']\n",
            "[PER: 'Manuel Vega'] '_ all of whom live in the' [LOC: 'United States']\n"
          ]
        }
      ]
    }
  ]
}