{
  "nbformat": 4,
  "nbformat_minor": 0,
  "metadata": {
    "colab": {
      "provenance": [],
      "include_colab_link": true
    },
    "kernelspec": {
      "name": "python3",
      "display_name": "Python 3"
    }
  },
  "cells": [
    {
      "cell_type": "markdown",
      "metadata": {
        "id": "view-in-github",
        "colab_type": "text"
      },
      "source": [
        "<a href=\"https://colab.research.google.com/github/giorgiosld/Natural-Language-Processing/blob/main/lab2/T_725_Lab02.ipynb\" target=\"_parent\"><img src=\"https://colab.research.google.com/assets/colab-badge.svg\" alt=\"Open In Colab\"/></a>"
      ]
    },
    {
      "cell_type": "markdown",
      "metadata": {
        "id": "pajD7caf9pX7"
      },
      "source": [
        "# T-725 Natural Language Processing: Lab 2\n",
        "In today's lab, we will be working with text classification.\n",
        "\n",
        "To begin with, do the following:\n",
        "* Select `\"File\" > \"Save a copy in Drive\"` to create a local copy of this notebook that you can edit.\n",
        "* Select `\"Runtime\" > \"Run all\"` to run the code in this notebook."
      ]
    },
    {
      "cell_type": "markdown",
      "metadata": {
        "id": "RsSxs1XKhi_4"
      },
      "source": [
        "## List comprehensions in Python\n",
        "List comprehensions are a concise way of creating lists in Python, and take the form:\n",
        "\n",
        "```python\n",
        "[expression for item in iterable]\n",
        "```\n",
        "\n",
        "A list comprehension creates a new list by evaluating some expression for every item in a given iterable (such as a string, a list or a dictionary). Let's look at an example:"
      ]
    },
    {
      "cell_type": "code",
      "metadata": {
        "id": "wxB1Ip77hzFL",
        "colab": {
          "base_uri": "https://localhost:8080/"
        },
        "outputId": "1c82d76a-bc56-4a7a-a430-0584027b34f2"
      },
      "source": [
        "sentence = \"In a hole in the ground there lived a hobbit.\"\n",
        "words = sentence.split()\n",
        "print(words)\n",
        "\n",
        "# Example of a list comprehension\n",
        "word_lengths = [len(word) for word in words]\n",
        "print(word_lengths)\n",
        "\n",
        "# This is equal to\n",
        "word_lengths = []\n",
        "for word in words:\n",
        "  word_lengths.append(len(word))\n",
        "\n",
        "print(word_lengths)"
      ],
      "execution_count": 7,
      "outputs": [
        {
          "output_type": "stream",
          "name": "stdout",
          "text": [
            "['In', 'a', 'hole', 'in', 'the', 'ground', 'there', 'lived', 'a', 'hobbit.']\n",
            "[2, 1, 4, 2, 3, 6, 5, 5, 1, 7]\n",
            "[2, 1, 4, 2, 3, 6, 5, 5, 1, 7]\n"
          ]
        }
      ]
    },
    {
      "cell_type": "markdown",
      "metadata": {
        "id": "aWw6IRBgkQbc"
      },
      "source": [
        "You can also add a conditional statement to list comprehensions, so that the expression will only be evaluated for items that meet a certain criteria:"
      ]
    },
    {
      "cell_type": "code",
      "metadata": {
        "id": "dSRG8kBdjZKA",
        "colab": {
          "base_uri": "https://localhost:8080/"
        },
        "outputId": "c5d79375-e26c-4ac3-c737-d4d207342e2b"
      },
      "source": [
        "e_words = [word for word in words if len(word) > 5]\n",
        "print(e_words)"
      ],
      "execution_count": 8,
      "outputs": [
        {
          "output_type": "stream",
          "name": "stdout",
          "text": [
            "['ground', 'hobbit.']\n"
          ]
        }
      ]
    },
    {
      "cell_type": "markdown",
      "metadata": {
        "id": "qtTTJDJ5qZML"
      },
      "source": [
        "Python also has set and dictionary comprehensions:"
      ]
    },
    {
      "cell_type": "code",
      "metadata": {
        "id": "jniqHWPoqd8E",
        "colab": {
          "base_uri": "https://localhost:8080/"
        },
        "outputId": "71cea1ec-0c44-4e18-9d69-1e17a6a18de0"
      },
      "source": [
        "lowercase_characters = {c.lower() for c in sentence}\n",
        "print(lowercase_characters)\n",
        "\n",
        "word_length = {word: len(word) for word in words}\n",
        "print(word_length['ground'])"
      ],
      "execution_count": 9,
      "outputs": [
        {
          "output_type": "stream",
          "name": "stdout",
          "text": [
            "{'o', 'n', 'b', 'g', 'h', 't', 'd', '.', 'a', 'l', 'r', ' ', 'u', 'v', 'e', 'i'}\n",
            "6\n"
          ]
        }
      ]
    },
    {
      "cell_type": "markdown",
      "metadata": {
        "id": "vY3Y_4kIbpaU"
      },
      "source": [
        "A nested list is a list within another list. You can iterate through nested lists in the following way:"
      ]
    },
    {
      "cell_type": "code",
      "metadata": {
        "id": "6AW8w46PbuFM",
        "colab": {
          "base_uri": "https://localhost:8080/"
        },
        "outputId": "677015db-cf02-4e39-9c9c-daf57370555e"
      },
      "source": [
        "# A list of countries and their capitals within different continents\n",
        "continents = [\n",
        "    [('Iceland', 'Reykjavík'), ('Germany', 'Berlin'), ('Spain', 'Madrid')],  # Europe\n",
        "    [('Japan', 'Tokyo'), ('China', 'Beijing'), ('South Korea', 'Seoul')],  # Asia\n",
        "    [('Nigeria', 'Abuja'), ('Algeria', 'Algiers'), ('Angola', 'Luanda')]  # Africa\n",
        "]\n",
        "\n",
        "# Create a list of all the countries in the previous list\n",
        "[country for continent in continents for (country, capital) in continent]"
      ],
      "execution_count": 10,
      "outputs": [
        {
          "output_type": "execute_result",
          "data": {
            "text/plain": [
              "['Iceland',\n",
              " 'Germany',\n",
              " 'Spain',\n",
              " 'Japan',\n",
              " 'China',\n",
              " 'South Korea',\n",
              " 'Nigeria',\n",
              " 'Algeria',\n",
              " 'Angola']"
            ]
          },
          "metadata": {},
          "execution_count": 10
        }
      ]
    },
    {
      "cell_type": "markdown",
      "metadata": {
        "id": "mBrOT1vNcYZ0"
      },
      "source": [
        "## Sentiment analysis with NLTK\n",
        "[Chapter 6](https://www.nltk.org/book/ch06.html) of the NLTK book shows how the toolkit can be used to create document classifiers, including a sentiment analyzer. The NLTK includes the `movie_reviews` corpus, which contains 2,000 movie reviews. Half of the reviews have been labelled as **positive** and the other half as **negative**. Let's download it and take a look:"
      ]
    },
    {
      "cell_type": "code",
      "metadata": {
        "id": "Xx01nR8x9qgq",
        "colab": {
          "base_uri": "https://localhost:8080/"
        },
        "outputId": "e576fbfb-b759-47ba-8936-fde324f129b5"
      },
      "source": [
        "import nltk\n",
        "from nltk.corpus import movie_reviews\n",
        "nltk.download('punkt')\n",
        "\n",
        "nltk.download('movie_reviews')\n",
        "print(\"Categories:\", movie_reviews.categories())"
      ],
      "execution_count": 11,
      "outputs": [
        {
          "output_type": "stream",
          "name": "stderr",
          "text": [
            "[nltk_data] Downloading package punkt to /root/nltk_data...\n",
            "[nltk_data]   Package punkt is already up-to-date!\n",
            "[nltk_data] Downloading package movie_reviews to /root/nltk_data...\n",
            "[nltk_data]   Unzipping corpora/movie_reviews.zip.\n"
          ]
        },
        {
          "output_type": "stream",
          "name": "stdout",
          "text": [
            "Categories: ['neg', 'pos']\n"
          ]
        }
      ]
    },
    {
      "cell_type": "markdown",
      "metadata": {
        "id": "AppRxScjc9vx"
      },
      "source": [
        "As expected, there are two categories: `pos` for positive reviews and `neg` for negative reviews. For this particular corpus, each review is stored as a separate text file. To get a list of all the text files in the corpus, we can use `movie_reviews.fileids()`. We can also get a list of files for a specific category:"
      ]
    },
    {
      "cell_type": "code",
      "metadata": {
        "id": "GI8EjJoo_1jz",
        "colab": {
          "base_uri": "https://localhost:8080/"
        },
        "outputId": "434c6c10-22a4-4d09-e966-a1232ac1013d"
      },
      "source": [
        "pos_fileids = movie_reviews.fileids('pos')\n",
        "neg_fileids = movie_reviews.fileids('neg')\n",
        "\n",
        "print(pos_fileids[:5])  # The first 5 positive reviews\n",
        "print(neg_fileids[:5])  # The first 5 negative reviews"
      ],
      "execution_count": 12,
      "outputs": [
        {
          "output_type": "stream",
          "name": "stdout",
          "text": [
            "['pos/cv000_29590.txt', 'pos/cv001_18431.txt', 'pos/cv002_15918.txt', 'pos/cv003_11664.txt', 'pos/cv004_11636.txt']\n",
            "['neg/cv000_29416.txt', 'neg/cv001_19502.txt', 'neg/cv002_17424.txt', 'neg/cv003_12683.txt', 'neg/cv004_12641.txt']\n"
          ]
        }
      ]
    },
    {
      "cell_type": "markdown",
      "metadata": {
        "id": "OQ_C9_80AEDo"
      },
      "source": [
        "We can get a list of all the tokens in the corpus with `movie_reviews.words()`. We can also specify a filename to get a single tokenized review:"
      ]
    },
    {
      "cell_type": "code",
      "metadata": {
        "id": "vZ8mPNPGcnbN",
        "colab": {
          "base_uri": "https://localhost:8080/"
        },
        "outputId": "e49e8776-c68b-4d01-9652-2f5552dba48a"
      },
      "source": [
        "pos_reviews = [movie_reviews.words(fid) for fid in pos_fileids]\n",
        "neg_reviews = [movie_reviews.words(fid) for fid in neg_fileids]\n",
        "\n",
        "print(pos_reviews[0][:10])  # The first 10 tokens of the first positive review\n",
        "print(neg_reviews[0][:10])  # The first 10 tokens of the first negative review"
      ],
      "execution_count": 13,
      "outputs": [
        {
          "output_type": "stream",
          "name": "stdout",
          "text": [
            "['films', 'adapted', 'from', 'comic', 'books', 'have', 'had', 'plenty', 'of', 'success']\n",
            "['plot', ':', 'two', 'teen', 'couples', 'go', 'to', 'a', 'church', 'party']\n"
          ]
        }
      ]
    },
    {
      "cell_type": "markdown",
      "metadata": {
        "id": "g04vosHorN6F"
      },
      "source": [
        "Some words, such as *brilliant* and *memorable*, are more strongly associated with positive reviews than negative ones. Similarly, *boring* and *unfunny* have a stronger association with negative reviews.\n",
        "\n",
        "Using the movie review corpus, we can train a classifier to predict whether a given review is positive or negative. The classifier extracts a set of *features* from every review, which are then used to make the classification. In this case, the features we use will be a dictionary that tells us whether each of the 2,000 most common words in the corpus is present within a review or not."
      ]
    },
    {
      "cell_type": "code",
      "metadata": {
        "id": "UeixOJ-lu1fD"
      },
      "source": [
        "# Create a set with 2,000 of the most frequent words in the movie review corpus\n",
        "movie_fd = nltk.FreqDist(movie_reviews.words())\n",
        "movie_words = {word for word, count in movie_fd.most_common(2000)}\n",
        "\n",
        "# For a given review (in the form of a list or set of tokens), create a\n",
        "# dictionary which tells us which words are present and which are not.\n",
        "def get_review_features(review):\n",
        "  review_words = set(review)\n",
        "  return {word: word in review_words for word in movie_words}"
      ],
      "execution_count": 14,
      "outputs": []
    },
    {
      "cell_type": "code",
      "metadata": {
        "id": "6-r6kXma8-eB",
        "colab": {
          "base_uri": "https://localhost:8080/"
        },
        "outputId": "88784509-9425-4a08-9b60-17e91a646445"
      },
      "source": [
        "# Let's see how this works for the first positive review:\n",
        "example_features = get_review_features(pos_reviews[0])\n",
        "print(example_features)\n",
        "print(\"'funny' is in the review:\", example_features['funny'])\n",
        "print(\"'boring' is in the review:\", example_features['boring'])"
      ],
      "execution_count": 15,
      "outputs": [
        {
          "output_type": "stream",
          "name": "stdout",
          "text": [
            "{'catch': False, 'easily': False, 'today': False, 'hot': False, 'walking': False, 'mouth': True, 'hanks': False, 'model': False, 'brought': True, 'dramatic': False, 'ryan': False, 'often': False, 'four': False, 'ability': False, 'cartoon': False, 'meeting': False, 'case': True, 'tom': False, 'professor': False, ']': False, 'beach': False, 'up': True, 'beginning': False, 'first': True, 'fantasy': False, 'aren': False, 'kong': False, 'known': False, 'turning': True, 'featuring': False, 'goes': False, 'girl': False, 'toward': True, 'out': False, 'performances': False, 'friends': False, 'visuals': False, 'vegas': False, 'points': False, 'happen': False, 'talents': False, 'went': False, 'sub': False, 'eventually': False, 'effect': False, 'seconds': False, 'bottom': False, 'decides': False, 'track': False, 'dennis': False, 'art': False, 'perfect': False, 'produced': False, 'heavy': False, 'alan': True, 'break': False, 'sadly': False, 'hunting': False, 'hasn': False, 'cute': False, 'safe': False, 'fantastic': False, 'missing': False, 'gun': False, 'offer': False, 'sometimes': False, 'open': False, 'older': False, 'ms': False, 'dumb': False, 'actions': False, 'opinion': False, 'kill': False, 'has': True, 'white': True, 'ghost': True, 'boy': False, 'engaging': False, 'gave': False, 'he': True, 'save': False, 'formula': False, 'right': False, 'loves': False, 'under': False, 'build': False, 'early': False, 'r': True, 'new': True, 'sharp': False, 'films': True, 'directed': False, 'money': False, 'crap': False, 'somewhat': False, 'people': False, 'was': True, 'falling': False, 'read': False, 'whose': False, 'urban': False, 'terrible': False, 'al': False, 'does': False, 'drawn': False, 'any': False, 'dying': False, 'romance': False, 'parody': False, 'always': False, 'stephen': False, 'superior': False, 'an': True, 'places': False, 'cult': False, 'talking': False, 'beyond': False, 'claire': False, 'cop': False, 'move': False, 'length': False, 'vincent': False, 'sense': True, 'burton': True, 'allows': False, 'five': False, 'were': False, 'miss': False, 'wedding': False, 'color': True, 'consider': False, 'returns': False, 'smile': False, 'portrayed': False, 'death': False, 'matt': False, 'bad': True, 'truly': False, 'naked': False, 'created': True, 'what': False, 'station': False, 'b': False, 'motion': False, 'answer': False, 'cross': False, 'wayne': False, 'men': False, 'found': False, 'sure': False, 'test': False, 'truman': False, 'saw': True, 'form': False, 'success': True, 'seven': False, 'states': False, 'george': False, 'baldwin': False, ',': True, 'asked': False, 'singing': False, 'filled': False, 'family': False, 'mix': False, 'seem': False, 'humour': False, 'call': False, 'tarzan': False, 'indeed': False, 'unfunny': False, 'god': False, 'approach': False, 'adventure': False, 'acts': True, 'moment': False, 'worthy': False, 'double': False, 'west': False, 'law': False, '3': False, 'animation': False, 'classic': False, 'particularly': False, 'dimensional': False, 'finale': False, 'leader': False, 'criminal': False, 'whom': False, 'rather': False, 'pulp': False, 'cage': False, 'along': False, 'stock': False, 'cinematographer': True, 'cheesy': False, 'also': False, 'feel': False, 'themes': False, 'wonderfully': False, 'attempts': False, 'killed': False, 'creates': False, 'doubt': False, 'murphy': False, 'paced': False, 'man': False, 'within': False, 'identity': True, 'master': False, 'developed': False, 'music': True, 'media': False, 'script': False, 'wide': False, 'surprises': False, 'against': False, 'lee': False, 'stay': False, 'outstanding': False, 'normal': False, 'incredible': False, 'generation': False, 'did': True, 'sci': False, ')': True, 'appear': False, 'predictable': False, 'jay': False, 'yourself': False, 'comedy': False, 'lost': False, 'following': False, 'robert': False, 'evil': False, 'tale': False, 'menace': True, 'count': False, 'beat': False, 'surprised': False, 'accident': False, 'moral': False, 'goofy': False, 'himself': False, 'filmmaker': False, 'rest': False, 'julie': False, 'back': True, 'attack': False, 'lucas': False, 'ending': True, 'haunting': False, 'generally': False, 'would': True, 'football': False, 'visual': False, 'tells': False, 'desire': False, 'can': True, 'sequence': False, 'rival': False, 'definitely': False, 'player': False, 'changes': False, 'rent': False, 'different': False, 'going': False, 'intriguing': False, 'genius': False, 'rare': False, 'sad': False, 'godzilla': False, 'escape': False, 'however': True, 'blair': False, 'sheer': False, 'occasionally': False, 'violent': True, 'confused': False, 'sean': False, 'impression': False, 'apparent': False, 'jerry': False, 'then': False, 'being': False, 'plans': False, 'world': True, 'modern': False, 'enjoy': False, 'carter': False, 'king': False, 'writing': False, 'writers': False, 'than': True, 'ford': False, 'says': False, 'mysterious': True, 'ridiculous': False, 'steven': False, 'perhaps': False, 'showing': False, 'adults': False, 'six': False, 'you': True, 'takes': False, 'worst': False, 'opposite': False, 'including': False, 'with': True, 'fan': False, 'song': True, 'rush': False, 'small': False, 'theaters': False, 'so': True, 'flicks': False, '1996': False, 'island': False, 'side': False, 'camp': False, 'terrific': False, 'toy': False, 'detail': False, 'watch': True, 'rich': False, 'biggest': False, 'guns': False, 'his': False, 'building': False, 'write': False, 'release': False, 'add': False, 'frank': False, 'snake': False, 'press': False, 'acted': False, 'fails': False, 'lead': False, 'depth': False, 'gags': False, 'deals': False, 'because': True, 'dead': False, 'spielberg': False, 'dialogue': False, 'roger': False, 'body': False, 'short': False, 'matter': False, 'information': False, 'spice': False, 'called': True, 'villain': False, 'idea': False, 'english': False, 'eddie': True, 'fat': False, 'explain': False, 'seeing': False, 'supporting': True, 'chance': False, 'compared': False, 'saying': True, 'little': True, 'although': False, 'personal': False, 'utterly': False, 'jackson': True, 'imagine': False, 'interested': False, 'throughout': False, 'fellow': False, 'scenes': True, 'teenage': False, 'whole': True, 'none': False, 'cool': False, 'dvd': False, 'enjoyable': False, 'told': False, 'jack': True, 'learn': False, 'might': True, 'creating': False, 'starship': False, 'remake': False, 'mob': False, 'martial': False, 'promise': False, 'unfortunately': False, 'lucky': False, 'return': False, 'johnny': True, 'except': False, 'event': False, 'fbi': False, 'news': False, 'version': False, 'talk': False, 'brown': False, 'nuclear': False, 'sort': False, 'hands': False, 'suspense': False, 'ex': False, 'legend': False, 'natural': False, 'meets': False, 'truth': False, 'complete': False, 'playing': False, 'features': True, 'chosen': False, 'brother': False, 'town': False, 'bond': False, 'group': False, 'they': True, 'setting': False, 'mad': True, 'low': False, 'male': False, 'police': True, 'reason': False, '/': True, 'guys': False, 'remains': False, 'overly': False, 'towards': False, 'movies': False, 'greatest': False, 'between': False, 'simon': False, 'imagination': False, 'message': False, 'led': False, 'finds': False, 'ahead': False, 'next': False, 'late': False, 'believe': False, 'days': True, 'reviews': False, 'matthew': False, 'violence': True, 'fame': False, 'babe': False, 'decided': False, 'doesn': False, 'big': True, 'itself': False, 'alien': False, 'stage': False, 'pieces': False, 'green': False, 'just': False, 'feels': False, 'ill': False, 'major': False, 'genuine': False, 'door': False, 'surprising': True, 'queen': False, 'cruise': False, 'original': True, 'jean': False, 'critics': False, 'direct': True, 'had': True, 'reasons': True, 'sitting': False, 'number': False, 'animated': False, 'heads': False, 'around': False, 'finally': False, 'necessary': False, 'premise': False, 'she': True, 'eye': False, 'search': False, 'drug': True, 'presents': False, 'grows': False, 'giving': False, 'breaking': False, 'effort': False, 'witch': False, 'fashion': False, 'reveal': False, 'full': False, 'documentary': False, 'woods': False, '-': True, 'actual': False, 'lynch': False, 'dog': False, 'thinking': False, 'political': False, 'war': False, 'austin': False, 'forced': False, 'spirit': False, 'twist': False, 'solid': True, 'pretty': False, 'kept': False, 'manner': False, 'added': False, 'should': False, 'the': True, 'available': False, 'anderson': False, 'supposed': False, 'turns': True, 'e': False, 'prison': False, 'generated': False, 'martin': True, 'numerous': False, 'liked': False, 'person': False, 'washington': False, 'tries': True, 'edward': False, 'succeeds': False, 'horse': False, 'every': False, 'bar': False, 'narrative': False, 'clich': False, 'on': True, 'alone': False, '30': True, 'superb': False, 'send': False, 'ten': False, 'viewing': False, 'decent': False, '7': False, 'footage': False, 'charlie': False, 'race': False, 'viewers': True, 'performance': True, 'lack': False, 'rating': False, 'myself': False, 'task': False, 'followed': False, 'device': False, 'believable': False, 'spent': False, 'slapstick': False, 'shows': False, 'club': False, 'hold': False, 'cares': False, 'company': False, 'job': True, 'loses': False, 'pointless': False, 'villains': False, 'core': False, 'likable': False, 'business': False, 'watching': False, 'spectacular': False, 'slow': False, 'jones': False, 'van': False, 'where': True, 'figure': False, 'younger': False, 'year': False, 'couldn': False, 'thomas': False, 'exactly': False, 'difference': False, 'running': False, 'floor': False, 'zero': False, 'won': True, 'equally': False, 'victim': False, 'almost': True, 'stunning': False, 'high': False, 'trailer': False, 'never': True, 'vampires': False, 'virtually': False, 'children': False, 'attempt': True, 'pace': False, 'culture': False, 'brain': False, 'humans': False, 'feelings': False, 'began': False, 'comedic': False, 'peter': True, 'potential': False, 'no': True, 'former': False, 'yeah': False, 'o': False, 'behind': True, 'extreme': False, 'leading': False, 'though': True, 'billy': False, 'details': False, 'process': False, 'streets': False, 'present': False, 'captain': False, 'large': False, 'second': False, 'expecting': False, 'weren': False, 'limited': False, 'grand': False, 'accept': False, 'line': False, 'deep': False, 'steal': False, 'effective': False, 'finding': False, 'studio': False, 'joe': True, 'appeal': False, 'highly': False, 'background': False, 'affair': False, 'issues': False, 'completely': True, 'trust': False, 'joan': False, '1997': False, 'possible': False, 'life': False, 'moments': False, 'scary': False, 'realizes': False, 'devil': False, 'beautiful': False, 'obvious': False, 'for': True, 'total': False, 'without': False, 'species': False, 'rules': False, 'shame': False, 'both': True, 'creature': False, 'respect': False, 'disturbing': False, 'fully': False, 'minor': False, 'understand': False, 'gets': False, 'woman': False, 'l': False, 'kevin': False, 'ride': False, 'very': True, 'women': False, 'yes': False, 'enjoyed': False, 'top': True, 'word': True, 'started': False, 'scale': False, 'already': False, 'type': False, 'rising': False, 'inevitable': False, 'murder': False, 'flick': False, 'parents': False, 'aspect': False, 'patrick': False, 'boring': False, 'army': False, 'nicely': False, 'musical': False, 're': True, 'still': False, 'design': True, 'its': True, 'television': False, 'portrayal': False, 'parts': False, 'fighting': False, '.': True, '6': False, 'road': False, 'boyfriend': False, 'constant': False, 'alive': False, 'all': True, 'blood': False, 'strike': False, 'him': True, 'tony': False, 'future': False, 'poorly': False, 'suspect': False, 'change': False, 'make': True, 'sandler': False, 'ice': False, 'tension': False, ':': True, 'until': True, 'in': True, 'bright': False, 'plane': False, 'breaks': False, 'sexy': False, 'crazy': True, 'needs': True, 'flat': False, 'creative': False, 'award': False, 'mystery': False, 'land': False, 'place': True, 'great': True, 'someone': False, '+': False, 'content': True, 'costumes': False, 'originally': False, 'result': False, 'individual': False, 'blue': False, 'example': False, 'old': False, 'crash': False, 'instance': False, 'leaving': False, 'henry': False, 'questions': False, 'joel': False, 'why': False, 'begin': False, 'that': True, 'actually': True, 'etc': False, 'awful': False, 'helps': False, 'starring': False, 'third': False, 'two': False, 'check': False, 'horror': False, 'boat': False, 'guess': False, 'fate': False, 'plan': False, 'humorous': False, 'subtle': False, 'maybe': False, 'nights': False, 'light': False, 'sex': False, 'prove': False, '90': False, 'security': False, 'opens': False, 'date': False, 'like': True, 'nor': False, 'sight': False, 'harry': False, 'goal': False, 'speed': False, 'reach': False, 'mind': False, 'things': False, 'easy': False, 'again': False, 'makes': False, 'despite': False, 'trouble': False, 'contains': False, 'century': False, \"'\": True, 'united': False, 'brief': False, 'stand': False, '--': False, 'works': False, 'will': True, 'fall': False, 'many': False, 'forces': False, 'caught': False, 'radio': False, 'room': False, 'edge': False, 'revenge': False, 'd': False, 'others': False, 'air': False, 'hidden': True, 'final': False, 'lies': False, 'damon': False, 'dangerous': False, 'debut': False, 'due': False, 'looks': True, 'woody': False, 'cast': False, 'earlier': False, 'far': False, 'less': False, 'crew': False, 'immediately': False, 'own': False, 'douglas': False, 'entertainment': False, 'shots': False, 'theater': False, 'pull': False, 'extremely': False, 'energy': False, 'climax': False, 'mother': False, 'slowly': False, 'die': False, 'girlfriend': False, 'screenplay': False, 'lots': False, 'us': False, 'product': False, 'similar': False, 'deliver': False, 'ago': False, 'stands': False, 'thinks': False, 'taken': False, 'ideas': False, 'dull': False, 'porn': False, 'richard': False, 'cinematography': False, 'ever': False, 'constantly': False, 'comedies': False, 'desperate': False, 'silent': False, 'credits': False, 'literally': False, 'inside': False, 'working': False, 'flynt': False, 'cannot': False, 'team': False, 'best': False, 'control': False, 'our': False, 'presence': False, 'gay': False, 'aside': False, 'when': True, 'way': False, 'phone': False, 'non': False, 'fake': False, 'died': False, 'star': True, 'video': False, 'hour': False, 'continues': False, 'done': False, 'shown': False, 'shock': False, 'especially': False, 'several': False, 'certain': False, 'fit': False, 'wanted': False, 'during': False, 'be': True, 'paul': False, 'city': False, 'good': True, 'c': False, 'brings': False, 't': True, 'front': False, 'realize': False, 'movie': False, 'scott': False, 'hero': False, 'hollywood': False, 'middle': False, 'winning': False, 'soon': False, 'patch': False, 'turned': False, 'graphic': True, 'julia': False, '10': False, 'sam': False, 'real': False, 'sweet': False, 'watched': False, 'me': True, 'notice': False, 'strange': False, 'beast': False, 'straight': False, 'near': False, 'love': True, 'filmed': False, 'throw': False, 'bruce': False, 'elizabeth': False, 'same': False, 'willing': False, 'wise': False, 'simple': False, 'discover': False, 'there': True, 'voice': False, 'subplot': False, 'problem': False, 'images': False, 'touching': False, 'emotions': False, 'and': True, 'screen': False, 'ended': False, 'create': False, 'funniest': False, 'jane': False, '20': False, 'theme': False, 'becomes': False, 'nasty': False, 'lose': False, 'bizarre': False, 'living': False, 'seagal': False, 'appropriate': False, 'machine': False, 'close': False, 'failed': False, 'wife': False, 'ground': False, 'anyway': False, 'exist': False, 'became': False, 'tired': False, 'speaking': False, 'kills': False, 'buy': False, 'unlike': False, 'image': False, 'producers': False, 'hit': False, 'involves': False, 'leaves': False, 'ii': True, 'wants': False, 'smith': False, 'killing': True, 'quickly': False, 'such': True, 'episode': False, 'hear': False, 'compelling': False, 'driver': False, 'determined': False, 'emotionally': False, 'speech': False, 'government': False, 'll': True, 'filmmakers': False, 'starts': False, 'needed': False, 'black': True, 'which': False, 'decision': False, 'becoming': False, 'common': False, 'doctor': False, 'win': False, 'runs': False, 'james': False, 'explained': False, 'bug': False, 'supposedly': False, 'them': False, 'simply': False, 'ready': False, 'provides': False, 'further': False, 'larry': False, 'brian': False, 'likes': False, 'era': True, 'means': False, 'characterization': False, 'typical': False, 'agent': False, 'didn': False, 'style': False, 'actors': False, 'day': False, 'x': False, 'start': False, 'another': True, 'really': True, 'brothers': True, 'cheap': False, 'complex': False, 'element': False, 'house': False, 'puts': False, 'discovers': False, 'public': False, 'rarely': False, 'married': False, 'review': False, 'forgotten': False, 'price': False, 'powerful': False, 'officer': False, 'favorite': False, 'fear': False, 'viewer': False, 'carpenter': False, 'jennifer': False, 'rocky': False, 'getting': True, 'fairly': False, 'begins': False, 'if': True, 'fare': False, 'go': True, 'roles': True, 'target': False, 'recommend': False, 'alex': False, 'most': False, 'owner': False, 'sexual': False, 'match': False, 'm': False, ';': False, 'badly': False, 'self': False, 'instead': False, 'planet': True, 'score': False, 'allow': False, 'strong': True, 'perfectly': False, 'mission': False, 'loved': False, 'famous': False, 'survive': False, 'books': True, 'wish': False, 'written': False, 'appears': False, 'quite': False, 'gold': False, 'follows': False, 'say': True, 'sick': False, 'mentioned': False, 'professional': False, 'laughing': False, 'killer': True, 'phantom': False, 'released': False, 'across': False, 'meanwhile': False, 'meant': False, 'each': False, 'presented': False, 'substance': False, 'sets': False, 'williams': False, 'mel': False, 'emotion': False, 'cinema': False, 'a': True, 'nothing': True, 'la': False, 'face': False, 'nowhere': False, 'at': True, 'before': True, 'barely': False, 'arts': False, 'hey': False, 'am': False, 'smart': False, 'mediocre': False, 'got': False, 'piece': False, 'taking': False, 'wait': False, 'one': True, 'appealing': False, 'note': False, 'creepy': True, 'local': False, 'monster': False, 'herself': False, 'witty': False, 'hall': False, 'otherwise': False, 'excuse': False, 'past': True, 'kids': True, 'sequences': False, 'bunch': False, 'cover': False, 'battle': False, 'guard': False, 'interesting': True, 'travolta': False, 'anne': False, 'co': False, 'weird': False, 'isn': True, 'probably': False, 'eccentric': False, 'general': False, 'pictures': False, 'plain': False, 'oscar': True, 'jason': False, 'human': False, 'directing': False, 'hurt': False, 'box': False, 'soldiers': False, 'characters': False, 'sympathetic': False, 'child': False, 'sound': False, 'driven': False, 'acting': True, 'summer': False, 'suppose': False, 'worth': False, 'incredibly': False, 'talent': False, 'named': True, 'action': False, 'sequel': False, 'find': True, 'state': False, 'unless': False, 'focus': False, 'lord': False, 'sees': False, 'eyes': False, 'funny': True, 'try': False, 'fire': False, 'figures': False, 'max': False, 'hand': False, 'purpose': False, 'includes': True, 'tried': False, 'expected': False, 'since': False, 'partner': False, 'join': False, 'hate': False, 'stop': False, 'amusing': False, 'humanity': False, 'social': False, 'casting': True, '&': False, 'forever': False, '[': False, 'force': False, 'season': False, 'plays': False, 'contact': False, 'dream': False, 'i': True, 'waiting': False, 'minutes': False, 'among': False, 'aspects': False, 'inspired': False, 'street': True, 'south': False, 'quiet': False, 'effects': False, 'admit': False, 'bring': False, 'princess': False, 'stupid': False, 'girls': False, 'need': False, 've': False, 'point': True, 'silly': False, 'charles': False, 'everything': False, 'work': False, 'see': True, 'drama': False, 'please': False, 'said': False, 'stuff': False, 'members': False, 'hoping': False, 'apartment': False, 'stories': False, 'head': False, 'fail': False, 'catherine': False, 'feature': False, 'guilty': False, 'learns': False, 'been': True, 'is': True, 'weak': False, 'used': False, 'some': False, 'adams': False, 'singer': False, 'live': False, 'office': False, 'fair': False, 'system': False, 'main': False, 'college': False, 'nick': False, 'or': True, 'brooks': False, 'walk': False, 'destroy': False, 'keeping': True, 'damn': False, 'cold': False, 'faith': False, 'years': False, 'japanese': False, 'meet': False, 'get': True, 'end': True, 'cops': False, 'neither': False, 'hopes': False, 'songs': False, 'pass': False, 'dealing': False, 'budget': False, 'order': False, 'soul': False, 'cameo': False, 'hunt': False, 'pg': False, 'intelligence': False, 'lines': False, 'audiences': False, 'travel': False, 'rob': False, 'your': False, 'personality': False, 'powers': False, 'affleck': False, 'tommy': False, 'surface': False, 'spawn': True, 'concept': False, '?': True, 'career': False, 'actor': False, 'hours': False, 'pick': False, 'whatever': False, 'food': False, 'keep': False, '8': False, 'whether': True, 'ups': False, 'tarantino': False, 'down': False, 'rose': False, 'car': True, 'average': False, 'usual': False, 'may': False, 'thriller': False, 'train': False, 'shooting': False, 'built': False, 'offensive': False, '2': True, 'treat': False, 'waste': False, 'memorable': False, 'took': False, 'week': False, 'accent': True, 'allen': True, 'russell': False, 'journey': False, 'lives': False, 'joke': False, 'industry': False, 'made': True, 'interest': False, 'visually': False, 'wouldn': False, 'relationships': False, 'school': False, '*': False, 'wild': False, 'damme': False, 'impressive': False, 'likely': False, 'basically': False, 'american': False, 'but': True, 'serve': False, 'choice': False, 'detective': False, 'america': False, 'stuart': False, 'part': True, 'now': True, 'time': True, 'wrote': False, 'military': False, 'epic': False, 'student': False, 'jeff': False, 'fans': False, 'poor': False, 'latest': False, 'fine': False, 'could': True, 'matrix': False, 'chinese': False, 'to': True, 'are': True, 'words': True, 'post': False, 'as': True, 'heaven': False, 'film': True, 'events': False, 'contrived': False, 'wars': False, 'british': True, 'opening': False, 'dollars': False, 'ass': False, 'forget': False, 'name': False, 'saving': False, 'asks': False, 'hope': False, 'holds': True, 'files': False, 'sarah': False, 'thankfully': False, 'care': False, 'three': False, 'okay': False, 'john': False, 'exception': False, 'about': True, 'charming': False, 'better': True, 'played': False, 'red': False, 'nearly': True, 'lover': False, 'having': False, 'routine': False, 'mess': False, 'william': False, 'angels': False, 'satire': False, 'don': True, 'writer': False, 'material': False, 'thus': False, 'grace': False, 'cliches': False, 'society': True, 'entertaining': False, 'conclusion': False, 'follow': False, 'directors': True, 'david': False, 'results': False, 'tone': False, 'realistic': False, 'appearance': True, 'jokes': False, 'horrible': False, 'cameron': False, 'trying': False, 'relationship': False, 'hard': False, 'shallow': False, 'failure': False, 'lets': False, 'humor': False, 'only': False, 'surprise': True, '=': False, 'seemed': False, 'twice': False, 'intense': False, 'scream': False, 'worked': False, 'french': False, 'father': False, 'longer': False, 'fight': False, 'level': True, 'these': False, 'experience': False, 'into': True, 'pop': False, 'disney': False, 'headed': False, 'jr': False, 'fascinating': False, 'production': True, 'single': False, 'space': False, 'driving': False, 'development': False, 'quick': False, 'look': True, 'relief': False, 'science': False, 'party': False, 'ways': False, 'offers': False, 'soundtrack': False, 'struggle': False, 'christmas': False, 'honest': False, 'off': False, '\"': True, 'novel': True, 'other': True, 'folks': False, 'everyone': False, 'provide': False, 'laughs': False, 'basic': False, 'danny': False, 'age': False, 'least': False, 'drugs': False, 'ted': False, 'addition': False, 'flaws': False, 'happened': False, 'york': False, 'plenty': True, 'looked': False, 'tim': True, 'once': False, 'stars': False, 'boss': False, 'long': True, 'view': False, 'popular': False, 'troopers': False, 'want': False, 'carrey': False, 'act': False, 'laugh': False, 'artist': False, 'opportunity': False, 'dude': False, '$': False, 'thrown': False, 'cash': False, 'situation': False, 'serious': False, 'become': False, 'couple': False, 'lady': False, 'pleasure': False, 'class': False, 'latter': False, 'conflict': False, 'attention': False, 'miller': False, 'ben': False, 'manages': False, 'rate': False, 'expect': False, 'doing': False, 'position': False, 'mary': True, 'ends': False, 'gang': False, 'series': True, 'sorry': False, 'true': False, 'involving': False, '13': False, 'gary': False, 'lawyer': False, 'lacks': False, 'keeps': False, 'wasted': False, '5': False, 'visit': False, 'adult': False, 'calls': True, 'robin': False, 'feeling': False, 'leave': False, 'disappointing': False, 'dies': False, 'familiar': False, '1999': False, 'frame': False, 'gibson': False, 'trek': False, 'hardly': False, 'happens': False, 'cut': False, 'fault': False, 'anthony': False, 'step': False, 'ultimate': False, 'somewhere': False, 'give': False, 'buddy': False, 'let': False, 'jim': False, 'ray': False, 'who': True, 'jedi': False, 'hits': False, 'knew': False, 'atmosphere': False, 'proves': False, 'thanks': False, 'while': False, 'ugly': False, 'not': True, 'spends': False, 'have': True, 'fox': False, 'aliens': False, 'steve': True, 'editing': False, 'nice': False, 'impossible': False, 'masterpiece': False, 'bill': False, 'mood': False, 'book': True, 'provided': False, 'too': False, 'language': True, 'usually': False, 'anti': False, 'oh': False, '1998': False, 's': True, 'christopher': False, 'bloody': False, 'sit': False, 'picture': False, 'happening': False, 'else': False, 'help': False, 'pair': False, 'titanic': False, 'scientist': False, 'romantic': False, 'million': False, 'j': False, 'coming': False, 'kid': False, 'uses': False, 'by': True, 'avoid': False, 'outside': False, 'ship': False, 'talented': False, 'run': False, 'decade': False, 'role': False, 'crowd': True, 'friend': False, 'names': False, '(': True, 'managed': False, 'hill': False, 'ok': False, 'direction': False, 'myers': False, 'moore': True, 'decide': False, '100': False, 'attractive': False, 'anyone': True, 'eight': False, 'cause': False, 'heart': False, 'fact': False, 'audience': False, 'daughter': False, 'park': False, 'field': False, 'frightening': False, 'earth': False, 'include': False, 'knows': False, 'adds': False, 'unique': True, 'pathetic': False, 'manage': False, 'lame': False, 'obviously': False, 'able': False, 'community': False, 'beauty': False, 'arnold': False, 'hopkins': False, 'wit': False, 'clearly': False, 'bland': False, 'history': False, 'mars': False, 'hong': False, 'difficult': False, 'story': False, 'taylor': False, 'blade': False, 'country': False, 'half': True, 'private': False, 'seemingly': False, 'woo': False, 'from': True, '!': False, 'wasn': True, 'title': False, 'roberts': False, 'thing': True, 'thin': False, 'vampire': False, 'kate': False, 'previous': False, 'deal': False, 'anything': True, 'member': False, 'bit': False, 'problems': False, 'thought': False, 'sounds': False, 'therefore': False, 'critic': False, 'fun': False, 'seen': False, 'considering': False, 'rated': False, 'wondering': False, 'wonder': False, 'recently': False, 'period': False, 'loving': False, 'annie': False, 'forward': False, 'comparison': True, 'upon': True, 'it': True, 'rock': False, 'introduced': False, 'faces': False, 'u': False, 'tv': False, 'huge': False, 'charm': False, 'computer': False, 'shouldn': False, 'amy': False, 'wall': False, 'central': False, 'bringing': False, 'pain': False, 'dance': False, 'ask': False, 'suspects': False, 'bored': False, 'turn': False, 'speak': False, 'jimmy': False, 'heroes': False, 'hilarious': False, 'surprisingly': False, 'disaster': False, 'special': False, 'credit': False, 'seriously': False, 'changed': False, 'teacher': False, '4': False, 'remarkable': False, 'welcome': False, 'winner': True, 'mulan': False, 'annoying': False, 'this': True, 'center': False, 'carry': False, 'put': False, 'kiss': False, 'odd': True, 'nature': False, 'their': True, 'comes': False, 'show': False, 'free': False, 'fi': False, 'particular': False, 'do': True, 'support': False, 'appreciate': False, 'meaning': False, 'de': False, 'project': False, 'felt': False, 'merely': False, 'involved': False, 'standing': False, 'apparently': False, 'jackie': False, 'key': False, 'ed': False, 'play': False, 'something': False, 'subject': True, 'helen': False, 'overall': False, 'amazing': False, 'question': True, 'using': False, 'protagonist': False, 'more': True, 'baby': False, 'twenty': False, 'camera': False, 'boys': False, 'dark': True, 'together': False, 'magic': False, 'husband': False, 'campbell': True, 'thoroughly': True, 'hospital': False, 'either': False, 'excellent': False, 'angry': False, 'believes': False, 'comic': True, 'technology': False, 'much': True, 'left': False, 'character': False, 'shakespeare': True, 'gives': False, 'marriage': False, 'mark': False, 'cinematic': False, 'teenagers': False, 'moves': False, 'bob': False, 'intended': False, 'dr': False, 'months': False, '`': False, 'reading': False, 'must': False, 'slightly': False, 'kind': False, 'elements': False, 'chris': False, 'nobody': False, 'quality': False, 'screenwriter': False, 'born': False, 'president': False, 'remember': False, 'wonderful': False, 'moving': False, 'mr': False, 'giant': False, 'plus': False, 'shot': False, 'clear': False, 'entirely': False, 'entire': False, 'loud': False, 'sign': False, 'skills': False, 'terms': False, 'michael': True, 'kelly': True, 'gone': False, 'chan': False, 'fresh': False, 'home': False, 'after': True, 'even': True, 'brilliant': False, 'guy': False, 'use': False, 'later': False, 'adaptation': False, 'mrs': False, 'blame': True, 'physical': False, 'window': False, 'set': True, 'given': False, 'deserves': False, 'slasher': False, 'son': False, 'stone': False, 'store': False, 'virus': False, 'haven': False, 'spend': False, 'yet': False, 'list': False, 'tell': False, 'share': False, 'possibly': False, 'totally': False, 'scene': False, 'super': False, 'ultimately': False, 'fiction': False, 'through': True, 'certainly': True, 'convincing': False, 'bus': False, 'come': False, 'happy': False, 'over': True, 'those': False, 'intelligent': False, 'clever': False, '000': False, 'flying': False, 'standard': False, 'hell': True, 'worse': False, 'trip': False, 'storyline': False, 'of': True, 'crime': True, 'mean': False, 'young': False, 'somehow': False, 'current': False, 'game': False, 'chemistry': False, 'recent': False, 'exciting': False, 'expectations': False, 'batman': True, 'band': False, 'filmmaking': False, 'mike': False, 'actress': False, 'directly': False, 'came': False, 'wrong': False, 'fast': False, 'nudity': False, 'know': False, 'strength': False, 'taste': False, 'we': False, 'jail': False, 'her': True, 'court': False, 'mention': False, 'realized': False, 'willis': False, 'impact': False, '9': False, 'innocent': False, 'laughable': False, 'seems': True, 'times': True, 'situations': False, 'teen': False, 'growing': False, 'based': False, 'last': False, 'suddenly': False, 'producer': False, 'hair': False, 'board': False, 'chase': False, 'plot': False, 'drive': False, 'feet': False, 'confusing': False, 'liners': False, 'enough': True, 'touch': False, 'well': True, 'away': False, 'attitude': False, 'hotel': False, 'matters': False, 'falls': False, 'reeves': False, 'ones': False, 'leads': False, 'apart': False, 'williamson': False, 'onto': True, 'responsible': False, 'sent': False, 'secret': True, 'g': False, 'absolutely': False, 'making': False, 'delivers': False, 'few': False, '1': False, 'gore': True, 'looking': False, 'important': False, 'successful': False, 'heard': False, 'reality': False, 'stuck': False, 'think': True, 'various': False, 'director': False, 'considered': False, 'emotional': False, 'sister': False, 'tough': False, 'themselves': False, 'pure': False, 'night': False, 'genre': False, 'take': False, 'f': False, 'rescue': False, 'course': True, 'twists': False, 'players': False, 'broken': False, 'my': False, 'telling': False, 'above': False, 'lot': False, 'gangster': False, 'technical': False, 'dreams': True, 'mostly': False, 'apes': True, 'female': False, 'shoot': False, 'fly': False, 'dad': False, 'academy': False, 'how': True, 'power': False, 'seat': False, 'minute': False, 'amount': False, 'grant': False, 'placed': False, 'water': False, 'pay': False, 'here': True}\n",
            "'funny' is in the review: True\n",
            "'boring' is in the review: False\n"
          ]
        }
      ]
    },
    {
      "cell_type": "markdown",
      "metadata": {
        "id": "KK5rLkC7TCVC"
      },
      "source": [
        "Next, let's create a training set that we can use to train a Naive Bayesian classifier. The training set, in this case, is a list of tuples in the format `[(features, category), ...]`, where `features` is a dictionary from `get_review_features()` and `category` is either `pos` or `neg`, depending on whether the review is positive or negative. To get an idea of how well the classifier performs, we're going to reserve 10% of the reviews for testing. That means that we'll be training our classifier on 1800 examples and testing it on 200 examples."
      ]
    },
    {
      "cell_type": "code",
      "metadata": {
        "id": "MqhiywiwrhxW"
      },
      "source": [
        "pos_examples = [(get_review_features(review), 'pos') for review in pos_reviews]\n",
        "neg_examples = [(get_review_features(review), 'neg') for review in neg_reviews]\n",
        "\n",
        "movie_training = pos_examples[:900] + neg_examples[:900]  # 1800 examples total\n",
        "movie_test = pos_examples[900:] + neg_examples[900:]  # 200 examples total"
      ],
      "execution_count": 16,
      "outputs": []
    },
    {
      "cell_type": "markdown",
      "metadata": {
        "id": "Jfty2sigVuf3"
      },
      "source": [
        "Now we have everything we need to train our classifier."
      ]
    },
    {
      "cell_type": "code",
      "metadata": {
        "id": "zAqq1Z72wLHl"
      },
      "source": [
        "movie_classifier = nltk.NaiveBayesClassifier.train(movie_training)"
      ],
      "execution_count": 17,
      "outputs": []
    },
    {
      "cell_type": "markdown",
      "metadata": {
        "id": "3inpPaRDV0_6"
      },
      "source": [
        "How well does it perform on the test set?"
      ]
    },
    {
      "cell_type": "code",
      "metadata": {
        "id": "y7eJMkqdw7Eb",
        "colab": {
          "base_uri": "https://localhost:8080/"
        },
        "outputId": "8a171f91-7d73-4e8d-d3fa-58999ff5f8bd"
      },
      "source": [
        "print(\"Accuracy:\", nltk.classify.accuracy(movie_classifier, movie_test))"
      ],
      "execution_count": 18,
      "outputs": [
        {
          "output_type": "stream",
          "name": "stdout",
          "text": [
            "Accuracy: 0.815\n"
          ]
        }
      ]
    },
    {
      "cell_type": "markdown",
      "metadata": {
        "id": "ZxakIFH5WNH_"
      },
      "source": [
        "The classifier achieves an accuracy of 81.5%. Let's take a look at which words have the biggest weights:"
      ]
    },
    {
      "cell_type": "code",
      "metadata": {
        "id": "ibMPC0QCxefo",
        "colab": {
          "base_uri": "https://localhost:8080/"
        },
        "outputId": "f77832a0-c741-4396-bda3-02c22634df67"
      },
      "source": [
        "movie_classifier.show_most_informative_features(20)"
      ],
      "execution_count": 19,
      "outputs": [
        {
          "output_type": "stream",
          "name": "stdout",
          "text": [
            "Most Informative Features\n",
            "             outstanding = True              pos : neg    =     15.6 : 1.0\n",
            "                   mulan = True              pos : neg    =      9.0 : 1.0\n",
            "             wonderfully = True              pos : neg    =      7.1 : 1.0\n",
            "                  seagal = True              neg : pos    =      7.0 : 1.0\n",
            "                   damon = True              pos : neg    =      6.1 : 1.0\n",
            "                   flynt = True              pos : neg    =      5.7 : 1.0\n",
            "                  wasted = True              neg : pos    =      5.6 : 1.0\n",
            "                    lame = True              neg : pos    =      5.3 : 1.0\n",
            "                  poorly = True              neg : pos    =      5.2 : 1.0\n",
            "                   awful = True              neg : pos    =      4.9 : 1.0\n",
            "              ridiculous = True              neg : pos    =      4.8 : 1.0\n",
            "                    jedi = True              pos : neg    =      4.4 : 1.0\n",
            "                 unfunny = True              neg : pos    =      4.4 : 1.0\n",
            "                   waste = True              neg : pos    =      4.4 : 1.0\n",
            "               fantastic = True              pos : neg    =      4.4 : 1.0\n",
            "                   worst = True              neg : pos    =      4.2 : 1.0\n",
            "                    mess = True              neg : pos    =      4.2 : 1.0\n",
            "                  stupid = True              neg : pos    =      4.2 : 1.0\n",
            "                   bland = True              neg : pos    =      4.0 : 1.0\n",
            "                     era = True              pos : neg    =      4.0 : 1.0\n"
          ]
        }
      ]
    },
    {
      "cell_type": "markdown",
      "metadata": {
        "id": "FPSLZUxt9uMY"
      },
      "source": [
        "# Assignment\n",
        "Answer the following questions and hand in your solution in Canvas before 23:59 on September 6th. Remember to save your file before uploading it."
      ]
    },
    {
      "cell_type": "markdown",
      "metadata": {
        "id": "tQN5Qq9z97Yc"
      },
      "source": [
        "## Question 1\n",
        "The NLTK also includes a `subjectivity` corpus, which contains a collection of sentences that have either been categorized as **subjective** (emotional, expressing personal feelings and views)  or **objective** (more rational, factual). Some examples:\n",
        "\n",
        "* **Objective sentences**:\n",
        "  * uma thurman stars in quentin tarantino's fourth film venture , kill bill .  \n",
        "  * he lives in a motor garage with his six friends .\n",
        "  * the ensuing battle was one of the most savage in u . s . history .\n",
        "* **Subjective sentences**:\n",
        "  * seagal's strenuous attempt at a change in expression could very well clinch him this year's razzie .\n",
        "  * de niro cries . you'll cry for your money back .\n",
        "  * a heroic tale of persistence that is sure to win viewers' hearts .\n",
        "\n",
        "Unlike the movie review corpus, where every review is stored in separate file, here there is only one file for each category.\n",
        "\n",
        "Complete the following tasks:\n",
        "1. Import and download the `subjectivity` corpus.\n",
        "2. Find the names of each category.\n",
        "3. Using the category names, get the relative path of each file.\n",
        "4. Get a list of tokenized sentences for each category (using `subjectivity.sents(fileid)`)."
      ]
    },
    {
      "cell_type": "code",
      "metadata": {
        "id": "zc1EM7TvnYaC",
        "colab": {
          "base_uri": "https://localhost:8080/"
        },
        "outputId": "530d87e7-bef0-4eba-d250-e5fb0ef5eeac"
      },
      "source": [
        "# Your solution here\n",
        "# if not already imported import nltk\n",
        "import nltk\n",
        "from nltk.corpus import subjectivity\n",
        "\n",
        "# downloading the corpus \"subjectivity\" and punkt if isn't already present\n",
        "nltk.download('punkt')\n",
        "nltk.download('subjectivity')\n",
        "\n",
        "# find name of each category\n",
        "# print(f\"Categories: {subjectivity.categories()}\")\n",
        "\n",
        "# retrieve the relative path of each path\n",
        "obj_path = subjectivity.fileids('obj')\n",
        "subj_path = subjectivity.fileids('subj')\n",
        "\n",
        "# print(obj_path)\n",
        "# print(subj_path)\n",
        "\n",
        "# get a list of tokenized sentences\n",
        "list_sentences_obj = subjectivity.sents(obj_path)\n",
        "list_sentences_subj = subjectivity.sents(subj_path)\n",
        "\n",
        "print(list_sentences_obj)\n",
        "print(list_sentences_subj)"
      ],
      "execution_count": 20,
      "outputs": [
        {
          "output_type": "stream",
          "name": "stdout",
          "text": [
            "[['the', 'movie', 'begins', 'in', 'the', 'past', 'where', 'a', 'young', 'boy', 'named', 'sam', 'attempts', 'to', 'save', 'celebi', 'from', 'a', 'hunter', '.'], ['emerging', 'from', 'the', 'human', 'psyche', 'and', 'showing', 'characteristics', 'of', 'abstract', 'expressionism', ',', 'minimalism', 'and', 'russian', 'constructivism', ',', 'graffiti', 'removal', 'has', 'secured', 'its', 'place', 'in', 'the', 'history', 'of', 'modern', 'art', 'while', 'being', 'created', 'by', 'artists', 'who', 'are', 'unconscious', 'of', 'their', 'artistic', 'achievements', '.'], ...]\n",
            "[['smart', 'and', 'alert', ',', 'thirteen', 'conversations', 'about', 'one', 'thing', 'is', 'a', 'small', 'gem', '.'], ['color', ',', 'musical', 'bounce', 'and', 'warm', 'seas', 'lapping', 'on', 'island', 'shores', '.', 'and', 'just', 'enough', 'science', 'to', 'send', 'you', 'home', 'thinking', '.'], ...]\n"
          ]
        },
        {
          "output_type": "stream",
          "name": "stderr",
          "text": [
            "[nltk_data] Downloading package punkt to /root/nltk_data...\n",
            "[nltk_data]   Package punkt is already up-to-date!\n",
            "[nltk_data] Downloading package subjectivity to /root/nltk_data...\n",
            "[nltk_data]   Package subjectivity is already up-to-date!\n"
          ]
        }
      ]
    },
    {
      "cell_type": "markdown",
      "metadata": {
        "id": "UaXJ-5Lr97_w"
      },
      "source": [
        "## Question 2\n",
        "Complete the following tasks:\n",
        "1. Create a set with the 2,000 most common words in the `subjectivity` corpus using `nltk.FreqDist()`.\n",
        "2. Create a function that takes a single, tokenized sentence as input (e.g., `['the', 'ensuing', 'battle', ...]`), and returns a dictionary of the 2,000 most frequent words and whether or not they are in the sentence (e.g., `{'battle': True, 'amusing': False, ...}`)."
      ]
    },
    {
      "cell_type": "code",
      "metadata": {
        "id": "3Bx4kZSW98xq",
        "colab": {
          "base_uri": "https://localhost:8080/"
        },
        "outputId": "01a09b84-6206-4c15-b8b7-2ccb2e40814f"
      },
      "source": [
        "# Your solution here\n",
        "# get the distribution using FreqDist\n",
        "subject_fd = nltk.FreqDist(subjectivity.words())\n",
        "# using set comprehensions I get the most commond (2000) words and take in account\n",
        "# only `word` from the set since the set consist in a pair {word, count}.\n",
        "subject_word = {word for word, count in subject_fd.most_common(2000)}\n",
        "\n",
        "# function that takes a tokenized sentence and return if the token appears in\n",
        "# the most frequent words\n",
        "def get_token_sentence(sentence):\n",
        "  # extract the token and save in a set to avoid duplicate tokens\n",
        "  set_token = set(sentence)\n",
        "  return {token: token in subject_word for token in set_token}\n",
        "  # return {token:(True if token in subject_word else False) for token in set_token}\n",
        "  # return {token:  for token in set_token if token in subject_word}\n",
        "\n",
        "# See the behaviour using a sentence as example\n",
        "example = get_token_sentence(list_sentences_obj[54])\n",
        "print(example)\n"
      ],
      "execution_count": 21,
      "outputs": [
        {
          "output_type": "stream",
          "name": "stdout",
          "text": [
            "{'guides': False, 'bisects': False, 'and': True, 'ahead': True, 'outback': False, 'molly': False, 'on': True, 'over': True, ',': True, 'girls': True, 'miles': False, 'will': True, 'the': True, 'an': True, 'of': True, '500': False, '.': True, 'epic': True, 'step': True, '1': False, 'search': True, 'journey': True, 'determination': False, 'home': True, \"australia's\": False, 'lead': True, 'that': True, 'authorities': False, 'in': True, 'fence': False, 'continent': False, 'with': True, 'them': True, 'rabbit-proof': False, 'grit': False, 'one': True}\n"
          ]
        }
      ]
    },
    {
      "cell_type": "markdown",
      "metadata": {
        "id": "Vrxhu0iB99YN"
      },
      "source": [
        "## Question 3\n",
        "Complete the following tasks:\n",
        "1. Create a training set with 9,000 sentences (4,500 of each category)\n",
        "2. Create a test set with 1,000 sentences (500 of each category)"
      ]
    },
    {
      "cell_type": "code",
      "metadata": {
        "id": "08xWq_S899xK",
        "colab": {
          "base_uri": "https://localhost:8080/"
        },
        "outputId": "83c7fd26-d0e6-47cc-f49d-039a6ad51f85"
      },
      "source": [
        "# Your solution here\n",
        "# Create sentences for each category\n",
        "obj_example = [(get_token_sentence(category), 'obj') for category in list_sentences_obj]\n",
        "subj_example = [(get_token_sentence(category), 'subj') for category in list_sentences_subj]\n",
        "\n",
        "# split set into training and test set\n",
        "subjective_training = obj_example[:4500] + subj_example[:4500]\n",
        "subjective_test = obj_example[4500:5000] + subj_example[4500:5000]\n",
        "\n",
        "# check if the training has 9k sentences nd if test has 1k\n",
        "print(f\"Length training: {len(subjective_training)}\")\n",
        "print(f\"Length test: {len(subjective_test)}\")\n"
      ],
      "execution_count": 22,
      "outputs": [
        {
          "output_type": "stream",
          "name": "stdout",
          "text": [
            "Length training: 9000\n",
            "Length test: 1000\n"
          ]
        }
      ]
    },
    {
      "cell_type": "markdown",
      "metadata": {
        "id": "HToPuGzX9-Cl"
      },
      "source": [
        "## Question 4\n",
        "Complete the following tasks:\n",
        "1. Train a Naive Bayes classifier using the training set from the previous question.\n",
        "2. Evaluate the classifier on the test set. How accurate is it?\n",
        "3. Find the 20 most informative features."
      ]
    },
    {
      "cell_type": "code",
      "metadata": {
        "id": "iHrN1tvKZa4e",
        "colab": {
          "base_uri": "https://localhost:8080/"
        },
        "outputId": "557e3c53-7039-4a88-82cf-220f8ab32a06"
      },
      "source": [
        "# Your solution here\n",
        "\n",
        "# Train the Naive Bayes classifier\n",
        "subjective_clf = nltk.NaiveBayesClassifier.train(subjective_training)\n",
        "# Evaluation using test set to see the accuracy\n",
        "print(f\"Accuracy: {nltk.classify.accuracy(subjective_clf, subjective_test)}\")\n",
        "# See the most informative features\n",
        "subjective_clf.show_most_informative_features(20)"
      ],
      "execution_count": 26,
      "outputs": [
        {
          "output_type": "stream",
          "name": "stdout",
          "text": [
            "Accuracy: 0.923\n",
            "Most Informative Features\n",
            "                      -- = True             subj : obj    =     70.1 : 1.0\n",
            "                   order = True              obj : subj   =     39.0 : 1.0\n",
            "                 decides = True              obj : subj   =     35.7 : 1.0\n",
            "                  sister = True              obj : subj   =     27.7 : 1.0\n",
            "            entertaining = True             subj : obj    =     26.6 : 1.0\n",
            "              girlfriend = True              obj : subj   =     26.3 : 1.0\n",
            "                discover = True              obj : subj   =     25.0 : 1.0\n",
            "                  film's = True             subj : obj    =     25.0 : 1.0\n",
            "                  you're = True             subj : obj    =     22.6 : 1.0\n",
            "                daughter = True              obj : subj   =     22.4 : 1.0\n",
            "                 married = True              obj : subj   =     21.7 : 1.0\n",
            "                 amusing = True             subj : obj    =     19.7 : 1.0\n",
            "                   plans = True              obj : subj   =     19.7 : 1.0\n",
            "                probably = True             subj : obj    =     19.7 : 1.0\n",
            "                    plan = True              obj : subj   =     19.4 : 1.0\n",
            "                    town = True              obj : subj   =     19.3 : 1.0\n",
            "                  you've = True             subj : obj    =     19.0 : 1.0\n",
            "                    kill = True              obj : subj   =     18.6 : 1.0\n",
            "                    slow = True             subj : obj    =     18.3 : 1.0\n",
            "             interesting = True             subj : obj    =     18.1 : 1.0\n"
          ]
        }
      ]
    },
    {
      "cell_type": "markdown",
      "source": [
        "# Question 5\n",
        "Dialog acts are sort of the type of *action* performed by the speaker. In the instant messaging corpus dataset 'NPS', each utterance is labeled with one of 15 dialogue act types, such as **Statement**, **Emotion**, **ynQuestion**, **Continuer**, etc.\n",
        "\n",
        "Your task is to classify text from the NPS corpus into two dialog acts: **whQuestion** or **Emotion**.\n",
        "\n",
        "Start by downloading the NPS corpus and getting all posts from the corpus:"
      ],
      "metadata": {
        "id": "f-J9BEEQFrbo"
      }
    },
    {
      "cell_type": "code",
      "source": [
        "nltk.download('nps_chat')\n",
        "posts = nltk.corpus.nps_chat.xml_posts()"
      ],
      "metadata": {
        "id": "Qtc_pG1qJZgh",
        "colab": {
          "base_uri": "https://localhost:8080/"
        },
        "outputId": "73655cd9-bd2f-4862-e3d6-8a48bbb0a88b"
      },
      "execution_count": 27,
      "outputs": [
        {
          "output_type": "stream",
          "name": "stderr",
          "text": [
            "[nltk_data] Downloading package nps_chat to /root/nltk_data...\n",
            "[nltk_data]   Package nps_chat is already up-to-date!\n"
          ]
        }
      ]
    },
    {
      "cell_type": "markdown",
      "source": [
        "Create a list that only includes posts of class **Emotion** and **whQuestion**. You can access the class of a post by calling `post.get(\"class\")`."
      ],
      "metadata": {
        "id": "p0wQn19UqfKV"
      }
    },
    {
      "cell_type": "code",
      "source": [
        "# Your solution here\n",
        "print(posts)\n",
        "# list comprehension to get only post `Emotion` and `whQuestion`\n",
        "filtered = [post.text for post in posts if post.get(\"class\") == \"Emotion\" or post.get(\"class\") == \"whQuestion\"]\n",
        "print(filtered)\n"
      ],
      "metadata": {
        "id": "H316uXLTrRUA",
        "colab": {
          "base_uri": "https://localhost:8080/"
        },
        "outputId": "1bca63bd-8649-4e99-b099-f2c1fa06e10d"
      },
      "execution_count": 58,
      "outputs": [
        {
          "output_type": "stream",
          "name": "stdout",
          "text": [
            "[<Element 'Post' at 0x7fac398b76f0>, <Element 'Post' at 0x7fac398b42c0>, ...]\n",
            "[':P', ':)', 'whats everyone up to?', 'boo.', 'lol 10-19-20sUser115', 'boo.', 'boo.', 'ewwwww lol', 'heeeey!', ':)', 'haha', 'opps', 'where did everyone gooo?', 'what did you but on e-bay', 'yeee haw 10-19-20sUser30', 'HAHAHA', 'lmao', 'well 10-19-20sUser68 what did u buy', ':)', 'lol 10-19-20sUser7', 'OOooOO:)', 'how you doin 10-19-20sUser139', 'lmaoo 10-19-20sUser121', 'how many kts', 'Just fine thanks, how are you?', 'lmao!!!', 'omg', 'yay!', 'geeshhh', 'lol 10-19-20sUser6', 'yes 10-19-20sUser121??', 'forwads?', 'lol 10-19-20sUser121!!!', 'lol', 'who is he 10-19-20sUser6?', 'who honey??', 'lmao 10-19-20sUser7!!!', ':)', 'On what kinda pervs your lookin for', 'what, 10-19-20sUser92.', 'lolololll serg!!!', 'handle?', 'lol 10-19-20sUser44 how do u know that', 'what?', 'jerkettes?? lmao', 'lol', 'lmao', 'wtf', 'awwwwww', ':(', \"what'd I miss?\", 'lol', 'why not?? girls are nice honey!!!', 'i hate you.', 'huh?', 'What?', 'aw 10-19-20sUser115 whys that', 'ahahah 10-19-20sUser7!!', 'Lmfao', 'wouldnt let her date', 'aww.', 'phone 10-19-20sUser92?', 'lol 10-19-20sUser83', 'yes 10-19-20sUser115?', 'woohoo!', 'lol', 'ok seriously who was the dumbass that signed kev fetterline a rap deal????', 'lmao', 'LOL', 'lol 10-19-20sUser7', 'hahah 10-19-20sUser83!', 'lol 10-19-20sUser7', 'lmaoooo', 'Aw, man.', 'lol', 'yes 10-19-20sUser92???', 'lol 10-19-20sUser121', 'asl', 'not a lot, where u from', 'lmaooo 10-19-20sUser92!!!!!!', 'ewwww', 'lol *sniffs*', 'ewwwwww', '10-19-20sUser115!', 'ughhh', 'Lmfao 10-19-20sUser121', 'lol 10-19-20sUser115', 'lol @ innocent', 'hahah', 'lol....', 'LOLOLOLLL 10-19-20sUser12', 'Lmfao', 'lmao ', ':-o', ':)', 'Lol', '10-19-20sUser23 how old r u', 'lol', 'lmao', 'lol', 'LOL', 'why...', 'hahaha', 'what r u searching for?', 'why else darling?', 'lol', 'lool', 'lol', 'hahah@baby', 'what do u do in CA', ':-o', 'dang 10-19-20sUser30', 'whats ur major', 'ok lol', 'aw yum', 'lol', '10-19-20sUser121 how near kc ?', ':P', 'lmaoo 10-19-20sUser7', 'haha', ' >:-> ', 'geeshh', 'hehehe', 'wat did u do 10-19-20sUser6?', 'woohoo paypal', 'lol', 'hahah 10-19-20sUser121', 'lmao 10-19-20sUser83', ':P', 'lol 10-19-20sUser7', 'lol 10-19-20sUser115...', 'what list should i put him in??', 'lmao 10-19-20sUser7', 'how r u 10-19-20sUser128', 'hehe', 'hows bout u', 'good and urself ', 'wats are they?', '10-19-30sUser11 lol', 'lol 10-19-30sUser11', 'lol', 'so 10-19-30sUser11 how was youer day', 'like always 10-19-30sUser7 and yours', 'what did u do 10-19-30sUser11', 'what is ur job', 'hehe', 'what stuff 10-19-30sUser11? ', 'lol', 'hehe', 'lmao 10-19-30sUser2', \"what's the flavour of the day 10-19-30sUser9\", \"What kind of consultant are you....I'm a financial consultant\", 'mauh!!!!!!!!!!!!!!!!', 'lmao', 'shaken or stirred 10-19-30sUser18?', 'lmao 10-19-30sUser18', 'lol', \"10-19-30sUser9...what's your preference?\", 'why so mad 10-19-30sUser19', 'lol', \"what's the latest?\", 'oh ny gosh', \"so what are we talkin' about tonight?\", 'lol 10-19-30sUser18', 'lol', 'lol 10-19-30sUser19', 'wooooohoooo', 'ha', 'so how do you unwind 10-19-30sUser9?', 'what type of music does your band play', 'hey 10-19-30sUser9?', 'what 10-19-30sUser11', 'how are you 10-19-30sUser23', 'lmao 10-19-30sUser19', ' :-) ', 'damn 10-19-30sUser17... ', 'lol', ' ;-) ', 'lol', 'lmao... wow... ', 'lol', 'lmao 10-19-30sUser17', 'whats up ', 'lol', 'oppsss lol ', 'lol 10-19-30sUser25... wb', 'lol', 'lol 10-19-30sUser25', 'ooopppps', \"What's happening?\", \"why'd 10-19-30sUser19 leave?\", 'lmao 10-19-30sUser17', 'how are ya ll ', ' :-) ', 'lol', 'lol ', 'lol 10-19-30sUser17', 'LOL ', 'and what happened to her 10-19-30sUser17?', ':)', 'is who sexy?', 'whew ', 'lol 10-19-30sUser31 ', 'lol 10-19-30sUser31... A++', 'whjat nationality are you 10-19-30sUser35?', \"who's horny ?\", 'LOL ', ' :-) ', 'LOL', 'oh my', 'lol 10-19-30sUser31... go figure', 'who was looking for someone horny?', '??', 'LOL ', 'and you live where now 10-19-30sUser37?', 'lmao 10-19-30sUser17... dman', 'LOL ', 'LOL', 'what took forever...the crap?', 'lol 10-19-30sUser28 ', ' :-) ', 'lol 10-19-30sUser3 .... :)', 'When', 'lmao 10-19-30sUser25', \"who's in prison?\", 'lol right there 10-19-30sUser28 lol ', 'what about me 10-19-30sUser31', ' :blush: ', 'lol 10-19-30sUser28', \"10-19-30sUser9...where'd you go?\", 'lol', ' :blush: ', 'lol 10-19-30sUser31 ', \"where's there 10-19-30sUser31\", 'i did ?? hows that ', 'oh for crying out loud', 'oh joy', ' :tongue: ', 'Ms 10-19-30sUser1, what u research.', 'lmao 10-19-30sUser17', 'LOL', 'PRIVMSG 10-19-30sUser1 how are u?', 'WEEEEEEEEEEEEEEEEEE!!!!!!!!!!!!!!!!!!!!!!!', 'LMAO @ 80 ', 'where you going 10-19-30sUser25?', '10-19-30sUser11, how is brooklyn', '10-19-30sUser3 whaaaaats up in ohio?', 'lol', 'lol', 'lol 10-19-40sUser9', 'lol', 'lol 10-19-40sUser4', 'lol 10-19-40sUser18', 'weeeeeeeee thanks 10-19-40sUser19!', 'lol 10-19-40sUser9', 'yawns....', 'you tired 10-19-40sUser29? or bored?', 'ouch..10-19-40sUser20', 'lol', 'lol....', 'how many 10-19-40sUser27 is there today? lol', 'eeek', 'say what 10-19-40sUser20????', 'lol', 'lol', 'lol', 'heee', 'lol 10-19-40sUser20', 'so.. where from 10-19-40sUser11?', 'fock', \"oh, what'd he do?\", 'how ya doin 10-19-40sUser34 ', 'oh no 10-19-40sUser34', 'lol', 'lol', 'kold....lol', 'what about you .....what is your fascination with the Russion Space Ships?', 'lol 10-19-40sUser11', 'chuckle 10-19-40sUser20', 'what did you do to yourself 10-19-40sUser34 ?', 'lol', 'god this grrrrrrrrr', 'amazing lol', 'lol', ';-)', 'what grade do you teach?', '((((((((((10-19-40sUser34))))))))))', 'ouch 10-19-40sUser34', 'lol', 'lol 10-19-40sUser35, 10-19-40sUser30', 'lol', 'awwwwwwwwww hugs 10-19-40sUser19', 'rolls her eyes @ 10-19-40sUser9', 'lol', 'lol', 'lol', 'lol', '((((((((((10-19-40sUser42))))))))))', 'lol 10-19-40sUser3', 'lol 10-19-40sUser9', 'lol', 'ok here 10-19-40sUser45 . thank you for asking ....... how are you ?', 'lol 10-19-40sUser9', 'lol 10-19-40sUser25', 'lol ', '10-19-40sUser18 hugsssss :)', 'hows everyone', 'hiya 10-19-40sUser46 how are you today', 'fine here and u 10-19-40sUser50', 'yes 10-19-40sUser34?', 'awesome 10-19-40sUser46, whatcha doin?', 'lol', 'l', 'Hugs for you 10-19-40sUser52', 'wb ((((10-19-40sUser24))))', 'oh Lord', 'lol', 'lol ', 'lol 10-19-40sUser3', 'lol 10-19-40sUser3', 'lol 10-19-40sUser3', 'lol 10-19-40sUser9', 'Yikes', 'where did that come From?', 'lol 10-19-40sUser3', ' ;-) ', 'lol', 'lol 10-19-40sUser9', 'cripos', 'hows your day goin 10-19-40sUser13', 'lol', 'lol', 'lol', '+*+*+*+* ...for you 10-19-40sUser34 :)', 'lol', ' :)', 'whats not to like 10-19-adultsUser15?', 'what kinda of sucker bloe pop or a dum dum ????', 'whooo hooo', 'hey there asl please?', '10-19-adultsUser32 guess who was here the other night?', 'how many LIX      DOES it take to get to the middle ????', 'who 10-19-adultsUser23???', 'im good thanks 10-19-adultsUser16   yerself??', 'great to hear 10-19-adultsUser16 ', '10-19-adultsUser520, 10-19-adultsUser32. .LoL', ':)', 'LoL', 'lol 10-19-adultsUser36', ':)', 'omg 10-19-adultsUser23 which color of lipstick do you think would look better on me the \"do me red\" or the \"pussy pink\" ', 'lol', 'lmao 10-19-adultsUser23', 'rotflmao ', 'lmao', 'what are you talking about 10-19-adultsUser35', 'whoopZ  slipped', 'ha ha ha 10-19-adultsUser23!!!', 'lol', 'lol', \"How cool are ya' 10-19-adultsUser41?\", '19/f/ca...asl??', 'lmao 10-19-adultsUser35', 'ooer 10-19-adultsUser1.. how r you darlin?', \"10-19-adultsUser16.. I'm ok, how are you babe?\", 'lol', 'HALO 10-19-adultsUser35..WTF ARE YOU TALKING ABOUT', 'hows u 10-19-adultsUser36 ???', 'Awww @ 10-19-adultsUser1', 'how r you 10-19-adultsUser32 dear?', 'What are you doin, 10-19-adultsUser28? Dang, yer so quiet.', 'im good 10-19-adultsUser23 dear.   How are you 10-19-adultsUser23 ~winkZ~', 'sry 10-19-adultsUser1 lol', 'LOL 10-19-adultsUser34', ' ;-) ', 'lol', ';)', 'what do you need a battery charger for 10-19-adultsUser28?', 'LOL @ moped   ', 'LoL', 'hehe 10-19-adultsUser16 :)', 'lol', 'damn', '((((((((((((((((((((( 10-19-adultsUser47 sis )))))))))))))))))))))', '10-19-adultsUser19 hugs', '10-19-adultsUser47 huuuuuuuuuuuuuuuuuuuuuuuuuuuuuuuuuuugZ', '(((((((((( 10-19-adultsUser1 sis ))))))))))))))', '(((((((((( 10-19-adultsUser35 )))))))))))))', 'lol', 'lol', '(((((((((( 10-19-adultsUser28 )))))))))))))', '(((((((((( 10-19-adultsUser47 )))))))))))))))', 'where are you from 10-19-adultsUser35', '((((((((((( 10-19-adultsUser23 ))))))))))))))', 'LOL 10-19-adultsUser36 !!!!!', 'lol', 'Why 10-19-adultsUser45?', 'hes hawt too', 'lol', 'LMAO Randy', '*hugs everyone...lol', 'wahoooooooski', 'haha', '(((((((( 10-19-adultsUser35 )))))))))))', 'why are you back', '(((((((( 10-19-adultsUser16 ))))))))))', '((((((((( 10-19-adultsUser32 )))))))))))', ':P', 'pfft', 'sigh', 'who wanna chatr', 'lol', 'LMAO 10-19-adultsUser47', 'lol', ':)', 'Rofl 10-19-adultsUser32', 'sup  10-19-adultsUser37 ???????', 'lol', 'lmao', 'lol', 'lmao 10-19-adultsUser37     dang   ', 'lol', 'omg lol 10-19-adultsUser50', 'LoL', 'hah', 'LoL 10-19-adultsUser32', 'lol', \"10-19-adultsUser15: What's your sign?\", 'woof', 'how many of you were attracted to the same sex', 'sheesh', 'damn', 'lol', 'Yes, 10-19-adultsUser53?', ':)', 'omg 10-19-adultsUser28 !!!   whoaaaaaaaaaaaa', 'who was that reminder to', 'You too what, 10-19-adultsUser28? Hungry?', 'well ....    ~blusherZ~', 'brrrrrrr', 'LOL 10-19-adultsUser35', 'how do you know 10-19-adultsUser35', 'tell him how u really feel 10-19-adultsUser35 ;)', 'hahah 10-19-adultsUser28', 'Oh my 10-19-adultsUser15. .LoL', 'lmao', ';-)', 'lmao', 'LOL 10-19-adultsUser23 ', 'lol', 'dang', 'LOL 10-19-adultsUser28', 'o_0', 'LOL', 'LoL yep!', 'lol ', 'lmao', 'argh', 'omg', 'lmao', 'lol', 'lol', 'gawd', \"nickleback? gay? ok if they aren't they sure as hell are thinking about it\", ']:)', 'haha', 'lol 10-19-adultsUser47', 'lol', 'lol 10-19-adultsUser47', 'LOL', ':)', 'LoL', '  yawns......', 'funny :)', 'lol 10-19-adultsUser47', 'whats up everybody?????', 'lol', 'lol', 'lol 10-19-adultsUser28', 'lmao', 'lol 10-19-adultsUser47', ' How are is everything', 'who 10-19-adultsUser59 Me?', 'how are you', 'yawnssss......', 'how do you change your name?', 'yikes 10-24-40sUser28', ' ;-) ', '(((10-24-40sUser11)))', '((((((((((((((((((((10-24-40sUser34)))))))))))))))))))', '((((((((((((((((((10-24-40sUser33)))))))))))))))))))', '(((((((((((((((((10-24-40sUser35)))))))))))))))))))))', 'lmao, 10-24-40sUser21', 'hehehehe 10-24-40sUser21', 'lol', 'lol ', 'lmao ', 'haha', 'mary? ', 'lol', 'oh okies nawp aint seen her lol', 'hehehehe', 'lmao', '((((((((((((((((((((10-24-40sUser34_)))))))))))))))))))))))))))))))', 'lol 10-24-40sUser6', '((((((((((((((((((((((((((10-24-40sUser39)))))))))))))))))))))', 'hugsssssssss', 'hello10-24-40sUser20', '10-24-40sUser34...how is 10-24-40sUser37?', 'who has alzheimers?', 'hahaha', 'lol lol ', 'lol, 10-24-40sUser33', \"what's he doing in the woods 10-24-40sUser34 ?\", 'out in the woods, i hear dueling banjoes lol', 'lmao 10-24-40sUser16', 'lol 10-24-40sUser41', 'lol', 'lmao ', 'lol 10-24-40sUser34', 'lol', 'yay', 'good lord 10-24-40sUser42, how long have you known me ? lol ', 'lol', 'lol 10-24-40sUser6', 'lmao 10-24-40sUser41', '10-24-40sUser19 hahhahahaha', 'who is gay?', 'eeeek', 'lol 10-24-40sUser16', 'lol', 'lmao ', 'lol', 'omg', 'has to go for my homeboys 10-24-40sUser34 lol', 'haha', 'damn', 'why didnt ya say so 10-24-40sUser27, here ya go', 'what if its Tim mcgraw 10-24-40sUser13??', 'who is albert pujols , 10-24-40sUser35', '(((10-24-40sUser34))))', 'who is a redneck?', 'lol 10-24-40sUser41', ' ;-) ', 'who is 10-24-40sUser12?', 'lol, god so confused', 'who is Judy', 'lol 10-24-40sUser41', 'lmao', 'lol ', 'lol', 'sheesh', 'lol 10-24-40sUser16', '10-24-40sUser16, who you sheesin?', ';) 10-24-40sUser19', 'lol', 'lmao 10-24-40sUser13', 'heya 10-24-40sUser14!', '(((((((((((((((10-24-40sUser52)))))))))))))))))))', \"who's pervin and who they pervin?\", 'a perv? where? when? the name', 'lol', 'lol 10-24-40sUser19', 'lol', 'lmao 10-24-40sUser13', ' :-) ', 'hehehehe 10-24-40sUser3', ':)', '10-24-40sUser16?', ':) 10-24-40sUser19', 'lol', 'wtf is a 10-24-40sUser16 ??', 'lol', ' :-) ', '10-24-40sUser53, wher you been?', 'grrrrrrrrrrrrrrrrr', '10-24-40sUser52, where ya been all my life for the last hour?', 'whoo hooooo', 'why is 10-24-40sUser37 grrrrrring?', ' :-) ', 'lol', 'yikesssss', 'lmao@10-24-40sUser53', 'lol', ' ;-) ', 'lmao', 'wow 10-24-40sUser3', 'naked? who is naked? where?', 'lol', 'lol pay', 'lol, 10-24-40sUser50', 'lol', 'uffff', 'lol 10-24-40sUser13', \"i'm on lunch, whats on the menu today?\", 'at what time', 'hugs 10-24-40sUser6', '(((((((((((((((((10-24-40sUser57))))))))))))))))))))))', 'who comes here really just to ask someone where they live and wont stop when i say maybe later', 'lol', 'lol', 'lol', 'what do you like, 10-26-teensUser86?', 'Whats going on in this room?', 'Same here', 'two left feet? what kinda music you into?', 'Then what do you like 10-26-teensUser86?', 'what up doe', 'remember what?', 'haha', 'Nice what?', 'lol', 'What', 'haaa.', 'whose the sick girl', 'lol', 'mono? what the heck is that', 'lol', ' ;-) ', 'lol opps', 'lol', ';]', \"i knew why didn't you\", 'Bwhaha', 'heh', 'ehh, why dont people talk to me anymore', 'What in the hell is 10-26-teensUser122 doing here?  Lol.', 'That happens alot', 'lol', 'Who are you 10-26-teensUser119? lol', 'lol', 'lol', 'hes cool too', 'whats the obsession with people wanting to freaking cyber', 'how come he wasnt booted', 'hey que pasa', \"why'd your boss always where red?\", 'Nadda, y tu?', 'lol', 'lol', \"what's up dork?\", 'heyy sweet girl how r  u ', 'how can you give it to someone good when all you do is type and the other just reads?', 'lol', '???', 'lol', 'how can you manage that 10-26-teensUser98', 'lol', ':)', 'haha.', 'asl all', 'awwww', 'how are you?', 'who wants to chat?', 'how are u 11-06-adultsUser35?', 'wtf is wrong with being 30? lol', '?', 'Lol', 'you are a hottie too, but who is the chick in the pic?', ':o *', '=O', 'lol', ' :-o ', 'lol', 'what you up to sassy?', \"lol....who's 11-06-adultsUser45?\", 'who r u 11-06-adultsUser37?', 'aww', 'HOW?!', 'pffft', 'haha ;)', '(((((((((( 11-06-adultsUser99 )))))))))))', 'MUAH!!!!!', 'oops ', 'what did I miss in the 2.3 seconds I was out?', 'so what the fawk is goin on tonight', 'eww', 'LOL why did you kick me?', 'haha 11-06-adultsUser60', 'haha', 'lolol', '(((((((((( 11-06-adultsUser105 ))))))))))', 'lol', 'wOOt wOOt!!!', 'lol', 'lol', 'ck', 'LOL 11-06-adultsUser105.... wahoooooooo', 'what is that saying abou tthe rest of us?', 'teehee', 'ha', '^_^', 'LOL', \"yawn'\", 'lol', 'damn', 'so 11-06-adultsUser88 - why no pic', ' :-) ', 'where is the fun in that?', 'where is everyone from?', 'so where is everyone from?', 'pa here 11-06-adultsUser103', 'nj here 11-06-adultsUser35', 'lol 11-06-adultsUser5', 'lol', 'who says that?', 'lol', 'where in ohio 11-06-adultsUser19?', 'bwahahahahahahahahahaha', 'where you from?', 'lmao 11-06-adultsUser105', 'whats up', 'wha?', 'Lol', 'lmao', 'lol 11-06-adultsUser105', ':O', '11-06-adultsUser29!!! :-@ ', 'LMAO damn it 11-06-adultsUser105! ', '11-06-adultsUser85 where are you from?', 'lmao 11-06-adultsUser42', 'o.O', \"how can ya be in the innocent corner alone if we're in the corner naked? lol\", '(((((((((((( 11-06-adultsUser58 ))))))))))))) <3', 'lol', '[[[[[[[[[[[[[[[[[[ 11-06-adultsUser37 ]]]]]]]]]]]]]]]]]]]]]', 'omg', 'lmao', 'how are ya 11-06-adultsUser58?', 'lol', \"how's you 11-06-adultsUser58\", 'grrr', 'grrr', '=(', 'lmao 11-06-adultsUser53', '=(', 'lol', 'lmao 11-06-adultsUser53', '1cos age loc?', ':-o', 'Lol', 'lol', '11-06-adultsUser115 omg', 'why a blue frown?', '11-06-adultsUser105 omggg', '11-06-adultsUser5?', 'lol', 'gaspppp', 'LOL', ' -( ', 'hugsss:)', 'Hi 11-06-adultsUser57 - where you from?', 'heh', 'lol', 'pmsl?', 'lol', 'aw thanks11-06-adultsUser105:)', 'YaY!', 'o.O', '11-06-adultsUser60 <3333333333333333', '11-06-adultsUser105 <33333333333333333', 'haha', ':P', 'how are you 11-06-adultsUser129?', ':)', 'lol 11-06-adultsUser115', ':)', \"how's you 11-06-adultsUser130?\", 'eh good hows things 11-06-adultsUser105?', '11-06-adultsUser129...where you from?', 'ugh', 'lmao 11-06-adultsUser69', '(((( Paul ))))', 'lol 11-06-adultsUser69', '(((((11-06-adultsUser25))))', ':O', 'lol', 'lol', 'lol', 'good u 11-08-20sUser52?', 'lmao 11-08-20sUser18', 'lol', 'lol', 'lol', 'LOL', ' :tongue: ', 'how are ya sweetie', 'muhaha', 'im well and yourself', 'lol', 'lol', 'lol', 'lol 11-08-20sUser90', ':p', ' :-) ', 'lol', 'lol', 'lmaoo 11-08-20sUser54!!!', 'lol', 'whats that', 'lol 11-08-20sUser110 youre crazy', 'lol', 'lmao', 'lmao', 'heheh', 'oooOOOOoooo', 'lol', 'lol@sesky', ' ;-) ', 'lol', 'lmao', ' :tongue: ', 'awwwwwwwwww', 'AHAHH', 'lol', 'lmao 11-08-20sUser104!!!', 'lol', 'whats black and whitte and red all over?????', 'lmaoo', 'webcam.. woot woot', 'OMG', 'lol 11-08-20sUser21', 'heeheeheeheeheehee', ' :tongue: ', 'whats pink, siver and red?', 'HAHAHA', 'whats green and silver?', 'LOL', 'dont cry baby.. why??', \"who's your wife?\", 'hahahahahaha', 'who?', ':-@', 'haha', ' :-( ', 'what goes round and round and burns', 'lol ask her', 'when did that happen?', 'lol', 'LOL', 'hohohohhohhoo', 'ha!', 'umm what 1 month ago 11-08-20sUser110?', ':-o', 'i agree wtf is they talking about', 'lol', 'lol', 'lol @ cool', 'lol', 'what does the blind deaf retarded kid get for xmas?', 'why not!!', ':-@', 'lmao 11-08-20sUser21', 'why?', 'lol', 'haha 11-08-20sUser21', '11-08-20sUser70 why do you feel that way?', 'wow.. LOL', 'hahahaHA', 'lol', 'eww eeww eeewwwwww', 'HUH?', 'mmmm', 'who ate all the pies, who ate all the pies', 'LOL', 'haha', 'lmaooo 11-08-20sUser70!!!!!!!!!', 'LOL', 'haha', 'LOL', 'LOL 11-08-20sUser91.. ;)', 'lmaooo', ';-)', 'lol', 'LOL', 'lol', 'lol', 'why were you standing in the first place', 'raarrrrrr', 'lol', 'lol 11-08-20sUser65. ', 'LMAO', 'o geez', 'jajajaaa', 'lol', 'lol', 'hahaha', 'mwahhs 11-08-20sUser69', 'what happened last night?', 'lol', 'lol', 'lol 11-08-20sUser65!!!!', '11-08-20sUser54 what did you want', 'lol', 'lmaooo 11-08-20sUser69!!!!!!!!!!!!!', 'lmao', 'lol 11-08-20sUser21 ', 'OMG', 'lol', 'omg', 'awww sad', 'how are you feeling 11-08-20sUser69?', 'lol 11-08-20sUser69!!!!!!!!!!', 'how are ya 11-08-20sUser31?', 'good how are you', 'damn', 'lol', 'aww ', ':)', ';)', ':)', 'lol', 'mwahhss', 'where is elle?', ' :tongue: ', 'why is everyone askin me!!!', 'lol', 'hahaaa', 'how you been 11-08-20sUser50', 'lmao 11-08-20sUser21', 'lol 11-08-20sUser91!!!', 'lmaooooo', 'LOL', ';)', 'AHAHHA', 'stop it lol', 'what?', 'who', 'lol', 'uh o', 'lol 11-08-20sUser65', 'AHHAH 11-08-20sUser21', 'lmao im serious when did you start using elbows?', 'lol', 'lol 11-08-20sUser54', 'LOL', 'wtf is this talk about elbows & knees!???', 'hahaha', 'lol', \"who's a virgin?\", 'I am laughing so hard', 'im standin where?', 'who', 'lol', 'wtf is goin on!!!', 'lol', 'aw', 'o shit', 'lol', 'whos talkin shit to u', 'LMAO 11-08-20sUser91', 'LOL', 'lol11-08-40sUser2', '(((((11-08-40sUser19))))', 'wants you to what', 'lol...11-08-40sUser18', 'lol ', ':)', 'where r u 11-08-40sUser30? ', 'how did it ever get called \"perving\" anyway?', 'where?', \"i know but what's perverted about reading profiles?\", 'what happened 11-08-40sUser18?', 'wut 11-08-40sUser29? ', 'what was  alcopones nick name', 'who cares 11-08-40sUser34?', 'what was his nicname 11-08-40sUser34?', 'lol', 'who ran off?', 'so whats happening', '11-08-40sUser24 what was the name of lincolns famous speech ', 'lol', '11-08-40sUser36 hugsss', '11-08-40sUser25!!   lol', 'lol 11-08-40sUser38', '11-08-40sUser40 muahsssssssssssssssssss', 'hiya 11-08-40sUser7..how are u', '11-08-40sUser48....hugs hun', '(((((((((((((((hey yall)))))))))))))', ' (((((((((((((11-08-40sUser7)))))))))', 'good u 11-08-40sUser47', ' (((((((((((11-08-40sUser24)))))))))', 'how have u been doing 11-08-40sUser46', 'lol 11-08-40sUser6', 'lol  ty 11-08-40sUser6', 'lol 11-08-40sUser48', 'lol 11-08-40sUser48', 'ok who sang that?', 'lol', ' hows ya doing?', ' hugzzzzzzz', 'in how many notes 11-08-40sUser18?', 'lol', 'lol', 'lol...', 'who sing the song  purple haze', 'jimmy hendrix', 'who sings bye bye boyfriend?', 'lol', 'lol', 'lol', 'hi how r u', 'who sang  \"Hey won\\'t you play another somebody done somebody wrong song?', '11-08-40sUser7?????????', '11-08-40sUser18 .... Maybe before your time but.... Who sang \"In The Ghetto\"?', 'who wrote the song crazy for patsy cline', 'hi 11-08-40sUser61..how are u', 'LOl 11-08-40sUser62...', 'who is the bigest turkey in here lol', 'lol....', 'what was johny cashes nick name', '11-08-40sUser58 LOL', 'lol 11-08-40sUser18', 'ok easy one who sings bad day?', 'what was willie nelsons nick name', 'lol', 'red headed stranger', '(((((((((((((((((((((((11-08-40sUser66)))))))))))))))', ' (((((((((((((((((((((((((11-08-40sUser65))))))))))))', 'whats up girl', 'hey 11-08-40sUser48..........how are ya', 'k 11-08-40sUser19 Ty & U?', 'lol 11-08-40sUser66', 'hi 11-08-40sUser48 where from?', 'what song did hank willams sang on monday night football on tv', ' 11-08-40sUser70 where  u from...I used to know a 11-08-40sUser70', 'ok who sang  \"slow hand\"', 'who broke the beattles up', 'lol', 'lol 11-08-40sUser7', 'lol', 'lol', 'lol', 'what did yoko say when John got shot', 'lmao', 'what tv show did the beattles sing om ', 'lol', ' (((((((((((((((11-08-40sUser73))))))))))))))', '((((((11-08-40sUser48!)))))))))))', 'lol 11-08-40sUser61', 'lol', 'who is that 11-08-40sUser66', ' hehe', 'who is who 11-08-40sUser28?', 'lol', 'whou said I idnt like...lol', 'lol', 'ugh', ' heheh 11-08-40sUser66', 'what what 11-08-40sUser48....huh ;)', 'lol 11-08-40sUser65', 'lol 11-08-40sUser7', 'HOW R U ALL DOING 2DAY', 'what do you weigh now 11-08-adultsUser70.... 93lbs soakin wet?', 'who did what to your eyes?', 'lol', 'how are you 11-08-adultsUser46 chica? ', 'ha just kidding', 'why 11-08-adultsUser70', 'how long?', 'I am good, 11-08-adultsUser3 .. how you doin tonight?', 'really 11-08-adultsUser35? Why?', 'how long have you been taking it 11-08-adultsUser56?', 'holy crap!', 'PRIVMSG 11-08-adultsUser13 how are you doing tonight', 'LOL HEY!', 'lol 11-08-adultsUser65', 'haha', 'Wellbutrin? since when is Wellbutrin used for that?', 'mwahs 11-08-adultsUser35', 'lmao 11-08-adultsUser3', 'lmao 11-08-adultsUser3', 'awww 11-08-adultsUser92 *blush*', 'lol 11-08-adultsUser3', 'moans for no reason', 'lol', 'where is everyone at', 'who are you 11-08-adultsUser59?', 'LMAO @ 11-08-adultsUser65 ', 'lol hi 11-08-adultsUser65', 'lol 11-08-adultsUser65', 'LMAO 11-08-adultsUser65 change it to wee 11-08-adultsUser65 LOL', 'huh?', 'hahah!', 'LMAO 11-08-adultsUser65 ', 'oh lord..', 'why?!?!?', '((((((((( 11-08-adultsUser3)))))))', 'what is here?', 'what?', 'who?', 'lol', 'how much it cost?', 'lol', 'lol', 'where are you 11-08-adultsUser59', 'haha!', 'how is everbody', 'lol', 'omg', 'which lady wants to pm me', 'was supposed to but never happend why? ', 'lmfao mike', 'yawns', 'what song', 'lol', 'LOL 11-08-adultsUser95 ', 'why dontcha go and try to find it for him 11-08-adultsUser108 :-)', 'LOL 11-08-adultsUser65 ', 'lmao 11-08-adultsUser65', 'what the shit is lucifuge?', 'where you at', 'LMAO 11-08-adultsUser53', ' lol@lucifuge', 'so, what have we disocvered my children?', 'lol', 'LMAO 11-08-adultsUser65 ', 'where is your home', 'ugh.', ':P', 'lol', 'lmao', 'woooohoooo', 'ahhhhhhhhhhhhhh', 'lol 11-08-adultsUser95', 'how have u been doing 11-08-adultsUser56..been awhile since chatted', '(((((((((((11-08-adultsUser3)))))))))))))', 'how come everything tastes like chicken but sometimes chicken doesnt taste like chcken', 'lol', 'hahaha 11-08-adultsUser28!', 'haha', '((((11-08-adultsUser3)))))', 'whats going on 11-08-teensUser22...', 'What class are you gonna be on 11-08-teensUser22? xD', 'whats balck and white and red all over?', 'hahahahahahaha', 'whats pink, silver and red?', 'hahaha', 'whats green and silver?', 'damn...', 'what goes round and round and burns?', 'hahahahahahahahahahahahahahahaha', 'damn', 'whats balck and blue and scared of sex?', 'haha', 'yawn...', 'haha', 'haha', '   ;-) ', 'haha', '???', 'hehehe yay', 'wut??', 'lol', 'who the hell shot kennedy??', 'whos kennedy', 'whos kennedy??!!', 'wow ', 'damn', 'Whaaa?', 'haha', '???', 'how is everyone', '-_-', 'who u talkin to?', 'what we talkin about?', 'how big are them guns, texan??', 'Like?', 'hehehe fart', 'who', 'hahaha', 'who', 'why yall so mean', 'Lol', 'damn...', 'what up', 'Wtf.', 'WTF', 'so how are the girls in here tonight?', 'asl hog?', '???', 'what good with u 11-08-teensUser137', 'where the girls at', 'lol', 'Haha why cingular?', 'lol', 'lol', 'lol', '=/', 'haha', 'damn', 'lol', 'slam', 'jesus H christ', 'damn!', 'haha', 'who u gonna kill 11-08-teensUser119?', \"what''\", 'what', 'what` song', 'what is unusual about it?', 'haha', 'hey, a/s/l?', 'what should we do about these chineese bears...what should we do about these friendly bears...', 'yay!', 'marilyn manson and charlie manson?? which one?', 'what?', 'eeeeeeeeewwwwwwww', 'Who the crap is that', 'haha', 'lol', 'damn', 'waaa!', 'haha', 'haha', 'what?', 'lol', 'what is a fly?', 'why?', 'star asl?', 'why?', 'why?', 'what u suck 11-08-teensUser119?', 'where in il', 'ldskdlsf', 'haha', 'sldfjlsdf', 'sdlfkjsj', ':)', 'wooo', 'yes!', 'who wants cookies?', 'Wtf, man', 'wooo', 'where', 'lol', 'yay!', 'hey where in md?', 'where is everybody?', 'slkfjsldkfjs', 'haha', 'whats up?', 'Ha.', 'aaaaaaaaaaaaaaaaa!', 'raaaaaaaaaaaaaaaaaaaaaaaaaaaaa', 'weeeeeeeeeeeeeeee!', 'yawn..', 'LoL', 'how are we all?', '11-09-20sUser31 why arent you employed?', 'lmao', 'Aww', 'LOL', 'huh?', 'LoL', 'LOL', 'What the bloody hell happened there', 'lol', '11-09-20sUser101  like what', 'what is the conversion about..?any guide for me?', 'What the hell? Where did the 2 come from???', 'who did?', 'LoL', 'lmao', '11-09-20sUser105 why u pissed', 'lol', 'lol', '11-09-20sUser53 where are you?', ':)', 'who wants to play', 'LOL', 'o0 what we dancing to 11-09-20sUser114?', 'were are all the ladies at', 'who wants to learn spanish ', 'lol.......why are you getting xcitable?', 'West Little Rock, Arkansas here', 'Why are there only two choices', 'howz every1 today?', 'whats up every1', 'what are u up to today 11-09-20sUser146', 'how are u doing?', 'LMAO', 'What part of Ark are you from 11-09-20sUser144?', 'LoL 11-09-20sUser89.', 'what kind of music', 'Whereabouts in kent?', 'LoL 11-09-20sUser34!', 'how are u doin?', 'Oh, so what about UFC 11-09-20sUser114?', 'how are u doin?', 'hello how are you', 'lol', 'LOL', 'how r u doing?', 'lmao ', '11-09-20sUser34 we should hook up!', 'lmao', 'Tell me what it is?', 'LOL shhhh', 'Oh by the way, to my American friends, Matt Hughes Or Rush St Pierre?', 'howz arizona?', 'lick me  you fool  lol  ', 'heyyy 11-09-20sUser168', '11-09-20sUser156 . . . how are you hon', '11-09-20sUser156  so  how  u been  sweet  thing  ', 'fine 11-09-20sUser168 and you?', 'wha time is it in the mainland?', 'ive been fine and you 11-09-20sUser156?', 'how r u today?', 'where are you from ms. 11-09-20sUser156?', 'ok I really do want to know how a 11-09-20sUser129 is a female and how does the nick abide by talkcitys rules?', 'whats up guys', 'awesomes! which island?', 'not much u 11-09-20sUser170', 'lol 11-09-20sUser156', 'what r u guys doing ', 'lol', 'o0', ';)', 'o0', 'which island are u headed to 11-09-20sUser40?', 'lol', 'double o0', '0o', '0o', 'haha', 'lol', 'lol', 'innit?', 'lol', 'Lol 11-09-20sUser87', 'lol', 'it got warm?', 'lol', 'root b gone?', 'awwwwww', 'what am I missing 11-09-40sUser18?', 'lol 11-09-40sUser8', 'hah 11-09-40sUser18', 'lol 11-09-40sUser18', 'hahahaa 11-09-40sUser18', 'giggles', 'lol', 'laffs', 'lmao 11-09-40sUser18', 'hahaha 11-09-40sUser4', 'lol', 'what color 11-09-40sUser18?', '(((((((((( 11-09-40sUser34 )))))))))))))', 'Hi 11-09-40sUser7.........how are you????', '11-09-40sUser34  ok here .. how have  you been ?', 'scusezzy 11-09-40sUser30?', 'lmao 11-09-40sUser18', 'lol', \"snow outside and cold soda inside .. what's wrong with this picture?\", 'hehehehe', ':)', 'lol', 'yes 11-09-40sUser30?????', 'haha 11-09-40sUser31 ', 'oh sorry 11-09-40sUser30......Hi.......how are u?????', 'I am cold but good thanks .. how are you?', 'omg 11-09-40sUser31', '??', 'lol', 'omg whats crusty 11-09-40sUser7, lol', 'lol', 'lol', 'ohwa. lol', 'lol 11-09-40sUser18 ', 'lol ', 'omg 11-09-40sUser30 yummy', 'lol', 'lol', 'i might  have yours 11-09-40sUser7..i always have extras', 'lol 11-09-40sUser31  ', 'lol 11-09-40sUser31', 'laffs 11-09-40sUser31', 'lol', 'Ct ?? huh ??? wheres that ', 'lol', 'lol 11-09-40sUser31', 'laffs 11-09-40sUser30', 'haha 11-09-40sUser7', ':-)', 'lol', 'lol 11-09-40sUser7', 'ahhh ....bummer ;-(', '11-09-40sUser39  wait ..  how much you make a  year ?', 'LMAO 11-09-40sUser7', 'and how do you make it 11-09-40sUser39??????? lol', 'blech 11-09-40sUser39', 'laffs 11-09-40sUser7', '11-09-40sUser39  .. where in Ct are you from ?', 'and ur problem there, 11-09-40sUser30???', 'hartford so what town are we not having an affari in!??', 'lol 11-09-40sUser18', 'if he cant get a pro 11-09-40sUser7, why bother', '11-09-40sUser7 how close are you to Indiantown Road?', 'who 11-09-40sUser39??', 'whynot!', 'lol', 'lol to 11-09-40sUser19', 'what is a fishercat?', 'how long does it take for a bottle of rum to refill itself?????', 'hah 11-09-40sUser18', 'lol 11-09-40sUser22', 'lol back', 'haha 11-09-40sUser18', '((((((((((11-09-40sUser34))))))))))) Hi honey.....how are you?', 'what can I say ;)', 'lol 11-09-40sUser18', 'lol 11-09-40sUser30', 'LOL 11-09-40sUser30', 'hows the camel', 'he must be stick and tired ;)', 'doin good, 11-09-40sUser47 ... how are you dear?', 'rofl 11-09-40sUser48!!!!', ';) 11-09-40sUser18!!!', 'lol 11-09-40sUser48', 'giggles', 'doing great here 11-09-40sUser49', 'lol', 'lol', 'hows things holdin up 11-09-40sUser52?', 'lmao 11-09-40sUser48', 'giggling', ':)', 'what part of MD 11-09-40sUser49?', 'rofl 11-09-40sUser49', 'hahaha 11-09-40sUser18', 'giggles', 'lol 11-09-40sUser48', 'lol 11-09-40sUser52', 'has no clue what the elevation is here', 'lol', 'lol', 'lmao 11-09-40sUser49', 'hahaah11-09-40sUser48', 'lol 11-09-40sUser48...', 'lol @ sea monsters', 'lol', 'ROFL 11-09-40sUser18', 'hahah 11-09-40sUser3', 'lol 11-09-40sUser18', 'wow 11-09-40sUser49', 'lol 11-09-40sUser56', 'lol', 'lol', 'LOL', 'lmao 11-09-40sUser48', 'How are you?', '11-09-40sUser28  ok here , You ?', 'huh..lol ?', 'lol', ' lol ', 'where from@11-09-adultsUser12', \"lol 11-09-adultsUser24 there's always yucky construction around here\", 'lmao', '11-09-adultsUser12 what you wanna chat about', 'what is a diseast ?', 'lol\\\\', 'whats the point in pm then@11-09-adultsUser12', 'hi how is everyone tonight', 'what were you asking', 'whats up', 'lol', 'lol 11-09-adultsUser22', 'why whats at 7am?', 'whats the time there?', 'but who cares 11-09-adultsUser0?', 'haha', 'lol 11-09-adultsUser44', 'how yer doing love?', 'who is making 27 an hour? haha', 'lol', 'haha', 'lol', 'so whats up with all this lame ass chat??', 'dunno whats up with you 11-09-adultsUser54', 'lol', \"what's something good to eat? haha.. I have coupons for Burger King\", 'lol 11-09-adultsUser0', 'pppppppppppew!!!!!', 'WHY WOULD ANY ONE WANNA TALK TO A LONLEY ASS GIRL WHEN THERES TWO HOTT BLONDES RIGHT HERE!!', 'where u all from in here', \"who's calling who imaginary?\", 'lol', 'mwahs 11-09-adultsUser72', 'what you up2 11-09-adultsUser72', 'psh', 'lol wth', 'lol', 'lol', 'lmao', 'from hot wheels', 'lmao', 'lol', 'so 11-09-adultsUser54 what do you do for a living?', 'whats up everyone ', 'lol', 'LOL', 'whats up 11-09-adultsUser72', 'LOL', 'lol', 'lol', 'lol', 'what u up to', 'hehe', 'lol', 'lol', 'lol', 'hehehe', 'ah ha', 'lol', 'lol', 'lol', 'lol', ':P', 'ty :)', 'lol', 'why did you feel bad, 11-09-adultsUser44?', 'hahahah', 'hahaha', ';p', 'oh my lol', 'lol', 'why you moving 11-09-adultsUser73 ....its smells like roses', 'omg', 'omg', 'omg', 'omg', 'Holy crap', 'lol', 'sorry?  what was that about fat asses...', '11-09-adultsUser100 what part of wv are you in?', 'LOL 11-09-adultsUser22', 'lol', \"11-09-adultsUser73: How much do you think  it is?   I'll come back to that later.\", \"LOL Why couldn't you call me??\", 'hahahaha!!!!!!', 'lol', 'lol', 'that sucks hon', ':(', 'LMAO', ' :p', 'lol', 'ahhahahaha!!!!', 'awww', 'LOL!!', 'lol', 'lol', 'lol', 'lol', 'whatcha listening to 11-09-adultsUser11?', 'lol', 'asl everyone', ':|', 'dsklgjsdk.', 'hgfhgfjgf', 'o<|=D', ' dsklgjsdk.', 'fkajslf', 'qwertyuiop', 'o.o', 'What the flippin heck.', 'lawl', 'When did I paste!?', '18 M here, GIRLS PM ME', 'LoL', '=(', 'DAMN', 'What did my toes do?!', 'you both have the same charge', 'wheeeeeeeeeeeeeeeeeeeeeeeeeeeeeeeeee', 'who is ', \"how come you didn't come into the shower\", '=/', 'who wants to talk', 'lol', 'why 11-09-teensUser142', 'Lmao.', 'who wants to talk to me', 'lol', 'nm u?', 'Whats really good room', 'How come purple cabbage tastes like ear wax?', 'what', 'maybe I should become the her', 'why not move the tv or computor into the same room 11-09-teensUser117?', 'who wants to talk to me', 'whos the game against?', \"And why can't you read about it in the paper?\", 'Who is 11-09-teensUser168?', 'Who is Her?', 'Lol.', 'Hahaaaa.', 'who wants to talk to a hot girl', 'how old are u 11-09-teensUser172', 'why not 11-09-teensUser98?', 'whats up with the holocaust names?  ', 'whats eroticaust???', 'lmao', 'o_O', 'babe asl?', \"e'wjfghky\", 'xD', 'LoL', 'Daniel<3', '=p', 'Marlaya<333333333!!!!!', '11-09-teensUser104 <3', 'eh..?', 'tisk tisk??????', '11-09-teensUser104!!!!!!!<333333333', 'o.O', '=D', 'lol', 'What happen to Jason 11-09-teensUser3? :/', 'Do what now, David?', 'what happened to the girl w/ the same birthday as me??????', 'Yarrrr.', 'Booyah.', 'Lmao.', ':D', 'You just want to humple her.', 'o.o', '11-09-teensUser197<3.', 'what up everybody', 'hey whats up room ', 'how are you ppl?', 'lol', 'lmao', 'hhehe', '11-09-teensUser34<33.', 'Heyyy. :) <33.', 'was up yall', 'Hahhaa.']\n"
          ]
        }
      ]
    },
    {
      "cell_type": "markdown",
      "source": [
        "Randomize the posts and create a training set and a test set, where the first 1300 **Emotion + whQuestion** posts are used for training and the rest for testing."
      ],
      "metadata": {
        "id": "t1K-jkXCzv4T"
      }
    },
    {
      "cell_type": "code",
      "source": [
        "# Your solution here\n",
        "# Divide training and test set\n",
        "import random\n",
        "random.shuffle(filtered)\n",
        "training_set = [filtered[:1300]]\n",
        "test_set = [filtered[1300:]]\n",
        "print(training_set)"
      ],
      "metadata": {
        "id": "1SQdx2rY0LG6",
        "colab": {
          "base_uri": "https://localhost:8080/"
        },
        "outputId": "5e7d864e-cdab-4b5d-97ae-30d324cad925"
      },
      "execution_count": 73,
      "outputs": [
        {
          "output_type": "stream",
          "name": "stdout",
          "text": [
            "[['why?', 'who comes here really just to ask someone where they live and wont stop when i say maybe later', 'ok easy one who sings bad day?', '(((((((((( 11-06-adultsUser99 )))))))))))', 'lol 10-24-40sUser34', ' :tongue: ', 'lol', ':)', 'LOL', 'lick me  you fool  lol  ', 'LOL', 'why were you standing in the first place', \"10-19-30sUser9...where'd you go?\", 'pfft', 'why?!?!?', 'lmao', \"where's there 10-19-30sUser31\", 'lol', \"yawn'\", 'who u talkin to?', 'lol', 'haha', 'what is a fly?', 'brrrrrrr', 'why not!!', 'hiya 11-08-40sUser7..how are u', ']:)', 'what stuff 10-19-30sUser11? ', '???', 'lol ', ':O', 'lol ', 'what type of music does your band play', 'Wtf, man', 'lol 10-19-20sUser121!!!', 'lol', 'lol', ':)', 'LOL', 'lol ', 'doin good, 11-09-40sUser47 ... how are you dear?', 'lol', 'lmao 10-24-40sUser41', 'haha 11-06-adultsUser60', ';)', 'why...', 'jimmy hendrix', 'what grade do you teach?', 'oh my', 'how much it cost?', 'who is who 11-08-40sUser28?', 'awwww', 'who wrote the song crazy for patsy cline', ':p', 'lol', ' hehe', '???', 'hehe', 'lmao 11-08-adultsUser3', 'o.o', 'who is gay?', 'lol', 'lol', 'wooo', 'lol', 'lol', 'how long have you been taking it 11-08-adultsUser56?', 'lol', 'lmao', '11-08-40sUser58 LOL', 'how are u doing?', 'what 10-19-30sUser11', 'lol', 'lol', 'lol lol ', ':)', 'lol', 'lol', 'lol 10-19-20sUser44 how do u know that', 'lmao 10-19-30sUser19', '(((((((((((11-08-adultsUser3)))))))))))))', 'lol', 'LoL', 'who wants to play', 'dunno whats up with you 11-09-adultsUser54', \"what''\", 'yikes 10-24-40sUser28', 'lol', 'lol', 'Whereabouts in kent?', 'LMAO 11-08-adultsUser65 ', 'Whaaa?', 'geeshhh', 'lol 10-19-30sUser11', 'holy crap!', 'red headed stranger', 'eeeeeeeeewwwwwwww', \"how come you didn't come into the shower\", 'who', 'wtf is a 10-24-40sUser16 ??', 'hgfhgfjgf', 'hahahaa 11-09-40sUser18', 'lol 10-19-20sUser6', 'lmao', ' :-) ', 'Hi 11-09-40sUser7.........how are you????', 'lmao 10-19-adultsUser23', 'lol', 'lmao', 'lmao', 'LOL', 'lol', 'haha 11-08-20sUser21', 'What in the hell is 10-26-teensUser122 doing here?  Lol.', ':)', 'lol', '((((((((((((((((((((( 10-19-adultsUser47 sis )))))))))))))))))))))', 'damn', 'lol 11-09-adultsUser0', 'in how many notes 11-08-40sUser18?', 'Just fine thanks, how are you?', ':)', 'Ct ?? huh ??? wheres that ', ' ;-) ', '10-19-30sUser11, how is brooklyn', 'oh okies nawp aint seen her lol', 'lol', 'lol', 'lol 10-19-30sUser17', 'lol 11-09-40sUser8', 'lol 11-08-40sUser7', 'lmao 11-06-adultsUser69', 'lol', 'heyyy 11-09-20sUser168', 'lol', 'where are you from 10-19-adultsUser35', 'lol wth', 'shaken or stirred 10-19-30sUser18?', '+*+*+*+* ...for you 10-19-40sUser34 :)', 'lol....', 'LOL 11-08-adultsUser95 ', 'whats eroticaust???', 'asl everyone', 'wtf is wrong with being 30? lol', 'LOL', 'what the shit is lucifuge?', 'lol', '((((11-08-adultsUser3)))))', 'lmao 11-06-adultsUser53', 'lol', 'what about you .....what is your fascination with the Russion Space Ships?', '???', 'why else darling?', 'Lmao.', 'who is Judy', 'lol', 'haha', 'When did I paste!?', 'ok here 10-19-40sUser45 . thank you for asking ....... how are you ?', ':)', 'what should we do about these chineese bears...what should we do about these friendly bears...', 'LoL', 'ok lol', 'bwahahahahahahahahahaha', 'Wellbutrin? since when is Wellbutrin used for that?', 'aaaaaaaaaaaaaaaaa!', 'why 11-08-adultsUser70', 'LOL 10-19-adultsUser28', 'how are ya 11-06-adultsUser58?', 'hehehe fart', 'lol', 'what happened to the girl w/ the same birthday as me??????', 'lol', 'who is that 11-08-40sUser66', 'lol', 'ok I really do want to know how a 11-09-20sUser129 is a female and how does the nick abide by talkcitys rules?', 'lol, 10-24-40sUser33', 'what kind of music', '10-19-adultsUser520, 10-19-adultsUser32. .LoL', 'lol', 'LMAO', 'where is your home', 'lol 11-09-40sUser48', 'lol 11-08-20sUser90', 'ok who sang  \"slow hand\"', 'lol', 'haha', 'LOL 10-19-adultsUser23 ', 'lol', 'yawns....', 'awwwwww', 'lol', 'lol', 'lol', 'lol', 'whats up?', 'lol 11-09-40sUser31  ', 'l', 'hohohohhohhoo', 'wheeeeeeeeeeeeeeeeeeeeeeeeeeeeeeeeee', 'lol', 'Bwhaha', 'Holy crap', 'what color 11-09-40sUser18?', 'sorry?  what was that about fat asses...', 'West Little Rock, Arkansas here', 'sup  10-19-adultsUser37 ???????', 'where did that come From?', 'not much u 11-09-20sUser170', 'what about me 10-19-30sUser31', 'lol', 'why whats at 7am?', 'was up yall', 'who', 'lmao', 'haha', 'what happened 11-08-40sUser18?', 'and ur problem there, 11-09-40sUser30???', 'lol 10-19-20sUser115...', '11-06-adultsUser60 <3333333333333333', 'lol', 'lol 10-19-40sUser11', 'wats are they?', 'lol', 'damn', 'how many LIX      DOES it take to get to the middle ????', 'lol', 'lol 10-19-30sUser19', 'muhaha', 'why not move the tv or computor into the same room 11-09-teensUser117?', 'lmao 10-24-40sUser13', 'lmaooo 11-08-20sUser70!!!!!!!!!', 'how are you 11-08-adultsUser46 chica? ', 'yawn...', 'LOL', 'lol', 'who?', '11-09-teensUser104 <3', 'sheesh', 'rotflmao ', 'LoL', 'lol', 'who wants to learn spanish ', 'gawd', 'how old are u 11-09-teensUser172', 'lol', ':P', 'what does the blind deaf retarded kid get for xmas?', 'haha.', ' ;-) ', 'lmao 11-08-adultsUser65', 'haha', 'waaa!', 'who the hell shot kennedy??', 'LoL', 'wat did u do 10-19-20sUser6?', 'i hate you.', 'Like?', 'lol', 'lol 10-19-40sUser3', 'HUH?', 'nj here 11-06-adultsUser35', 'Why 10-19-adultsUser45?', 'lol', \"lol....who's 11-06-adultsUser45?\", 'ok seriously who was the dumbass that signed kev fetterline a rap deal????', 'lol', 'ehh, why dont people talk to me anymore', 'laffs 11-09-40sUser30', 'ugh.', 'lol', 'lol', 'lol *sniffs*', ':)', 'how are you 10-19-30sUser23', 'lol', '10-19-30sUser11 lol', \"What kind of consultant are you....I'm a financial consultant\", '(((((((((((((((10-24-40sUser52)))))))))))))))))))', '(((((((((( 10-19-adultsUser47 )))))))))))))))', \"how's you 11-06-adultsUser130?\", 'o.O', 'ugh', '10-19-20sUser23 how old r u', 'lol', 'wow.. LOL', 'qwertyuiop', ':)', '(((((11-08-40sUser19))))', 'hahahahahahaha', 'what kinda of sucker bloe pop or a dum dum ????', ':P', 'o.O', 'where in il', '(((((11-06-adultsUser25))))', 'Haha why cingular?', ':)', ' ;-) ', 'lol', 'lol', 'lol 11-08-20sUser69!!!!!!!!!!', '((((((((((10-19-40sUser42))))))))))', ' :-) ', 'lol opps', \"how's you 11-06-adultsUser58\", 'how are you', '(((((((((( 10-19-adultsUser28 )))))))))))))', 'i might  have yours 11-09-40sUser7..i always have extras', 'lmao', 'who was that reminder to', 'why is 10-24-40sUser37 grrrrrring?', 'whatcha listening to 11-09-adultsUser11?', 'lmao', 'hehehehe', 'yawns', 'why 11-09-teensUser142', 'wtf', '=(', 'who did what to your eyes?', 'lol', 'lol 10-19-20sUser83', 'lmao', 'lol', 'boo.', ':)', 'jerkettes?? lmao', 'huh?', 'how r u 10-19-20sUser128', 'LMAO 11-08-20sUser91', 'LOL HEY!', 'lol', 'lol 11-08-40sUser48', 'ha', 'lol', 'who u gonna kill 11-08-teensUser119?', 'haha', 'why?', '11-09-20sUser34 we should hook up!', 'haha', 'haha', ' dsklgjsdk.', 'slam', '((((((((( 10-19-adultsUser32 )))))))))))', 'Lol', 'how many of you were attracted to the same sex', ':-@', 'so 10-19-30sUser11 how was youer day', 'you are a hottie too, but who is the chick in the pic?', 'Lmfao', 'grrrrrrrrrrrrrrrrr', 'what was willie nelsons nick name', 'lol', 'MUAH!!!!!', 'lmao', 'what?', '11-09-40sUser28  ok here , You ?', ':o *', 'lol', 'what?', 'lmaooo 10-19-20sUser92!!!!!!', 'LOL 11-08-20sUser91.. ;)', 'what tv show did the beattles sing om ', 'how r u today?', \"what's the flavour of the day 10-19-30sUser9\", '=D', 'what up doe', 'LOL why did you kick me?', '(((((((( 10-19-adultsUser16 ))))))))))', 'whats not to like 10-19-adultsUser15?', '(((((((((( 10-19-adultsUser35 )))))))))))))', 'was supposed to but never happend why? ', 'lol', \"who's your wife?\", 'lol', 'lol 10-19-40sUser9', 'where are you from ms. 11-09-20sUser156?', 'LOL 10-19-adultsUser35', 'lol', 'lol', 'marilyn manson and charlie manson?? which one?', ' :-( ', 'giggling', 'where r u 11-08-40sUser30? ', 'hahaha', ';]', 'lol', 'lol', 'lol', 'ck', 'lol 11-08-40sUser61', 'how are ya sweetie', ':(', 'how are you ppl?', 'who cares 11-08-40sUser34?', 'what did I miss in the 2.3 seconds I was out?', 'hehehehe 10-24-40sUser21', 'o geez', 'yes!', 'lmao 11-06-adultsUser42', '1cos age loc?', 'aw', ';) 11-09-40sUser18!!!', 'huh..lol ?', 'what list should i put him in??', 'lmao', 'heh', 'psh', 'whats pink, siver and red?', 'lmao', 'forwads?', 'so, what have we disocvered my children?', 'eeek', 'lol 11-08-40sUser7', '10-24-40sUser16, who you sheesin?', '=(', 'he must be stick and tired ;)', 'lol', 'sdlfkjsj', 'Lol.', 'LoL 11-09-20sUser34!', 'rolls her eyes @ 10-19-40sUser9', 'ughhh', 'lol', 'handle?', 'lol', 'omg lol 10-19-adultsUser50', 'hi how is everyone tonight', 'hahaha', 'lol ', 'o<|=D', '  yawns......', 'lol', ':P', 'weeeeeeeee thanks 10-19-40sUser19!', 'lol', 'OMG', 'who sing the song  purple haze', 'LOL', 'whooo hooo', 'heh', 'pmsl?', 'lol', 'lmao 11-09-40sUser48', ' :-) ', 'LOL ', 'hehe', 'LOL', 'lol 10-24-40sUser16', 'it got warm?', ' (((((((((((((((((((((((((11-08-40sUser65))))))))))))', 'im good thanks 10-19-adultsUser16   yerself??', 'lol pay', '?', 'ah ha', 'lol 10-19-40sUser35, 10-19-40sUser30', 'woohoo!', 'Yikes', 'lol 11-09-adultsUser44', 'lol', 'awwwwwwwwww hugs 10-19-40sUser19', 'Nadda, y tu?', 'damn!', 'oops ', 'lol', 'hhehe', 'hah 11-09-40sUser18', 'lol', 'lmao', 'haha', 'lmaoo 10-19-20sUser7', 'yay!', 'you both have the same charge', 'yay', 'Who is 11-09-teensUser168?', 'who broke the beattles up', 'sldfjlsdf', 'haha ;)', '^_^', 'LMAO 11-08-adultsUser53', 'ouch..10-19-40sUser20', 'so whats happening', 'grrr', ':P', 'wow 10-24-40sUser3', 'where is everyone from?', 'lol', 'lol', 'where is elle?', 'how can you manage that 10-26-teensUser98', 'lol', 'fkajslf', 'ewwwww lol', 'HAHAHA', 'lol', 'Who are you 10-26-teensUser119? lol', 'scusezzy 11-09-40sUser30?', '((((((((((((((((((((10-24-40sUser34)))))))))))))))))))', 'LOL', ' lol ', 'how is everyone', '11-09-20sUser156 . . . how are you hon', 'damn', 'YaY!', 'I am laughing so hard', 'lol', 'good and urself ', \"10-19-adultsUser15: What's your sign?\", 'When', 'LMAO damn it 11-06-adultsUser105! ', 'lol 11-08-adultsUser65', 'lol 11-06-adultsUser69', 'o0', 'rofl 11-09-40sUser49', 'hartford so what town are we not having an affari in!??', 'jesus H christ', 'phone 10-19-20sUser92?', 'where is the fun in that?', 'what?', 'boo.', 'who did?', 'lol @ innocent', 'lol@sesky', 'hows things holdin up 11-09-40sUser52?', 'lol 10-19-40sUser9', 'lmaoooo', ' heheh 11-08-40sUser66', 'im good 10-19-adultsUser23 dear.   How are you 10-19-adultsUser23 ~winkZ~', 'ahhahahaha!!!!', 'omg', 'when did that happen?', 'what is the conversion about..?any guide for me?', 'howz every1 today?', 'lol', 'lol', 'lol', 'what good with u 11-08-teensUser137', 'haha', 'lol 11-08-40sUser48', 'What class are you gonna be on 11-08-teensUser22? xD', 'how you doin 10-19-20sUser139', 'has no clue what the elevation is here', 'hahaah11-09-40sUser48', 'lol', 'lol', 'hahah@baby', 'I am good, 11-08-adultsUser3 .. how you doin tonight?', 'haha', 'who wants cookies?', 'haha', 'lol', 'ty :)', 'lol 10-19-30sUser28', 'and how do you make it 11-09-40sUser39??????? lol', '11-08-20sUser70 why do you feel that way?', 'oh ny gosh', 'oh joy', 'AHAHHA', 'chuckle 10-19-40sUser20', 'lol', 'Oh, so what about UFC 11-09-20sUser114?', 'what we talkin about?', 'Lol 11-09-20sUser87', 'lol 11-09-20sUser156', 'lol ', 'Daniel<3', 'whoo hooooo', 'hehehehe 10-24-40sUser3', 'who is ', 'omg', 'ok who sang that?', 'whats balck and white and red all over?', 'lmao im serious when did you start using elbows?', 'rofl 11-09-40sUser48!!!!', 'geeshh', 'where u all from in here', 'LOL', 'sigh', 'lol 10-24-40sUser41', 'haha 11-09-40sUser31 ', 'hugsss:)', 'Who is Her?', 'LOL 11-09-adultsUser22', 'whats the point in pm then@11-09-adultsUser12', 'lol 10-19-30sUser25', 'who has alzheimers?', ';) 10-24-40sUser19', '((((((11-08-40sUser48!)))))))))))', 'ewwwwww', 'whats green and silver?', 'how long?', 'lol', 'lol', \"e'wjfghky\", 'webcam.. woot woot', 'lol', \"How cool are ya' 10-19-adultsUser41?\", 'lol', '(((((((((( 10-19-adultsUser1 sis ))))))))))))))', ' (((((((((((((((11-08-40sUser73))))))))))))))', '(((((((((((((((((10-24-40sUser57))))))))))))))))))))))', 'lol', 'lol', \"i knew why didn't you\", 'whats up girl', 'hes hawt too', 'pffft', 'lmao ', 'lol', 'Same here', '11-06-adultsUser115 omg', 'haha', ':|', 'lol ', 'lol 11-09-40sUser56', 'lol 10-19-40sUser25', 'whats up 11-09-adultsUser72', '10-19-40sUser18 hugsssss :)', 'why a blue frown?', 'who wants to talk to me', 'yay!', 'lol', 'uffff', 'why so mad 10-19-30sUser19', 'heeheeheeheeheehee', 'how have u been doing 11-08-40sUser46', 'lol', ':O', 'oooOOOOoooo', 'lol', ':)', \"so what are we talkin' about tonight?\", 'aww ', 'ha ha ha 10-19-adultsUser23!!!', 'lol', 'lol', 'mary? ', 'lol', 'lol 10-19-adultsUser28', 'whats the obsession with people wanting to freaking cyber', 'lol', 'lol 10-24-40sUser41', 'lmao ', 'lmao', 'heyy sweet girl how r  u ', 'lmao 10-19-30sUser17', ' :-) ', 'wha?', 'lol', 'lol', '11-09-teensUser34<33.', 'what r u guys doing ', 'lol', 'lol 10-19-40sUser3', '11-09-adultsUser12 what you wanna chat about', 'lol 11-09-40sUser18', 'LOL', 'haha', ' :-) ', 'wut??', \"LOL Why couldn't you call me??\", 'OOooOO:)', 'lmao', 'Do what now, David?', 'lol.......why are you getting xcitable?', 'LOl 11-08-40sUser62...', 'that sucks hon', 'and what happened to her 10-19-30sUser17?', 'why yall so mean', 'hello how are you', 'damn', 'who says that?', 'why?', 'whou said I idnt like...lol', 'laffs 11-09-40sUser7', 'how come he wasnt booted', 'whats pink, silver and red?', 'lol', '((((((((((( 10-19-adultsUser23 ))))))))))))))', 'lol', ' :-) ', 'lol 10-24-40sUser13', 'hahaha 11-09-40sUser18', 'what do you weigh now 11-08-adultsUser70.... 93lbs soakin wet?', 'lmao 10-19-30sUser25', 'LMAO 11-09-40sUser7', 'how you been 11-08-20sUser50', 'lmao 11-08-adultsUser3', 'LOL 10-19-adultsUser36 !!!!!', 'yikesssss', 'haha 11-09-40sUser7', 'out in the woods, i hear dueling banjoes lol', 'Ha.', 'lol 11-09-40sUser48...', 'mwahhs 11-08-20sUser69', 'hehe', 'Oh my 10-19-adultsUser15. .LoL', 'whos talkin shit to u', 'Rofl 10-19-adultsUser32', '11-08-20sUser54 what did you want', 'lol 11-09-adultsUser22', 'lmaooo 11-08-20sUser69!!!!!!!!!!!!!', ':P', 'o0 what we dancing to 11-09-20sUser114?', 'hehehehe', 'lol', '(((( Paul ))))', 'how long does it take for a bottle of rum to refill itself?????', ':) 10-24-40sUser19', 'funny :)', 'hey, a/s/l?', 'lol', \"who's a virgin?\", 'wtf is goin on!!!', 'lol', 'lol', \"i know but what's perverted about reading profiles?\", 'lmaoo 11-08-20sUser54!!!', 'wb ((((10-19-40sUser24))))', 'lol', 'how have u been doing 11-08-adultsUser56..been awhile since chatted', 'good u 11-08-20sUser52?', 'lol', 'lol', 'lmao 10-19-30sUser17', '((((((((( 11-08-adultsUser3)))))))', ' :blush: ', '11-08-40sUser7?????????', 'LOL 10-19-adultsUser34', 'o0', 'what goes round and round and burns?', 'lol', ':-o', 'how are u doin?', 'giggles', 'AHHAH 11-08-20sUser21', 'what are you talking about 10-19-adultsUser35', 'haha', 'lol', 'lol 11-09-40sUser7', 'what r u searching for?', 'awww 11-08-adultsUser92 *blush*', 'whats the time there?', ':-o', 'were are all the ladies at', 'what is here?', 'lol 11-09-40sUser22', 'Ms 10-19-30sUser1, what u research.', 'who wants to talk to a hot girl', 'o_O', 'who is a redneck?', 'lol', 'which island are u headed to 11-09-20sUser40?', '10-19-adultsUser47 huuuuuuuuuuuuuuuuuuuuuuuuuuuuuuuuuuugZ', 'lol', 'where you from?', 'LOL @ moped   ', 'lol 10-19-30sUser28 ', 'lol 10-19-40sUser9', 'how do you change your name?', 'lmao!!!', 'lol ', 'how is everbody', 'lol @ sea monsters', 'ahhh ....bummer ;-(', '10-24-40sUser19 hahhahahaha', 'lol', 'what is unusual about it?', 'how come everything tastes like chicken but sometimes chicken doesnt taste like chcken', 'what if its Tim mcgraw 10-24-40sUser13??', 'omg', 'lol', 'hiya 10-19-40sUser46 how are you today', 'how can you give it to someone good when all you do is type and the other just reads?', 'lmao ', 'lol 11-08-20sUser91!!!', 'asl all', 'lol', 'hahaha 11-08-adultsUser28!', 'LoL', 'woooohoooo', '11-08-40sUser40 muahsssssssssssssssssss', '=p', 'what was johny cashes nick name', 'lmao', 'sry 10-19-adultsUser1 lol', 'aw thanks11-06-adultsUser105:)', 'ouch 10-19-40sUser34', 'lol 11-09-40sUser48', 'lol', 'Hugs for you 10-19-40sUser52', 'lmao 10-19-adultsUser35', 'lol 11-09-40sUser30', 'Nice what?', 'omg 11-09-40sUser30 yummy', 'That happens alot', 'lol', 'I am cold but good thanks .. how are you?', 'at what time', 'slkfjsldkfjs', 'wooooohoooo', 'lol', 'lol, god so confused', ';-)', 'LOL', 'LOL ', 'lol', 'hi how r u', 'lol', 'maybe I should become the her', 'where the girls at', 'what part of MD 11-09-40sUser49?', 'lol 11-08-40sUser18', 'what', 'hey que pasa', 'whos kennedy', 'so where is everyone from?', '11-06-adultsUser105 <33333333333333333', 'what is that saying abou tthe rest of us?', 'why didnt ya say so 10-24-40sUser27, here ya go', 'wooo', ' ;-) ', '0o', 'ooer 10-19-adultsUser1.. how r you darlin?', 'lol', 'why is everyone askin me!!!', 'huh?', 'lmao 11-08-20sUser18', 'lmfao mike', 'whats up everyone ', 'eww eeww eeewwwwww', ';)', 'who', 'whjat nationality are you 10-19-30sUser35?', 'haha', ';p', 'lol 10-19-40sUser9', 'hi 11-08-40sUser61..how are u', 'lol', 'lol', 'hahaha', 'lol', 'hahahaha!!!!!!', 'dang', 'lmao 10-19-20sUser7', 'ahhhhhhhhhhhhhh', 'has to go for my homeboys 10-24-40sUser34 lol', 'how are you?', 'lol', 'asl', 'lol 10-24-40sUser19', 'lol 10-19-20sUser115', 'argh', '(((((((((((((((((10-24-40sUser35)))))))))))))))))))))', 'lmao', 'who sings bye bye boyfriend?', 'lol 11-08-20sUser54', 'lol 11-09-40sUser18', 'whos kennedy??!!', 'who is 10-24-40sUser12?', 'lol', ' (((((((((((11-08-40sUser24)))))))))', 'hows your day goin 10-19-40sUser13', 'hehehe', 'haha', 'dang 10-19-20sUser30', 'lol', 'lol 11-08-20sUser110 youre crazy', 'lolololll serg!!!', 'LoL', 'whos the game against?', 'lol', 'what song did hank willams sang on monday night football on tv', 'how big are them guns, texan??', 'Why are there only two choices', 'lol', '=O', ' ;-) ', 'awwwwwwwwww', 'LOL', 'who ate all the pies, who ate all the pies', 'what, 10-19-20sUser92.', 'yawnssss......', 'teehee', 'lmao', 'what?', 'heheh', 'whynot!', '11-06-adultsUser105 omggg', 'lol 10-19-40sUser3', 'lol 10-19-adultsUser36', 'Lol', 'How are you?', 'root b gone?', '10-19-30sUser3 whaaaaats up in ohio?', 'where?', 'lol', 'hahahaHA', ';)', 'what was his nicname 11-08-40sUser34?', 'oh for crying out loud', ' 11-08-40sUser70 where  u from...I used to know a 11-08-40sUser70', 'LOL', 'hey there asl please?', 'hey where in md?', 'lol ', 'lol', 'lol', 'what took forever...the crap?', 'opps', 'lol', 'lol', 'aw yum', 'doing great here 11-09-40sUser49', 'from hot wheels', 'damn', 'what is a diseast ?', 'lol', 'lol back', 'lol', 'mwahs 11-09-adultsUser72', 'what what 11-08-40sUser48....huh ;)', 'where you going 10-19-30sUser25?', 'LOL!!', 'omg 10-19-adultsUser28 !!!   whoaaaaaaaaaaaa', 'omg', 'omg 10-19-adultsUser23 which color of lipstick do you think would look better on me the \"do me red\" or the \"pussy pink\" ', 'why are you back', 'AHAHH', 'pa here 11-06-adultsUser103', 'lol', 'lol', 'how are you 11-06-adultsUser129?', 'LMAO @ 80 ', 'hi 11-08-40sUser48 where from?', 'lol....', 'ha just kidding', 'babe asl?', '??', 'hahahahahahahahahahahahahahahaha', 'HALO 10-19-adultsUser35..WTF ARE YOU TALKING ABOUT', 'umm what 1 month ago 11-08-20sUser110?', 'why?', 'hahah 10-19-adultsUser28', 'lol 10-19-adultsUser47', 'what u up to', 'i did ?? hows that ', 'lol\\\\', 'blech 11-09-40sUser39', 'lol 11-08-20sUser21 ', '(((((((((((((((((((((((11-08-40sUser66)))))))))))))))', 'hahah!', 'hahaha', \"And why can't you read about it in the paper?\", 'lol 10-19-20sUser7', 'lol 11-08-adultsUser65', 'aw 10-19-20sUser115 whys that', '10-24-40sUser34...how is 10-24-40sUser37?', 'who sang  \"Hey won\\'t you play another somebody done somebody wrong song?', 'lol 11-06-adultsUser5', '-_-', 'great to hear 10-19-adultsUser16 ', '??', 'lol', 'What part of Ark are you from 11-09-20sUser144?', 'lol', '(((((((((((( 11-06-adultsUser58 ))))))))))))) <3', 'lmao', 'damn', '11-09-40sUser39  .. where in Ct are you from ?', 'haha', '11-08-40sUser48....hugs hun', 'LMAO', 'god this grrrrrrrrr', 'LOL shhhh', 'lol', 'lol', 'PRIVMSG 10-19-30sUser1 how are u?', 'ha', '11-06-adultsUser5?', '(((((((((( 11-06-adultsUser105 ))))))))))', 'lol', '11-08-40sUser18 .... Maybe before your time but.... Who sang \"In The Ghetto\"?', 'raaaaaaaaaaaaaaaaaaaaaaaaaaaaa', 'Who the crap is that', '10-19-adultsUser32 guess who was here the other night?', 'lol', 'good u 11-08-40sUser47', 'LOL', '((((((((((((((((((((10-24-40sUser34_)))))))))))))))))))))))))))))))', 'damn...', 'aww.', 'how r you 10-19-adultsUser32 dear?', 'lol', 'lol', 'lol @ cool', 'what do you like, 10-26-teensUser86?', 'haha', 'hugs 10-24-40sUser6', '11-09-20sUser53 where are you?', 'who is he 10-19-20sUser6?', 'lol 11-08-40sUser65', 'who are you 11-08-adultsUser59?', 'lol', 'oh no 10-19-40sUser34', 'LoL yep!', 'haha', 'lol', 'lol 10-19-40sUser18', 'what happened last night?', 'heya 10-24-40sUser14!', 'eh..?', 'Yarrrr.', 'yes 10-19-40sUser34?', \"10-19-adultsUser16.. I'm ok, how are you babe?\", 'lol', 'what did you but on e-bay', 'lol', 'lol 11-08-40sUser38', 'hahahahahaha', 'wow 11-09-40sUser49', '11-06-adultsUser29!!! :-@ ', ' How are is everything', 'whats up everybody?????', 'lmao@10-24-40sUser53', \"what's the latest?\", 'hey whats up room ', 'tisk tisk??????', '((((((((((((((((((10-24-40sUser33)))))))))))))))))))', 'lol', 'lol', '=(', 'what?', 'haha', 'kold....lol', '=/', ' :-) ', 'lol 10-19-adultsUser47', 'heee', 'LOL 11-06-adultsUser105.... wahoooooooo', 'what are u up to today 11-09-20sUser146', 'hahah', 'hehehe', 'lol', ':)', 'LoL', 'lol', 'lmao ', 'lol', 'lol', 'lol 11-09-40sUser18', 'lmao', 'awww sad', 'LMAO @ 11-08-adultsUser65 ', \"11-09-adultsUser73: How much do you think  it is?   I'll come back to that later.\", 'LOL ', ' :tongue: ', '11-08-40sUser25!!   lol', 'lol 11-09-40sUser31', 'dsklgjsdk.', 'lol', 'lol', 'k 11-08-40sUser19 Ty & U?', ' :tongue: ', 'lol', 'hugsssssssss', 'who is albert pujols , 10-24-40sUser35', '((((((((((((((((((((((((((10-24-40sUser39)))))))))))))))))))))', '10-24-40sUser53, wher you been?', 'lol', 'hehehe yay', 'what` song', 'wha time is it in the mainland?', 'how yer doing love?', 'lmao', 'LOL', 'lol', 'o.O', '11-09-20sUser156  so  how  u been  sweet  thing  ', 'hahahah', 'lmaooo', 'how r u doing?', \"oh, what'd he do?\", 'lol...11-08-40sUser18', 'lol 10-19-40sUser3', 'where you at', 'LOL', ':)', '11-08-40sUser24 what was the name of lincolns famous speech ', ' :-) ', 'damn 10-19-30sUser17... ', 'lol', 'if he cant get a pro 11-09-40sUser7, why bother', 'so what the fawk is goin on tonight', 'o_0', 'LMAO Randy', 'hows the camel', 'lol 10-19-20sUser7', 'how many 10-19-40sUser27 is there today? lol', 'lol hi 11-08-adultsUser65', 'DAMN', 'what up', 'lol11-08-40sUser2', 'lol 10-19-30sUser31 ', 'lol', \"what's he doing in the woods 10-24-40sUser34 ?\", 'lol', \"what's up dork?\", 'lol 10-19-adultsUser47', 'pppppppppppew!!!!!', '((((((((((11-09-40sUser34))))))))))) Hi honey.....how are you?', 'how are you feeling 11-08-20sUser69?', 'LOLOLOLLL 10-19-20sUser12', 'lol', ' -( ', 'hows u 10-19-adultsUser36 ???', 'damn', '11-06-adultsUser129...where you from?', 'nm u?', 'haha', 'giggles', 'yes 10-19-20sUser115?', 'hes cool too', '(((((((( 10-19-adultsUser35 )))))))))))', 'ha!', 'grrr', 'what do u do in CA', 'lmao', 'well 10-19-20sUser68 what did u buy', 'lol 11-09-40sUser52', 'How come purple cabbage tastes like ear wax?', 'lmao 10-19-30sUser17... dman', 'omg', 'hey 11-08-40sUser48..........how are ya', 'Awww @ 10-19-adultsUser1', 'well ....    ~blusherZ~', 'so whats up with all this lame ass chat??', 'damn', 'wut 11-08-40sUser29? ', 'lol', 'lol', 'lol', 'lol, 10-24-40sUser50', 'oh sorry 11-09-40sUser30......Hi.......how are u?????', \"why'd your boss always where red?\", '(((((((((( 11-09-40sUser34 )))))))))))))', 'lol', '11-09-40sUser39  wait ..  how much you make a  year ?', '11-09-teensUser104!!!!!!!<333333333', 'lol', 'WHY WOULD ANY ONE WANNA TALK TO A LONLEY ASS GIRL WHEN THERES TWO HOTT BLONDES RIGHT HERE!!', 'lol 10-24-40sUser41', 'cripos', 'where in ohio 11-06-adultsUser19?', 'omg', 'lol', 'lmao', 'laffs', 'LMAO 11-08-adultsUser65 ', 'haha', 'lol 11-08-40sUser66', 'mwahhss', ':P', '10-24-40sUser16?', 'lol', 'a perv? where? when? the name', 'who honey??', '10-19-20sUser121 how near kc ?', 'HAHAHA', 'what did yoko say when John got shot', 'lol', 'lol', 'hahaha 11-09-40sUser4', 'lol', ':)', 'PRIVMSG 11-08-adultsUser13 how are you doing tonight', 'lol 11-08-20sUser65', 'lmao 10-19-30sUser17', 'fine here and u 10-19-40sUser50', 'lol', 'why not?? girls are nice honey!!!', 'What the flippin heck.', ':)', 'LoL 10-19-adultsUser32', 'ugh', 'lol', ':-)', 'LOL', 'lol', 'damn...', ';-)', 'What', 'but who cares 11-09-adultsUser0?', 'lol', 'so how do you unwind 10-19-30sUser9?', 'lol', 'hahah 10-19-20sUser83!', 'who wants to chat?', 'who is the bigest turkey in here lol', 'what did you do to yourself 10-19-40sUser34 ?', 'hows everyone', 'good how are you', 'awwwwww', 'lmao 11-09-40sUser48', 'lmaoo', '18 M here, GIRLS PM ME', 'weeeeeeeeeeeeeeee!', 'lol', ' hows ya doing?', 'lol', 'lol', 'lol', ':)', 'lol', ' :)', 'Then what do you like 10-26-teensUser86?', 'Lmfao', 'stop it lol', ';-)', 'haha', 'oh lord..', 'what you up to sassy?', ' hugzzzzzzz', 'lol', 'lol', 'lol', 'lol 10-24-40sUser6', 'haha', 'lmao 11-08-20sUser21', 'lol', 'lol', 'lol', 'boo.', 'who 11-09-40sUser39??', ':(', ':-@', 'Lol', 'how are u 11-06-adultsUser35?', 'hahah 11-09-40sUser3', 'lol', 'what do you need a battery charger for 10-19-adultsUser28?', 'uh o', ' (((((((((((((11-08-40sUser7)))))))))', 'lol', \"10-19-30sUser9...what's your preference?\", 'You just want to humple her.', ':D', ':-o', 'lol', 'omg 11-09-40sUser31', 'double o0', 'LoL', 'lol 11-08-20sUser65!!!!', 'who wants to talk to me', ' ;-) ', 'yawn..', 'woohoo paypal', 'lol', 'lmao 10-19-adultsUser37     dang   ', 'Tell me what it is?', 'star asl?', 'hah', 'Oh by the way, to my American friends, Matt Hughes Or Rush St Pierre?', 'lol....', 'how ya doin 10-19-40sUser34 ', '(((10-24-40sUser11)))', 'lol', 'where are you 11-08-adultsUser59', 'who 10-19-adultsUser23???', 'lol 10-19-30sUser3 .... :)', 'lol', 'lol', 'Lol', 'raarrrrrr', '11-09-20sUser31 why arent you employed?', 'What happen to Jason 11-09-teensUser3? :/', \"nickleback? gay? ok if they aren't they sure as hell are thinking about it\", 'lol', ' ;-) ', 'really 11-08-adultsUser35? Why?', 'who is making 27 an hour? haha', 'lol', ':P', 'im well and yourself', 'fock', 'yeee haw 10-19-20sUser30', 'lol', 'whose the sick girl', 'Aw, man.', '((((((((((10-19-40sUser34))))))))))', 'lol', '   ;-) ', '11-09-40sUser34  ok here .. how have  you been ?', 'lol', 'hahaha', 'lol 11-08-20sUser21', 'ohwa. lol', 'whats ur major', 'hahaha', 'lmaooooo', ' :blush: ']]\n"
          ]
        }
      ]
    },
    {
      "cell_type": "markdown",
      "source": [],
      "metadata": {
        "id": "Aaz06CMRsUbO"
      }
    },
    {
      "cell_type": "markdown",
      "source": [
        "Create a list of the 200 most frequent tokens in the training set. You can access the text of a `post` object by calling `post.text`. Remember that the **split** function will use whitespace to tokenize a string: `some_string.split()`"
      ],
      "metadata": {
        "id": "38Klc5bHxDvW"
      }
    },
    {
      "cell_type": "code",
      "source": [
        "# Your solution here\n",
        "# Create a list of tokens from the training set\n",
        "tokens = [token for post in training_set[0] for token in post.split()]\n",
        "\n",
        "# Get the 200 most frequent tokens\n",
        "fd = nltk.FreqDist(tokens)\n",
        "most_frequent_tokens = [token for token, count in fd.most_common(200)]\n",
        "\n",
        "print(most_frequent_tokens)\n"
      ],
      "metadata": {
        "id": "cmBZL8wxso-q",
        "colab": {
          "base_uri": "https://localhost:8080/"
        },
        "outputId": "f301564a-1b3c-4851-d226-fb78dfff620e"
      },
      "execution_count": 76,
      "outputs": [
        {
          "output_type": "stream",
          "name": "stdout",
          "text": [
            "['lol', 'you', 'what', 'how', 'are', 'the', 'who', 'lmao', 'is', 'to', 'LOL', 'u', 'haha', 'where', ':)', 'why', 'in', 'do', 'whats', 'a', 'and', 'up', 'that', 'did', 'here', 'so', 'it', 'about', 'of', 'was', 'omg', 'your', 'LoL', 'LMAO', ';-)', '?', 'r', 'ok', 'for', 'damn', ';)', ':-)', 'I', 'hahaha', 'good', 'i', 'me', 'oh', 'have', 'doing', 'everyone', 'we', '@', 'all', '((((((((((', 'wants', '11-08-adultsUser65', 'come', 'What', 'ya', ':P', 'ha', 'but', 'hows', 'when', 'been', 'with', '11-09-40sUser18', '10-19-adultsUser23', '10-19-adultsUser47', 'you?', 'from', '10-19-adultsUser35', 'what?', 'he', 'How', 'on', 'why?', '???', 'my', '??', '11-08-20sUser21', '10-19-40sUser34', 'should', '10-19-adultsUser28', 'girl', 'sang', 'at', '10-19-adultsUser32', 'Lol', \"what's\", 'like', '10-19-40sUser9', 'hi', 'Who', 'from?', '..', 'hey', 'just', 'there', 'does', 'doin', '10-24-40sUser41', 'much', 'song', 'hehe', '10-19-30sUser11', 'know', 'wtf', 'many', 'her', '10-19-30sUser17', 'or', 'asl', '.', 'that?', 'hehehe', 'happened', 'same', '11-09-40sUser48', '11-09-40sUser31', 'not', 'lmaooo', '10-19-40sUser3', 'talk', ')))))))))))))', 'hehehehe', 'name', 'aw', 'im', '10-19-20sUser7', 'o0', '10-24-40sUser19', '11-09-40sUser7', 'whos', 'time', 'hahah', 'really', 'they', 'say', ')))))))))))', '10-24-40sUser34', ':tongue:', 'were', '10-19-30sUser31', 'talkin', 'play', '11-08-adultsUser3', 'doing?', '10-19-30sUser19', 'hell', 'lol....', '11-08-40sUser66', 'want', 'nick', 'lol,', 'get', 'tv', 'Why', 'laffs', '11-09-40sUser30', 'o.O', '=(', 'boo.', '11-08-40sUser48', ':-@', 'day', 'today?', '10-19-adultsUser16', 'which', 'red?', 'tonight', 'thanks', 'lmaoo', '11-09-20sUser156', 'am', '11-09-40sUser49', 'has', 'cool', '10-19-adultsUser1', '10-19-adultsUser36', 'goin', ':-o', 'if', '11-06-adultsUser105', 'dang', 'back', '11-09-40sUser39', '....', 'well', 'someone', 'stop', 'maybe', 'sings', 'hiya', ':O', 'type', 'music', 'good,', 'dear?']\n"
          ]
        }
      ]
    },
    {
      "cell_type": "markdown",
      "source": [
        "\n",
        "Define two feature selection functions that take a string as input and output a dictionary of features:\n",
        "* `get_word_features(string)`\n",
        "* `get_custom_features(string)`\n",
        "\n",
        "Begin by defining `get_word_features`. This function should use the words as features, just like in the movie review example above.\n",
        "\n",
        "\n"
      ],
      "metadata": {
        "id": "tyC-0es9KwTq"
      }
    },
    {
      "cell_type": "code",
      "source": [
        "# Your solution here\n",
        "def get_word_features(most_frequent_tokens):\n",
        "  return {token: True for token in most_frequent_tokens}"
      ],
      "metadata": {
        "id": "6b6mKRLiFqEo"
      },
      "execution_count": 78,
      "outputs": []
    },
    {
      "cell_type": "markdown",
      "source": [
        "Next, define `get_custom_features`. This function should extract the features from the text that characterize the **Emotion** and **whQuestions** classes."
      ],
      "metadata": {
        "id": "n4LmO-UaJCHj"
      }
    },
    {
      "cell_type": "code",
      "source": [
        "# Your solution here\n",
        "def get_custom_features(custom):\n",
        "  # custom = custom.lower()\n",
        "  features = [\"who\", \"what\", \"when\", \"where\", \"why\", \"how\", \"!\", \"?\", \"lol\", \"hahaha\", \":)\", \":(\", \"lmao\", \"rofl\", \"teehee\", \"XD\", \":-)\", \"8D\", \":X\", \":-/\", \":/\", \"<3\", \":'(\"]\n",
        "  return {token: token in features for token in custom}\n"
      ],
      "metadata": {
        "id": "w9CBUttQKEzs"
      },
      "execution_count": 87,
      "outputs": []
    },
    {
      "cell_type": "markdown",
      "source": [
        "Conduct the following tasks:\n",
        "*   Train two Naive Bayes classifiers on the **Emotion + whQuestions** training set: one that uses the `get_word_features` function and another using `get_custom_features`.\n",
        "*   Evaluate each classifier on the test set. How accurate are they? Which one is better?\n",
        "*   What are the 20 most informative features for each classifier?\n"
      ],
      "metadata": {
        "id": "KxGa5GS1J3aG"
      }
    },
    {
      "cell_type": "code",
      "source": [
        "# Your solution here\n",
        "# extract the features\n",
        "training_word = get_word_features(most_frequent_tokens)\n",
        "training_custom = get_custom_features(most_frequent_tokens)\n",
        "\n",
        "print(training_word)\n",
        "print(training_custom)\n",
        "\n",
        "# Prepare the data for the classifier using get_word_features\n",
        "training_word_features = [(get_word_features(post), post.get('class')) for post in training_set]\n",
        "test_word_features = [(get_word_features(post), post.get('class')) for post in test_set]\n",
        "\n",
        "# Prepare the data for the classifier using get_custom_features\n",
        "training_custom_features = [(get_custom_features(post), post.get('class')) for post in training_set]\n",
        "test_custom_features = [(get_custom_features(post), post.get('class')) for post in test_set]\n",
        "\n",
        "# train the classifier\n",
        "clf1 = nltk.NaiveBayesClassifier.train(training_word_features)\n",
        "clf2 = nltk.NaiveBayesClassifier.train(training_custom_features)\n",
        "\n",
        "\n",
        "\n",
        "# evaluate the classifier\n",
        "print(f\"Accuracy clf1: {nltk.classify.accuracy(clf1, test_word_features)}\")\n",
        "print(f\"Accuracy clf2: {nltk.classify.accuracy(clf2, test_custom_features)}\")\n",
        "\n",
        "# show the most informative features\n",
        "clf1.show_most_informative_features(20)\n",
        "clf2.show_most_informative_features(20)\n"
      ],
      "metadata": {
        "id": "15ERz1hnK8at",
        "colab": {
          "base_uri": "https://localhost:8080/",
          "height": 479
        },
        "outputId": "55fc591a-7918-4be0-c0a4-20c2839117b9"
      },
      "execution_count": 93,
      "outputs": [
        {
          "output_type": "stream",
          "name": "stdout",
          "text": [
            "{'lol': True, 'you': True, 'what': True, 'how': True, 'are': True, 'the': True, 'who': True, 'lmao': True, 'is': True, 'to': True, 'LOL': True, 'u': True, 'haha': True, 'where': True, ':)': True, 'why': True, 'in': True, 'do': True, 'whats': True, 'a': True, 'and': True, 'up': True, 'that': True, 'did': True, 'here': True, 'so': True, 'it': True, 'about': True, 'of': True, 'was': True, 'omg': True, 'your': True, 'LoL': True, 'LMAO': True, ';-)': True, '?': True, 'r': True, 'ok': True, 'for': True, 'damn': True, ';)': True, ':-)': True, 'I': True, 'hahaha': True, 'good': True, 'i': True, 'me': True, 'oh': True, 'have': True, 'doing': True, 'everyone': True, 'we': True, '@': True, 'all': True, '((((((((((': True, 'wants': True, '11-08-adultsUser65': True, 'come': True, 'What': True, 'ya': True, ':P': True, 'ha': True, 'but': True, 'hows': True, 'when': True, 'been': True, 'with': True, '11-09-40sUser18': True, '10-19-adultsUser23': True, '10-19-adultsUser47': True, 'you?': True, 'from': True, '10-19-adultsUser35': True, 'what?': True, 'he': True, 'How': True, 'on': True, 'why?': True, '???': True, 'my': True, '??': True, '11-08-20sUser21': True, '10-19-40sUser34': True, 'should': True, '10-19-adultsUser28': True, 'girl': True, 'sang': True, 'at': True, '10-19-adultsUser32': True, 'Lol': True, \"what's\": True, 'like': True, '10-19-40sUser9': True, 'hi': True, 'Who': True, 'from?': True, '..': True, 'hey': True, 'just': True, 'there': True, 'does': True, 'doin': True, '10-24-40sUser41': True, 'much': True, 'song': True, 'hehe': True, '10-19-30sUser11': True, 'know': True, 'wtf': True, 'many': True, 'her': True, '10-19-30sUser17': True, 'or': True, 'asl': True, '.': True, 'that?': True, 'hehehe': True, 'happened': True, 'same': True, '11-09-40sUser48': True, '11-09-40sUser31': True, 'not': True, 'lmaooo': True, '10-19-40sUser3': True, 'talk': True, ')))))))))))))': True, 'hehehehe': True, 'name': True, 'aw': True, 'im': True, '10-19-20sUser7': True, 'o0': True, '10-24-40sUser19': True, '11-09-40sUser7': True, 'whos': True, 'time': True, 'hahah': True, 'really': True, 'they': True, 'say': True, ')))))))))))': True, '10-24-40sUser34': True, ':tongue:': True, 'were': True, '10-19-30sUser31': True, 'talkin': True, 'play': True, '11-08-adultsUser3': True, 'doing?': True, '10-19-30sUser19': True, 'hell': True, 'lol....': True, '11-08-40sUser66': True, 'want': True, 'nick': True, 'lol,': True, 'get': True, 'tv': True, 'Why': True, 'laffs': True, '11-09-40sUser30': True, 'o.O': True, '=(': True, 'boo.': True, '11-08-40sUser48': True, ':-@': True, 'day': True, 'today?': True, '10-19-adultsUser16': True, 'which': True, 'red?': True, 'tonight': True, 'thanks': True, 'lmaoo': True, '11-09-20sUser156': True, 'am': True, '11-09-40sUser49': True, 'has': True, 'cool': True, '10-19-adultsUser1': True, '10-19-adultsUser36': True, 'goin': True, ':-o': True, 'if': True, '11-06-adultsUser105': True, 'dang': True, 'back': True, '11-09-40sUser39': True, '....': True, 'well': True, 'someone': True, 'stop': True, 'maybe': True, 'sings': True, 'hiya': True, ':O': True, 'type': True, 'music': True, 'good,': True, 'dear?': True}\n",
            "{'lol': True, 'you': False, 'what': True, 'how': True, 'are': False, 'the': False, 'who': True, 'lmao': True, 'is': False, 'to': False, 'LOL': False, 'u': False, 'haha': False, 'where': True, ':)': True, 'why': True, 'in': False, 'do': False, 'whats': False, 'a': False, 'and': False, 'up': False, 'that': False, 'did': False, 'here': False, 'so': False, 'it': False, 'about': False, 'of': False, 'was': False, 'omg': False, 'your': False, 'LoL': False, 'LMAO': False, ';-)': False, '?': True, 'r': False, 'ok': False, 'for': False, 'damn': False, ';)': False, ':-)': True, 'I': False, 'hahaha': True, 'good': False, 'i': False, 'me': False, 'oh': False, 'have': False, 'doing': False, 'everyone': False, 'we': False, '@': False, 'all': False, '((((((((((': False, 'wants': False, '11-08-adultsUser65': False, 'come': False, 'What': False, 'ya': False, ':P': False, 'ha': False, 'but': False, 'hows': False, 'when': True, 'been': False, 'with': False, '11-09-40sUser18': False, '10-19-adultsUser23': False, '10-19-adultsUser47': False, 'you?': False, 'from': False, '10-19-adultsUser35': False, 'what?': False, 'he': False, 'How': False, 'on': False, 'why?': False, '???': False, 'my': False, '??': False, '11-08-20sUser21': False, '10-19-40sUser34': False, 'should': False, '10-19-adultsUser28': False, 'girl': False, 'sang': False, 'at': False, '10-19-adultsUser32': False, 'Lol': False, \"what's\": False, 'like': False, '10-19-40sUser9': False, 'hi': False, 'Who': False, 'from?': False, '..': False, 'hey': False, 'just': False, 'there': False, 'does': False, 'doin': False, '10-24-40sUser41': False, 'much': False, 'song': False, 'hehe': False, '10-19-30sUser11': False, 'know': False, 'wtf': False, 'many': False, 'her': False, '10-19-30sUser17': False, 'or': False, 'asl': False, '.': False, 'that?': False, 'hehehe': False, 'happened': False, 'same': False, '11-09-40sUser48': False, '11-09-40sUser31': False, 'not': False, 'lmaooo': False, '10-19-40sUser3': False, 'talk': False, ')))))))))))))': False, 'hehehehe': False, 'name': False, 'aw': False, 'im': False, '10-19-20sUser7': False, 'o0': False, '10-24-40sUser19': False, '11-09-40sUser7': False, 'whos': False, 'time': False, 'hahah': False, 'really': False, 'they': False, 'say': False, ')))))))))))': False, '10-24-40sUser34': False, ':tongue:': False, 'were': False, '10-19-30sUser31': False, 'talkin': False, 'play': False, '11-08-adultsUser3': False, 'doing?': False, '10-19-30sUser19': False, 'hell': False, 'lol....': False, '11-08-40sUser66': False, 'want': False, 'nick': False, 'lol,': False, 'get': False, 'tv': False, 'Why': False, 'laffs': False, '11-09-40sUser30': False, 'o.O': False, '=(': False, 'boo.': False, '11-08-40sUser48': False, ':-@': False, 'day': False, 'today?': False, '10-19-adultsUser16': False, 'which': False, 'red?': False, 'tonight': False, 'thanks': False, 'lmaoo': False, '11-09-20sUser156': False, 'am': False, '11-09-40sUser49': False, 'has': False, 'cool': False, '10-19-adultsUser1': False, '10-19-adultsUser36': False, 'goin': False, ':-o': False, 'if': False, '11-06-adultsUser105': False, 'dang': False, 'back': False, '11-09-40sUser39': False, '....': False, 'well': False, 'someone': False, 'stop': False, 'maybe': False, 'sings': False, 'hiya': False, ':O': False, 'type': False, 'music': False, 'good,': False, 'dear?': False}\n"
          ]
        },
        {
          "output_type": "error",
          "ename": "AttributeError",
          "evalue": "'list' object has no attribute 'get'",
          "traceback": [
            "\u001b[0;31m---------------------------------------------------------------------------\u001b[0m",
            "\u001b[0;31mAttributeError\u001b[0m                            Traceback (most recent call last)",
            "\u001b[0;32m<ipython-input-93-592a6384c425>\u001b[0m in \u001b[0;36m<cell line: 10>\u001b[0;34m()\u001b[0m\n\u001b[1;32m      8\u001b[0m \u001b[0;34m\u001b[0m\u001b[0m\n\u001b[1;32m      9\u001b[0m \u001b[0;31m# 1. Prepare the data for the classifier using get_word_features\u001b[0m\u001b[0;34m\u001b[0m\u001b[0;34m\u001b[0m\u001b[0m\n\u001b[0;32m---> 10\u001b[0;31m \u001b[0mtraining_word_features\u001b[0m \u001b[0;34m=\u001b[0m \u001b[0;34m[\u001b[0m\u001b[0;34m(\u001b[0m\u001b[0mget_word_features\u001b[0m\u001b[0;34m(\u001b[0m\u001b[0mpost\u001b[0m\u001b[0;34m)\u001b[0m\u001b[0;34m,\u001b[0m \u001b[0mpost\u001b[0m\u001b[0;34m.\u001b[0m\u001b[0mget\u001b[0m\u001b[0;34m(\u001b[0m\u001b[0;34m'class'\u001b[0m\u001b[0;34m)\u001b[0m\u001b[0;34m)\u001b[0m \u001b[0;32mfor\u001b[0m \u001b[0mpost\u001b[0m \u001b[0;32min\u001b[0m \u001b[0mtraining_set\u001b[0m\u001b[0;34m]\u001b[0m\u001b[0;34m\u001b[0m\u001b[0;34m\u001b[0m\u001b[0m\n\u001b[0m\u001b[1;32m     11\u001b[0m \u001b[0mtest_word_features\u001b[0m \u001b[0;34m=\u001b[0m \u001b[0;34m[\u001b[0m\u001b[0;34m(\u001b[0m\u001b[0mget_word_features\u001b[0m\u001b[0;34m(\u001b[0m\u001b[0mpost\u001b[0m\u001b[0;34m)\u001b[0m\u001b[0;34m,\u001b[0m \u001b[0mpost\u001b[0m\u001b[0;34m.\u001b[0m\u001b[0mget\u001b[0m\u001b[0;34m(\u001b[0m\u001b[0;34m'class'\u001b[0m\u001b[0;34m)\u001b[0m\u001b[0;34m)\u001b[0m \u001b[0;32mfor\u001b[0m \u001b[0mpost\u001b[0m \u001b[0;32min\u001b[0m \u001b[0mtest_set\u001b[0m\u001b[0;34m]\u001b[0m\u001b[0;34m\u001b[0m\u001b[0;34m\u001b[0m\u001b[0m\n\u001b[1;32m     12\u001b[0m \u001b[0;34m\u001b[0m\u001b[0m\n",
            "\u001b[0;32m<ipython-input-93-592a6384c425>\u001b[0m in \u001b[0;36m<listcomp>\u001b[0;34m(.0)\u001b[0m\n\u001b[1;32m      8\u001b[0m \u001b[0;34m\u001b[0m\u001b[0m\n\u001b[1;32m      9\u001b[0m \u001b[0;31m# 1. Prepare the data for the classifier using get_word_features\u001b[0m\u001b[0;34m\u001b[0m\u001b[0;34m\u001b[0m\u001b[0m\n\u001b[0;32m---> 10\u001b[0;31m \u001b[0mtraining_word_features\u001b[0m \u001b[0;34m=\u001b[0m \u001b[0;34m[\u001b[0m\u001b[0;34m(\u001b[0m\u001b[0mget_word_features\u001b[0m\u001b[0;34m(\u001b[0m\u001b[0mpost\u001b[0m\u001b[0;34m)\u001b[0m\u001b[0;34m,\u001b[0m \u001b[0mpost\u001b[0m\u001b[0;34m.\u001b[0m\u001b[0mget\u001b[0m\u001b[0;34m(\u001b[0m\u001b[0;34m'class'\u001b[0m\u001b[0;34m)\u001b[0m\u001b[0;34m)\u001b[0m \u001b[0;32mfor\u001b[0m \u001b[0mpost\u001b[0m \u001b[0;32min\u001b[0m \u001b[0mtraining_set\u001b[0m\u001b[0;34m]\u001b[0m\u001b[0;34m\u001b[0m\u001b[0;34m\u001b[0m\u001b[0m\n\u001b[0m\u001b[1;32m     11\u001b[0m \u001b[0mtest_word_features\u001b[0m \u001b[0;34m=\u001b[0m \u001b[0;34m[\u001b[0m\u001b[0;34m(\u001b[0m\u001b[0mget_word_features\u001b[0m\u001b[0;34m(\u001b[0m\u001b[0mpost\u001b[0m\u001b[0;34m)\u001b[0m\u001b[0;34m,\u001b[0m \u001b[0mpost\u001b[0m\u001b[0;34m.\u001b[0m\u001b[0mget\u001b[0m\u001b[0;34m(\u001b[0m\u001b[0;34m'class'\u001b[0m\u001b[0;34m)\u001b[0m\u001b[0;34m)\u001b[0m \u001b[0;32mfor\u001b[0m \u001b[0mpost\u001b[0m \u001b[0;32min\u001b[0m \u001b[0mtest_set\u001b[0m\u001b[0;34m]\u001b[0m\u001b[0;34m\u001b[0m\u001b[0;34m\u001b[0m\u001b[0m\n\u001b[1;32m     12\u001b[0m \u001b[0;34m\u001b[0m\u001b[0m\n",
            "\u001b[0;31mAttributeError\u001b[0m: 'list' object has no attribute 'get'"
          ]
        }
      ]
    }
  ]
}