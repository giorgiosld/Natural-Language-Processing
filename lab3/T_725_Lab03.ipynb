{
  "nbformat": 4,
  "nbformat_minor": 0,
  "metadata": {
    "colab": {
      "provenance": [],
      "include_colab_link": true
    },
    "kernelspec": {
      "name": "python3",
      "display_name": "Python 3"
    }
  },
  "cells": [
    {
      "cell_type": "markdown",
      "metadata": {
        "id": "view-in-github",
        "colab_type": "text"
      },
      "source": [
        "<a href=\"https://colab.research.google.com/github/giorgiosld/Natural-Language-Processing/blob/main/lab3/T_725_Lab03.ipynb\" target=\"_parent\"><img src=\"https://colab.research.google.com/assets/colab-badge.svg\" alt=\"Open In Colab\"/></a>"
      ]
    },
    {
      "cell_type": "markdown",
      "metadata": {
        "id": "4gb8JZdRCj6L"
      },
      "source": [
        "# T-725 Natural Language Processing: Lab 3\n",
        "In today's lab, we will be working with logistic regression and part-of-speech tagging, and word embeddings.\n",
        "\n",
        "To begin with, do the following:\n",
        "* Select `\"File\" > \"Save a copy in Drive\"` to create a local copy of this notebook that you can edit.\n",
        "* Select `\"Runtime\" > \"Run all\"` to run the code in this notebook."
      ]
    },
    {
      "cell_type": "markdown",
      "metadata": {
        "id": "rL4Pb6jbR0_j"
      },
      "source": [
        "## Extracting numerical features from text\n",
        "Machine learning algorithms generally only accept numerical input, meaning that we must represent all features numerically. For example, to classify a single sentence, we might pass a classifier a list of word counts in that sentence, or a list of `True` and `False` values (which have numerical values of 1 and 0, respectively), representing the presence or absence of particular words.\n",
        "\n",
        "[Scikit-learn](https://scikit-learn.org/stable/) is a popular machine learning library for Python that implements a wide variety of machine learning algorithms, including naive Bayesian and logistic regression. It also offers a convenient way to extract numerical features from text, for example with the [CountVectorizer](https://scikit-learn.org/stable/modules/generated/sklearn.feature_extraction.text.CountVectorizer.html) class. `CountVectorizer` is used to generate feature vectors containing character or word n-gram counts for any n within a given range (e.g., `ngram_range=(2, 2)` for only bigrams, or `ngram_range(1, 3)` for unigrams, bigrams and trigrams). The `CountVectorizer` has an attribute called `analyzer` that can be set to 'char' for character n-grams."
      ]
    },
    {
      "cell_type": "code",
      "metadata": {
        "id": "1bMHZMO5TNbd",
        "colab": {
          "base_uri": "https://localhost:8080/"
        },
        "outputId": "febeaecf-4679-4c6e-8cbf-e1384b2d085e"
      },
      "source": [
        "from sklearn.feature_extraction.text import CountVectorizer\n",
        "\n",
        "# Initialize a vectorizer that counts word bigrams\n",
        "vectorizer = CountVectorizer(ngram_range=(2, 2))\n",
        "\n",
        "# Count all bigrams in the sentences and create a feature vector\n",
        "sentences = [\"It was the best of times, it was the worst of times,\",\n",
        "             \"it was the age of wisdom, it was the age of foolishness,\"]\n",
        "\n",
        "vector = vectorizer.fit_transform(sentences)\n",
        "\n",
        "print(\"Bigrams:\", vectorizer.get_feature_names_out())\n",
        "print(\"\\nFeatures:\")\n",
        "print(vector.toarray())"
      ],
      "execution_count": null,
      "outputs": [
        {
          "output_type": "stream",
          "name": "stdout",
          "text": [
            "Bigrams: ['age of' 'best of' 'it was' 'of foolishness' 'of times' 'of wisdom'\n",
            " 'the age' 'the best' 'the worst' 'times it' 'was the' 'wisdom it'\n",
            " 'worst of']\n",
            "\n",
            "Features:\n",
            "[[0 1 2 0 2 0 0 1 1 1 2 0 1]\n",
            " [2 0 2 1 0 1 2 0 0 0 2 1 0]]\n"
          ]
        }
      ]
    },
    {
      "cell_type": "markdown",
      "metadata": {
        "id": "Ie-9LuaLX_Yw"
      },
      "source": [
        "Here, `vectorizer` created a matrix with 13 columns (one for each bigram) and two rows (one for each sentence). Each row consists of bigram counts for the corresponding sentence. For example, the first sentence has the bigram counts `[0 1 2 0 2 0 0 1 1 1 2 0 1]`, which means that it contains 0 instances of \"age of\", 1 instance of \"best of\", two instances of \"it was\", and so on (we can see which column represents which bigram with `vecorizer.get_feature_names()`)."
      ]
    },
    {
      "cell_type": "markdown",
      "metadata": {
        "id": "Y1Jb9cBxhTMh"
      },
      "source": [
        "## Creating training and test sets\n",
        "Scikit-learn lets us quickly split data into training and test sets with the [train_test_split()](https://scikit-learn.org/stable/modules/generated/sklearn.model_selection.train_test_split.html) function. Note that by convention, examples are generally denoted with a capital X while labels are denoted with a lowercase y. Let's create a training and test set for the subjectivity corpus from the NLTK:"
      ]
    },
    {
      "cell_type": "code",
      "metadata": {
        "id": "4YbXr6-KhYDR"
      },
      "source": [
        "import nltk\n",
        "from nltk.corpus import subjectivity\n",
        "from sklearn.model_selection import train_test_split\n",
        "\n",
        "# Download the subjectivity corpus and get the sentences for each category\n",
        "nltk.download('subjectivity')\n",
        "\n",
        "obj_fileids = subjectivity.fileids('obj')\n",
        "subj_fileids = subjectivity.fileids('subj')\n",
        "\n",
        "# Let's get the untokenized sentences from each category\n",
        "obj_sentences = subjectivity.raw(obj_fileids).splitlines()\n",
        "subj_sentences = subjectivity.raw(subj_fileids).splitlines()\n",
        "\n",
        "X = obj_sentences + subj_sentences\n",
        "y = ['obj'] * 5000 + ['subj'] * 5000\n",
        "\n",
        "# Create a word unigram count vectorizer and generate the feature vectors\n",
        "vectorizer = CountVectorizer(ngram_range=(1, 1))\n",
        "X_vectorized = vectorizer.fit_transform(X)\n",
        "\n",
        "# Create a training and test set (80%/20% split). This function always shuffles\n",
        "# the examples before making the split, but we can make sure that it always\n",
        "# shuffles them the same way by specifying a specific random_state value.\n",
        "X_train, X_test, y_train, y_test = train_test_split(X_vectorized,\n",
        "                                                    y,\n",
        "                                                    test_size=0.2,\n",
        "                                                    random_state=42)"
      ],
      "execution_count": null,
      "outputs": []
    },
    {
      "cell_type": "markdown",
      "metadata": {
        "id": "wCTmsvXzgY-C"
      },
      "source": [
        "## Logistic regression\n",
        "We can create a logistic regression classifier with the [LogisticRegression](https://scikit-learn.org/stable/modules/generated/sklearn.linear_model.LogisticRegression.html) class:"
      ]
    },
    {
      "cell_type": "code",
      "metadata": {
        "id": "TGffjsuFghoi"
      },
      "source": [
        "from sklearn.linear_model import LogisticRegression\n",
        "\n",
        "subj_clf = LogisticRegression(solver='liblinear')\n",
        "subj_clf.fit(X_train, y_train)  # Train the model\n",
        "score = subj_clf.score(X_test, y_test)  # Evaluate the model on the test set\n",
        "print(\"Accuracy: {:.1%}\".format(score))"
      ],
      "execution_count": null,
      "outputs": []
    },
    {
      "cell_type": "markdown",
      "metadata": {
        "id": "0ZEznKZAuj1-"
      },
      "source": [
        "Our logistic regression classifier obtains an accuracy of 90.2%, which is quite a bit higher than the accuracy obtained by NLTK's naive Bayes classifier in a previous lab.\n",
        "\n",
        "Once the classifier is trained, we can use it to classify new sentences:"
      ]
    },
    {
      "cell_type": "code",
      "metadata": {
        "id": "3Ev9cbxGunWk"
      },
      "source": [
        "example_sentences = [\n",
        "  \"Monty Python's Flying Circus, the British comedy group which gained fame via\\\n",
        "   BBC-TV, send-up Arthurian legend, performed in whimsical fashion with Graham\\\n",
        "   Chapman an effective straight man as King Arthur.\",\n",
        "  \"The funniest movie of 1975 and probably the silliest movie ever made.\"\n",
        "]\n",
        "\n",
        "features = vectorizer.transform(example_sentences)\n",
        "subj_clf.predict(features)"
      ],
      "execution_count": null,
      "outputs": []
    },
    {
      "cell_type": "markdown",
      "metadata": {
        "id": "JKiN7bhwfk0j"
      },
      "source": [
        "## Pipelines\n",
        "Instead of having to call `vectorizer.transform()` every time we use the classifier, we can create a `Pipeline` that automatically extracts features for us."
      ]
    },
    {
      "cell_type": "code",
      "metadata": {
        "id": "nMuh7usegvTw",
        "colab": {
          "base_uri": "https://localhost:8080/",
          "height": 54
        },
        "outputId": "e422df05-cd6c-409a-8c28-1587b5254245"
      },
      "source": [
        "from sklearn.pipeline import Pipeline\n",
        "\n",
        "pipeline = Pipeline([\n",
        "    ('vect', CountVectorizer(ngram_range=(1, 1))),\n",
        "    ('clf', LogisticRegression(solver='liblinear'))\n",
        "])\n",
        "\n",
        "# The feature vectors are automatically created\n",
        "X_train, X_test, y_train, y_test = train_test_split(X,\n",
        "                                                    y,\n",
        "                                                    test_size=0.2,\n",
        "                                                    random_state=42)\n",
        "\n",
        "pipeline.fit(X_train, y_train)\n",
        "score = pipeline.score(X_test, y_test)\n",
        "print(\"Accuracy: {:.1%}\".format(score))\n",
        "\n",
        "pipeline.predict(example_sentences)"
      ],
      "execution_count": null,
      "outputs": [
        {
          "output_type": "stream",
          "text": [
            "Accuracy: 90.2%\n"
          ],
          "name": "stdout"
        },
        {
          "output_type": "execute_result",
          "data": {
            "text/plain": [
              "array(['obj', 'subj'], dtype='<U4')"
            ]
          },
          "metadata": {
            "tags": []
          },
          "execution_count": 13
        }
      ]
    },
    {
      "cell_type": "markdown",
      "metadata": {
        "id": "c8AqtdrsdfZ0"
      },
      "source": [
        "## Creating word embeddings\n",
        "[Gensim](https://radimrehurek.com/gensim/) is a Python library that makes it easy to generate and work with word embeddings.\n",
        "\n",
        "Let's start by supressing some warnings from Gensim:"
      ]
    },
    {
      "cell_type": "code",
      "metadata": {
        "id": "R7ElxTOtl6UQ"
      },
      "source": [
        "import os\n",
        "import warnings\n",
        "\n",
        "# Suppress some warnings from Gensim about deprecated functions\n",
        "warnings.simplefilter(action='ignore', category=FutureWarning)\n",
        "warnings.simplefilter(action='ignore', category=DeprecationWarning)"
      ],
      "execution_count": null,
      "outputs": []
    },
    {
      "cell_type": "markdown",
      "source": [
        "Now, let's create word2vec embeddings for NLTK's movie review corpus:"
      ],
      "metadata": {
        "id": "fs583ebKoiXK"
      }
    },
    {
      "cell_type": "code",
      "metadata": {
        "id": "hLvQMJDrdvdW"
      },
      "source": [
        "import nltk\n",
        "from nltk.corpus import movie_reviews\n",
        "from gensim.models import Word2Vec\n",
        "\n",
        "nltk.download('movie_reviews')\n",
        "nltk.download('punkt')\n",
        "\n",
        "sents = movie_reviews.sents()\n",
        "movie_embeddings = Word2Vec(sents, epochs=1, min_count=5, vector_size=50)"
      ],
      "execution_count": null,
      "outputs": []
    },
    {
      "cell_type": "markdown",
      "metadata": {
        "id": "iHF4ReN-DVr3"
      },
      "source": [
        "What does the vector for *actor* look like?"
      ]
    },
    {
      "cell_type": "code",
      "metadata": {
        "id": "DpOAPLLktUmz"
      },
      "source": [
        "movie_embeddings.wv['actor']"
      ],
      "execution_count": null,
      "outputs": []
    },
    {
      "cell_type": "markdown",
      "metadata": {
        "id": "LEfsQ7TJCutn"
      },
      "source": [
        "# Assignment\n",
        "Answer the following questions and hand in your solution in Canvas before 23:59, Friday Sept 13th. Remember to save your file before uploading it."
      ]
    },
    {
      "cell_type": "markdown",
      "metadata": {
        "id": "a6Zayf9rC2cP"
      },
      "source": [
        "## Question 1\n",
        "The NLTK includes a copy of the *Universal Declaration of Human Rights* (UDHR) in over 300 languages, including Icelandic, Norwegian, Swedish, Danish, Finnish and Faroese.\n",
        "\n",
        "Create a `Pipeline` with a `CountVectorizer` and a `LogisticRegression` classifier that satisfies the following requirements:\n",
        "\n",
        "The `CountVectorizer` should:\n",
        "* Create character-level n-grams.\n",
        "* Generate unigram, bigram and trigram counts.\n",
        "\n",
        "The `LogisticRegression` classifier should:\n",
        "* Use the `liblinear` solver.\n",
        "\n",
        "Refer to Scikit-learn's reference for the [CountVectorizer](https://scikit-learn.org/stable/modules/generated/sklearn.feature_extraction.text.CountVectorizer.html) and [LogisticRegression](https://scikit-learn.org/stable/modules/generated/sklearn.linear_model.LogisticRegression.html) for information on possible parameters.\n",
        "\n",
        "Once you've created the pipeline, train it using the `train_udhr(pipeline)` function below, which returns the test examples and labels (and should not be modified). Report the accuracy of the classifier, and try making predictions on a few sentences from these languages, for example from Wikipedia ([is](https://is.wikipedia.org/wiki/Fors%C3%AD%C3%B0a), [no](https://no.wikipedia.org/wiki/Portal:Forside), [se](https://sv.wikipedia.org/wiki/Portal:Huvudsida), [da](https://da.wikipedia.org/wiki/Forside), [fi](https://fi.wikipedia.org/wiki/Wikipedia:Etusivu), [fo](https://fo.wikipedia.org/wiki/Fors%C3%AD%C3%B0a)). One sentence from each language is enough. Does the classifier perform as well as you would expect, given the reported accuracy?"
      ]
    },
    {
      "cell_type": "code",
      "metadata": {
        "id": "Gypk375K55Zj"
      },
      "source": [
        "# Don't change anything in this code cell\n",
        "import random\n",
        "from nltk.corpus import udhr\n",
        "nltk.download('udhr')\n",
        "\n",
        "def train_udhr(pipeline):\n",
        "  X = []\n",
        "  y = []\n",
        "\n",
        "  # The UDHR is quite small, so let's create 1,000 \"fake\" sentences in each\n",
        "  # language by randomly stringing together 3-15 words.\n",
        "  for lang in languages:\n",
        "    words = udhr.words(lang)\n",
        "    sents = [\" \".join(random.choices(words, k=random.randint(3, 15))) for x in range(1000)]\n",
        "    X.extend(sents)\n",
        "    y += [lang] * len(sents)\n",
        "\n",
        "  X_train, X_test, y_train, y_test = train_test_split(X,\n",
        "                                                      y,\n",
        "                                                      test_size=0.1,\n",
        "                                                      random_state=42)\n",
        "\n",
        "  # Train the classifier\n",
        "  pipeline.fit(X_train, y_train)\n",
        "  return X_test, y_test\n",
        "\n",
        "languages = ['Icelandic_Yslenska-Latin1',\n",
        "             'Norwegian-Latin1',\n",
        "             'Swedish_Svenska-Latin1',\n",
        "             'Danish_Dansk-Latin1',\n",
        "             'Finnish_Suomi-Latin1',\n",
        "             'Faroese-Latin1']"
      ],
      "execution_count": null,
      "outputs": []
    },
    {
      "cell_type": "code",
      "metadata": {
        "id": "i-sM02NcDrZb"
      },
      "source": [
        "# Your solution here\n"
      ],
      "execution_count": null,
      "outputs": []
    },
    {
      "cell_type": "markdown",
      "metadata": {
        "id": "HwetpCxTCwXB"
      },
      "source": [
        "## Question 2\n",
        "The logistic regression classifier below tries to determine which of the following tags should be assigned to a given word:\n",
        "* **NP** (proper nouns, singular),\n",
        "* **NP\\$** (proper nouns, singular and possessive),\n",
        "* **VBG** (verbs, present participle) or\n",
        "* **VBD** (verbs, past tense).\n",
        "\n",
        "The classifier makes its determination solely on characteristics of the word itself and does not make use of any contextual features. The function `extract_features(word)` extracts a list of numerical features from each word, currently only the length of a word and whether or not it ends with \"r\". Using these features, the classifier obtains an accuracy of 37.1%, which is quite poor. Replace the features that the `exctract_features()` function generates with your own. Use Python's [string methods](https://docs.python.org/3/library/stdtypes.html#string-methods) to generate the features, and try to get at least 99% accuracy.\n",
        "\n",
        "**Remember**: each feature must be numerical (or `True`/`False`), and don't forget to add a comma after each feature in the list."
      ]
    },
    {
      "cell_type": "code",
      "metadata": {
        "id": "-be0psqueELC"
      },
      "source": [
        "# Don't change anything in this code cell\n",
        "from collections import defaultdict\n",
        "from nltk.corpus import brown\n",
        "\n",
        "nltk.download('brown')\n",
        "\n",
        "def get_brown_tags(tag):\n",
        "  return sorted({w for s in brown_train for w, t in s if t == tag})\n",
        "\n",
        "def train_model():\n",
        "  # Create the training set\n",
        "  word_list = [word for tag_words in words for word in tag_words]\n",
        "  X = [extract_features(word) for word in word_list]\n",
        "  y = [tag for tag, tag_words in zip(tags, words) for word in tag_words]\n",
        "\n",
        "  # Train and evaluate the classifier\n",
        "  log_clf = LogisticRegression(solver='liblinear', multi_class='ovr')\n",
        "  log_clf.fit(X, y)\n",
        "  print(\"Accuracy: {:.1%}\".format(log_clf.score(X, y)))\n",
        "\n",
        "  # Print the accuracy for each tag\n",
        "  predictions = log_clf.predict(X)\n",
        "  errors = defaultdict(list)\n",
        "  for word, example, label, prediction in zip(word_list, X, y, predictions):\n",
        "    if label != prediction:\n",
        "      errors[label].append(word)\n",
        "\n",
        "  print(\"\\nAccuracy and first 10 errors per tag:\")\n",
        "  for tag, tag_words in zip(tags, words):\n",
        "    error_words = errors[tag]\n",
        "    num_total = len(tag_words)\n",
        "    num_correct = num_total - len(error_words)\n",
        "    ratio = num_correct / num_total\n",
        "    print(\"{:>3} {:,}/{:,} ({:.1%}) {}\".format(tag, num_correct, num_total, ratio,\n",
        "                                              \", \".join(error_words[:10])))\n",
        "\n",
        "# Download and prepare the Brown corpus for training and testing\n",
        "brown_train, brown_test = train_test_split(brown.tagged_sents(),\n",
        "                                           test_size=0.1,\n",
        "                                           random_state=42)\n",
        "\n",
        "print(\"Training sentences: {:,}\".format(len(brown_train)))\n",
        "print(\"Test sentences: {:,}\".format(len(brown_test)))\n",
        "\n",
        "# Get 1,000 examples of each tag\n",
        "tags = ['NP', 'NP$', 'VBG', 'VBD']\n",
        "random.seed(42)\n",
        "words = [random.sample(get_brown_tags(tag), 1000) for tag in tags]"
      ],
      "execution_count": null,
      "outputs": []
    },
    {
      "cell_type": "code",
      "metadata": {
        "id": "Ujpyyq8KGjN9"
      },
      "source": [
        "# Modify the features generated by this function and run the code cell to see\n",
        "# how your changes affect the accuracy of the classifier.\n",
        "def extract_features(word):\n",
        "  features = [\n",
        "      len(word),\n",
        "      word.endswith('r')\n",
        "  ]\n",
        "\n",
        "  return features\n",
        "\n",
        "# The errors listed by this function are words belonging to that tag that were\n",
        "# incorrectly assigned with another tag. Use them to figure out useful features.\n",
        "train_model()"
      ],
      "execution_count": null,
      "outputs": []
    },
    {
      "cell_type": "markdown",
      "metadata": {
        "id": "EiH2WoVmCyAV"
      },
      "source": [
        "## Question 3\n",
        "Word embeddings can capture semantic and syntactic relationships between words. For example, the vector between the words *king* and *man* is identical to the vector between *queen* and *woman* (i.e., *king* is to *man* as *queen* is to *woman*). This means that if we have a good vector representation for each of those words, we should be able to apply vector arithmetic to find that *king* - *man* + *woman* = *queen*.\n",
        "\n",
        "The function `find_word(a, b, x)`, defined below, finds the word **y**, such that **a** is to **b** as **x** is to **y** (also expressed as **a**:**b** as **x**:**y**).\n",
        "\n",
        "Below, we download GloVe word vectors through Gensim's API. Use those vectors and `find_words()` to complete the following tasks:\n",
        "1. In the UK, people say *petrol* instead of *gas*. Find the British English equivalent of the word *truck*.\n",
        "2. Find the capital of France.\n",
        "3. Find the present tense of the verb *flew*.\n",
        "\n",
        "**Note**: all words in `glove-wiki-gigaword-100` are in lowercase!"
      ]
    },
    {
      "cell_type": "code",
      "metadata": {
        "id": "jRFy2beIqXUa"
      },
      "source": [
        "import gensim.downloader as api\n",
        "glove = api.load(\"glove-wiki-gigaword-100\")\n",
        "\n",
        "def find_word(a, b, x):\n",
        "  # a is to b as x is to ?\n",
        "  a = a.lower()\n",
        "  b = b.lower()\n",
        "  x = x.lower()\n",
        "  print(f\"> {a}:{b} as {x}:?\")\n",
        "  top_words = glove.most_similar_cosmul(positive=[x, b], negative=[a])\n",
        "  for num, (word, score) in enumerate(top_words[:5]):\n",
        "    print(f\"{num + 1}: ({score:.3f}) {word}\")\n",
        "  print()"
      ],
      "execution_count": null,
      "outputs": []
    },
    {
      "cell_type": "code",
      "metadata": {
        "id": "2iqF6z-8okux"
      },
      "source": [
        "# Example 1: man is to king as woman is to ?\n",
        "find_word('man', 'king', 'woman')\n",
        "\n",
        "# Example 2: evening is to dinner as noon is to ?\n",
        "find_word('evening', 'dinner', 'noon')\n",
        "\n",
        "# 1) In the UK, people say 'petrol' instead of 'gas'. Find the British English\n",
        "# equivalent of 'truck'.\n",
        "\n",
        "\n",
        "# 2) Find the capital of France. Remember to use only lowercase characters.\n",
        "\n",
        "\n",
        "# 3) Find the present tense of the verb \"flew\".\n"
      ],
      "execution_count": null,
      "outputs": []
    },
    {
      "cell_type": "markdown",
      "metadata": {
        "id": "3-phpyFFCyjL"
      },
      "source": [
        "## Question 4\n",
        "Gensim offers us several ways to find words that are similar or dissimilar to one another. Complete the following tasks:\n",
        "1. Use `glove.most_similar(word, topn=5)` to find the five words that are most similar to:\n",
        "  1. cat\n",
        "  2. samsung\n",
        "  3. batman\n",
        "2. Use `glove.doesnt_match(list_of_strings)` to find which of the words below doesn't fit with the rest:\n",
        "  1. cat hamster gremlin rabbit goldfish dog\n",
        "  2. samsung microsoft dell panasonic mcdonalds facebook\n",
        "  3. batman spiderman daredevil shrek hulk deadpool"
      ]
    },
    {
      "cell_type": "code",
      "metadata": {
        "id": "rYGVE8bHCzA6"
      },
      "source": [
        "# Your solution here\n"
      ],
      "execution_count": null,
      "outputs": []
    }
  ]
}